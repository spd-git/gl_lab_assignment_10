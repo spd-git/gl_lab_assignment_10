{
 "cells": [
  {
   "cell_type": "markdown",
   "metadata": {},
   "source": [
    "**About Book Crossing Dataset**<br>\n",
    "\n",
    "This dataset has been compiled by Cai-Nicolas Ziegler in 2004, and it comprises of three tables for users, books and ratings. Explicit ratings are expressed on a scale from 1-10 (higher values denoting higher appreciation) and implicit rating is expressed by 0."
   ]
  },
  {
   "cell_type": "markdown",
   "metadata": {},
   "source": [
    "Reference: http://www2.informatik.uni-freiburg.de/~cziegler/BX/ "
   ]
  },
  {
   "cell_type": "markdown",
   "metadata": {},
   "source": [
    "**Objective**\n",
    "\n",
    "This project entails building a Book Recommender System for users based on user-based and item-based collaborative filtering approaches."
   ]
  },
  {
   "cell_type": "markdown",
   "metadata": {},
   "source": [
    "#### Execute the below cell to load the datasets"
   ]
  },
  {
   "cell_type": "code",
   "execution_count": 1,
   "metadata": {},
   "outputs": [],
   "source": [
    "import warnings \n",
    "warnings.filterwarnings('ignore')\n",
    "#Import all the necessary modules\n",
    "import pandas as pd\n",
    "import numpy as np\n",
    "import os\n",
    "import seaborn as sns\n",
    "import matplotlib.pyplot as plt\n",
    "import scipy.stats as stats\n",
    "%matplotlib inline"
   ]
  },
  {
   "cell_type": "code",
   "execution_count": 2,
   "metadata": {
    "scrolled": true
   },
   "outputs": [
    {
     "name": "stderr",
     "output_type": "stream",
     "text": [
      "b'Skipping line 6452: expected 8 fields, saw 9\\nSkipping line 43667: expected 8 fields, saw 10\\nSkipping line 51751: expected 8 fields, saw 9\\n'\n",
      "b'Skipping line 92038: expected 8 fields, saw 9\\nSkipping line 104319: expected 8 fields, saw 9\\nSkipping line 121768: expected 8 fields, saw 9\\n'\n",
      "b'Skipping line 144058: expected 8 fields, saw 9\\nSkipping line 150789: expected 8 fields, saw 9\\nSkipping line 157128: expected 8 fields, saw 9\\nSkipping line 180189: expected 8 fields, saw 9\\nSkipping line 185738: expected 8 fields, saw 9\\n'\n",
      "b'Skipping line 209388: expected 8 fields, saw 9\\nSkipping line 220626: expected 8 fields, saw 9\\nSkipping line 227933: expected 8 fields, saw 11\\nSkipping line 228957: expected 8 fields, saw 10\\nSkipping line 245933: expected 8 fields, saw 9\\nSkipping line 251296: expected 8 fields, saw 9\\nSkipping line 259941: expected 8 fields, saw 9\\nSkipping line 261529: expected 8 fields, saw 9\\n'\n"
     ]
    }
   ],
   "source": [
    "#Loading data\n",
    "books = pd.read_csv(\"books/books.csv\", sep=\";\", error_bad_lines=False, encoding=\"latin-1\")\n",
    "books.columns = ['ISBN', 'bookTitle', 'bookAuthor', 'yearOfPublication', 'publisher', 'imageUrlS', 'imageUrlM', 'imageUrlL']\n",
    "\n",
    "users = pd.read_csv('books/users.csv', sep=';', error_bad_lines=False, encoding=\"latin-1\")\n",
    "users.columns = ['userID', 'Location', 'Age']\n",
    "\n",
    "ratings = pd.read_csv('books/ratings.csv', sep=';', error_bad_lines=False, encoding=\"latin-1\")\n",
    "ratings.columns = ['userID', 'ISBN', 'bookRating']"
   ]
  },
  {
   "cell_type": "markdown",
   "metadata": {},
   "source": [
    "### Check no.of records and features given in each dataset"
   ]
  },
  {
   "cell_type": "code",
   "execution_count": 3,
   "metadata": {},
   "outputs": [
    {
     "data": {
      "text/plain": [
       "(271360, 8)"
      ]
     },
     "execution_count": 3,
     "metadata": {},
     "output_type": "execute_result"
    }
   ],
   "source": [
    "books.shape"
   ]
  },
  {
   "cell_type": "code",
   "execution_count": 4,
   "metadata": {},
   "outputs": [
    {
     "data": {
      "text/plain": [
       "ISBN                 object\n",
       "bookTitle            object\n",
       "bookAuthor           object\n",
       "yearOfPublication    object\n",
       "publisher            object\n",
       "imageUrlS            object\n",
       "imageUrlM            object\n",
       "imageUrlL            object\n",
       "dtype: object"
      ]
     },
     "execution_count": 4,
     "metadata": {},
     "output_type": "execute_result"
    }
   ],
   "source": [
    "books.dtypes"
   ]
  },
  {
   "cell_type": "code",
   "execution_count": 5,
   "metadata": {},
   "outputs": [
    {
     "data": {
      "text/plain": [
       "ISBN                 False\n",
       "bookTitle            False\n",
       "bookAuthor            True\n",
       "yearOfPublication    False\n",
       "publisher             True\n",
       "imageUrlS            False\n",
       "imageUrlM            False\n",
       "imageUrlL             True\n",
       "dtype: bool"
      ]
     },
     "execution_count": 5,
     "metadata": {},
     "output_type": "execute_result"
    }
   ],
   "source": [
    "books.isnull().any()"
   ]
  },
  {
   "cell_type": "code",
   "execution_count": 6,
   "metadata": {},
   "outputs": [
    {
     "data": {
      "text/html": [
       "<div>\n",
       "<style scoped>\n",
       "    .dataframe tbody tr th:only-of-type {\n",
       "        vertical-align: middle;\n",
       "    }\n",
       "\n",
       "    .dataframe tbody tr th {\n",
       "        vertical-align: top;\n",
       "    }\n",
       "\n",
       "    .dataframe thead th {\n",
       "        text-align: right;\n",
       "    }\n",
       "</style>\n",
       "<table border=\"1\" class=\"dataframe\">\n",
       "  <thead>\n",
       "    <tr style=\"text-align: right;\">\n",
       "      <th></th>\n",
       "      <th>ISBN</th>\n",
       "      <th>bookTitle</th>\n",
       "      <th>bookAuthor</th>\n",
       "      <th>yearOfPublication</th>\n",
       "      <th>publisher</th>\n",
       "      <th>imageUrlS</th>\n",
       "      <th>imageUrlM</th>\n",
       "      <th>imageUrlL</th>\n",
       "    </tr>\n",
       "  </thead>\n",
       "  <tbody>\n",
       "    <tr>\n",
       "      <th>0</th>\n",
       "      <td>0195153448</td>\n",
       "      <td>Classical Mythology</td>\n",
       "      <td>Mark P. O. Morford</td>\n",
       "      <td>2002</td>\n",
       "      <td>Oxford University Press</td>\n",
       "      <td>http://images.amazon.com/images/P/0195153448.0...</td>\n",
       "      <td>http://images.amazon.com/images/P/0195153448.0...</td>\n",
       "      <td>http://images.amazon.com/images/P/0195153448.0...</td>\n",
       "    </tr>\n",
       "    <tr>\n",
       "      <th>1</th>\n",
       "      <td>0002005018</td>\n",
       "      <td>Clara Callan</td>\n",
       "      <td>Richard Bruce Wright</td>\n",
       "      <td>2001</td>\n",
       "      <td>HarperFlamingo Canada</td>\n",
       "      <td>http://images.amazon.com/images/P/0002005018.0...</td>\n",
       "      <td>http://images.amazon.com/images/P/0002005018.0...</td>\n",
       "      <td>http://images.amazon.com/images/P/0002005018.0...</td>\n",
       "    </tr>\n",
       "    <tr>\n",
       "      <th>2</th>\n",
       "      <td>0060973129</td>\n",
       "      <td>Decision in Normandy</td>\n",
       "      <td>Carlo D'Este</td>\n",
       "      <td>1991</td>\n",
       "      <td>HarperPerennial</td>\n",
       "      <td>http://images.amazon.com/images/P/0060973129.0...</td>\n",
       "      <td>http://images.amazon.com/images/P/0060973129.0...</td>\n",
       "      <td>http://images.amazon.com/images/P/0060973129.0...</td>\n",
       "    </tr>\n",
       "    <tr>\n",
       "      <th>3</th>\n",
       "      <td>0374157065</td>\n",
       "      <td>Flu: The Story of the Great Influenza Pandemic...</td>\n",
       "      <td>Gina Bari Kolata</td>\n",
       "      <td>1999</td>\n",
       "      <td>Farrar Straus Giroux</td>\n",
       "      <td>http://images.amazon.com/images/P/0374157065.0...</td>\n",
       "      <td>http://images.amazon.com/images/P/0374157065.0...</td>\n",
       "      <td>http://images.amazon.com/images/P/0374157065.0...</td>\n",
       "    </tr>\n",
       "    <tr>\n",
       "      <th>4</th>\n",
       "      <td>0393045218</td>\n",
       "      <td>The Mummies of Urumchi</td>\n",
       "      <td>E. J. W. Barber</td>\n",
       "      <td>1999</td>\n",
       "      <td>W. W. Norton &amp;amp; Company</td>\n",
       "      <td>http://images.amazon.com/images/P/0393045218.0...</td>\n",
       "      <td>http://images.amazon.com/images/P/0393045218.0...</td>\n",
       "      <td>http://images.amazon.com/images/P/0393045218.0...</td>\n",
       "    </tr>\n",
       "  </tbody>\n",
       "</table>\n",
       "</div>"
      ],
      "text/plain": [
       "         ISBN                                          bookTitle  \\\n",
       "0  0195153448                                Classical Mythology   \n",
       "1  0002005018                                       Clara Callan   \n",
       "2  0060973129                               Decision in Normandy   \n",
       "3  0374157065  Flu: The Story of the Great Influenza Pandemic...   \n",
       "4  0393045218                             The Mummies of Urumchi   \n",
       "\n",
       "             bookAuthor yearOfPublication                   publisher  \\\n",
       "0    Mark P. O. Morford              2002     Oxford University Press   \n",
       "1  Richard Bruce Wright              2001       HarperFlamingo Canada   \n",
       "2          Carlo D'Este              1991             HarperPerennial   \n",
       "3      Gina Bari Kolata              1999        Farrar Straus Giroux   \n",
       "4       E. J. W. Barber              1999  W. W. Norton &amp; Company   \n",
       "\n",
       "                                           imageUrlS  \\\n",
       "0  http://images.amazon.com/images/P/0195153448.0...   \n",
       "1  http://images.amazon.com/images/P/0002005018.0...   \n",
       "2  http://images.amazon.com/images/P/0060973129.0...   \n",
       "3  http://images.amazon.com/images/P/0374157065.0...   \n",
       "4  http://images.amazon.com/images/P/0393045218.0...   \n",
       "\n",
       "                                           imageUrlM  \\\n",
       "0  http://images.amazon.com/images/P/0195153448.0...   \n",
       "1  http://images.amazon.com/images/P/0002005018.0...   \n",
       "2  http://images.amazon.com/images/P/0060973129.0...   \n",
       "3  http://images.amazon.com/images/P/0374157065.0...   \n",
       "4  http://images.amazon.com/images/P/0393045218.0...   \n",
       "\n",
       "                                           imageUrlL  \n",
       "0  http://images.amazon.com/images/P/0195153448.0...  \n",
       "1  http://images.amazon.com/images/P/0002005018.0...  \n",
       "2  http://images.amazon.com/images/P/0060973129.0...  \n",
       "3  http://images.amazon.com/images/P/0374157065.0...  \n",
       "4  http://images.amazon.com/images/P/0393045218.0...  "
      ]
     },
     "execution_count": 6,
     "metadata": {},
     "output_type": "execute_result"
    }
   ],
   "source": [
    "books.head()"
   ]
  },
  {
   "cell_type": "code",
   "execution_count": 7,
   "metadata": {},
   "outputs": [
    {
     "data": {
      "text/html": [
       "<div>\n",
       "<style scoped>\n",
       "    .dataframe tbody tr th:only-of-type {\n",
       "        vertical-align: middle;\n",
       "    }\n",
       "\n",
       "    .dataframe tbody tr th {\n",
       "        vertical-align: top;\n",
       "    }\n",
       "\n",
       "    .dataframe thead th {\n",
       "        text-align: right;\n",
       "    }\n",
       "</style>\n",
       "<table border=\"1\" class=\"dataframe\">\n",
       "  <thead>\n",
       "    <tr style=\"text-align: right;\">\n",
       "      <th></th>\n",
       "      <th>ISBN</th>\n",
       "      <th>bookTitle</th>\n",
       "      <th>bookAuthor</th>\n",
       "      <th>yearOfPublication</th>\n",
       "      <th>publisher</th>\n",
       "      <th>imageUrlS</th>\n",
       "      <th>imageUrlM</th>\n",
       "      <th>imageUrlL</th>\n",
       "    </tr>\n",
       "  </thead>\n",
       "  <tbody>\n",
       "    <tr>\n",
       "      <th>count</th>\n",
       "      <td>271360</td>\n",
       "      <td>271360</td>\n",
       "      <td>271359</td>\n",
       "      <td>271360</td>\n",
       "      <td>271358</td>\n",
       "      <td>271360</td>\n",
       "      <td>271360</td>\n",
       "      <td>271357</td>\n",
       "    </tr>\n",
       "    <tr>\n",
       "      <th>unique</th>\n",
       "      <td>271360</td>\n",
       "      <td>242135</td>\n",
       "      <td>102023</td>\n",
       "      <td>202</td>\n",
       "      <td>16807</td>\n",
       "      <td>271044</td>\n",
       "      <td>271044</td>\n",
       "      <td>271041</td>\n",
       "    </tr>\n",
       "    <tr>\n",
       "      <th>top</th>\n",
       "      <td>0141302364</td>\n",
       "      <td>Selected Poems</td>\n",
       "      <td>Agatha Christie</td>\n",
       "      <td>2002</td>\n",
       "      <td>Harlequin</td>\n",
       "      <td>http://images.amazon.com/images/P/043936213X.0...</td>\n",
       "      <td>http://images.amazon.com/images/P/038533690X.0...</td>\n",
       "      <td>http://images.amazon.com/images/P/014070728X.0...</td>\n",
       "    </tr>\n",
       "    <tr>\n",
       "      <th>freq</th>\n",
       "      <td>1</td>\n",
       "      <td>27</td>\n",
       "      <td>632</td>\n",
       "      <td>13903</td>\n",
       "      <td>7535</td>\n",
       "      <td>2</td>\n",
       "      <td>2</td>\n",
       "      <td>2</td>\n",
       "    </tr>\n",
       "  </tbody>\n",
       "</table>\n",
       "</div>"
      ],
      "text/plain": [
       "              ISBN       bookTitle       bookAuthor  yearOfPublication  \\\n",
       "count       271360          271360           271359             271360   \n",
       "unique      271360          242135           102023                202   \n",
       "top     0141302364  Selected Poems  Agatha Christie               2002   \n",
       "freq             1              27              632              13903   \n",
       "\n",
       "        publisher                                          imageUrlS  \\\n",
       "count      271358                                             271360   \n",
       "unique      16807                                             271044   \n",
       "top     Harlequin  http://images.amazon.com/images/P/043936213X.0...   \n",
       "freq         7535                                                  2   \n",
       "\n",
       "                                                imageUrlM  \\\n",
       "count                                              271360   \n",
       "unique                                             271044   \n",
       "top     http://images.amazon.com/images/P/038533690X.0...   \n",
       "freq                                                    2   \n",
       "\n",
       "                                                imageUrlL  \n",
       "count                                              271357  \n",
       "unique                                             271041  \n",
       "top     http://images.amazon.com/images/P/014070728X.0...  \n",
       "freq                                                    2  "
      ]
     },
     "execution_count": 7,
     "metadata": {},
     "output_type": "execute_result"
    }
   ],
   "source": [
    "books.describe()"
   ]
  },
  {
   "cell_type": "code",
   "execution_count": 8,
   "metadata": {},
   "outputs": [
    {
     "data": {
      "text/plain": [
       "(0, 8)"
      ]
     },
     "execution_count": 8,
     "metadata": {},
     "output_type": "execute_result"
    }
   ],
   "source": [
    "books[books.duplicated()].shape"
   ]
  },
  {
   "cell_type": "code",
   "execution_count": 9,
   "metadata": {},
   "outputs": [
    {
     "data": {
      "text/plain": [
       "(278858, 3)"
      ]
     },
     "execution_count": 9,
     "metadata": {},
     "output_type": "execute_result"
    }
   ],
   "source": [
    "users.shape"
   ]
  },
  {
   "cell_type": "code",
   "execution_count": 10,
   "metadata": {},
   "outputs": [
    {
     "data": {
      "text/plain": [
       "userID        int64\n",
       "Location     object\n",
       "Age         float64\n",
       "dtype: object"
      ]
     },
     "execution_count": 10,
     "metadata": {},
     "output_type": "execute_result"
    }
   ],
   "source": [
    "users.dtypes"
   ]
  },
  {
   "cell_type": "code",
   "execution_count": 11,
   "metadata": {},
   "outputs": [
    {
     "data": {
      "text/html": [
       "<div>\n",
       "<style scoped>\n",
       "    .dataframe tbody tr th:only-of-type {\n",
       "        vertical-align: middle;\n",
       "    }\n",
       "\n",
       "    .dataframe tbody tr th {\n",
       "        vertical-align: top;\n",
       "    }\n",
       "\n",
       "    .dataframe thead th {\n",
       "        text-align: right;\n",
       "    }\n",
       "</style>\n",
       "<table border=\"1\" class=\"dataframe\">\n",
       "  <thead>\n",
       "    <tr style=\"text-align: right;\">\n",
       "      <th></th>\n",
       "      <th>userID</th>\n",
       "      <th>Location</th>\n",
       "      <th>Age</th>\n",
       "    </tr>\n",
       "  </thead>\n",
       "  <tbody>\n",
       "    <tr>\n",
       "      <th>0</th>\n",
       "      <td>1</td>\n",
       "      <td>nyc, new york, usa</td>\n",
       "      <td>NaN</td>\n",
       "    </tr>\n",
       "    <tr>\n",
       "      <th>1</th>\n",
       "      <td>2</td>\n",
       "      <td>stockton, california, usa</td>\n",
       "      <td>18.0</td>\n",
       "    </tr>\n",
       "    <tr>\n",
       "      <th>2</th>\n",
       "      <td>3</td>\n",
       "      <td>moscow, yukon territory, russia</td>\n",
       "      <td>NaN</td>\n",
       "    </tr>\n",
       "    <tr>\n",
       "      <th>3</th>\n",
       "      <td>4</td>\n",
       "      <td>porto, v.n.gaia, portugal</td>\n",
       "      <td>17.0</td>\n",
       "    </tr>\n",
       "    <tr>\n",
       "      <th>4</th>\n",
       "      <td>5</td>\n",
       "      <td>farnborough, hants, united kingdom</td>\n",
       "      <td>NaN</td>\n",
       "    </tr>\n",
       "  </tbody>\n",
       "</table>\n",
       "</div>"
      ],
      "text/plain": [
       "   userID                            Location   Age\n",
       "0       1                  nyc, new york, usa   NaN\n",
       "1       2           stockton, california, usa  18.0\n",
       "2       3     moscow, yukon territory, russia   NaN\n",
       "3       4           porto, v.n.gaia, portugal  17.0\n",
       "4       5  farnborough, hants, united kingdom   NaN"
      ]
     },
     "execution_count": 11,
     "metadata": {},
     "output_type": "execute_result"
    }
   ],
   "source": [
    "users.head()"
   ]
  },
  {
   "cell_type": "code",
   "execution_count": 12,
   "metadata": {},
   "outputs": [
    {
     "data": {
      "text/plain": [
       "userID      False\n",
       "Location    False\n",
       "Age          True\n",
       "dtype: bool"
      ]
     },
     "execution_count": 12,
     "metadata": {},
     "output_type": "execute_result"
    }
   ],
   "source": [
    "users.isnull().any()"
   ]
  },
  {
   "cell_type": "code",
   "execution_count": 13,
   "metadata": {},
   "outputs": [
    {
     "data": {
      "text/html": [
       "<div>\n",
       "<style scoped>\n",
       "    .dataframe tbody tr th:only-of-type {\n",
       "        vertical-align: middle;\n",
       "    }\n",
       "\n",
       "    .dataframe tbody tr th {\n",
       "        vertical-align: top;\n",
       "    }\n",
       "\n",
       "    .dataframe thead th {\n",
       "        text-align: right;\n",
       "    }\n",
       "</style>\n",
       "<table border=\"1\" class=\"dataframe\">\n",
       "  <thead>\n",
       "    <tr style=\"text-align: right;\">\n",
       "      <th></th>\n",
       "      <th>userID</th>\n",
       "      <th>Age</th>\n",
       "    </tr>\n",
       "  </thead>\n",
       "  <tbody>\n",
       "    <tr>\n",
       "      <th>count</th>\n",
       "      <td>278858.00000</td>\n",
       "      <td>168096.000000</td>\n",
       "    </tr>\n",
       "    <tr>\n",
       "      <th>mean</th>\n",
       "      <td>139429.50000</td>\n",
       "      <td>34.751434</td>\n",
       "    </tr>\n",
       "    <tr>\n",
       "      <th>std</th>\n",
       "      <td>80499.51502</td>\n",
       "      <td>14.428097</td>\n",
       "    </tr>\n",
       "    <tr>\n",
       "      <th>min</th>\n",
       "      <td>1.00000</td>\n",
       "      <td>0.000000</td>\n",
       "    </tr>\n",
       "    <tr>\n",
       "      <th>25%</th>\n",
       "      <td>69715.25000</td>\n",
       "      <td>24.000000</td>\n",
       "    </tr>\n",
       "    <tr>\n",
       "      <th>50%</th>\n",
       "      <td>139429.50000</td>\n",
       "      <td>32.000000</td>\n",
       "    </tr>\n",
       "    <tr>\n",
       "      <th>75%</th>\n",
       "      <td>209143.75000</td>\n",
       "      <td>44.000000</td>\n",
       "    </tr>\n",
       "    <tr>\n",
       "      <th>max</th>\n",
       "      <td>278858.00000</td>\n",
       "      <td>244.000000</td>\n",
       "    </tr>\n",
       "  </tbody>\n",
       "</table>\n",
       "</div>"
      ],
      "text/plain": [
       "             userID            Age\n",
       "count  278858.00000  168096.000000\n",
       "mean   139429.50000      34.751434\n",
       "std     80499.51502      14.428097\n",
       "min         1.00000       0.000000\n",
       "25%     69715.25000      24.000000\n",
       "50%    139429.50000      32.000000\n",
       "75%    209143.75000      44.000000\n",
       "max    278858.00000     244.000000"
      ]
     },
     "execution_count": 13,
     "metadata": {},
     "output_type": "execute_result"
    }
   ],
   "source": [
    "users.describe()"
   ]
  },
  {
   "cell_type": "code",
   "execution_count": 14,
   "metadata": {},
   "outputs": [
    {
     "data": {
      "text/plain": [
       "(0, 3)"
      ]
     },
     "execution_count": 14,
     "metadata": {},
     "output_type": "execute_result"
    }
   ],
   "source": [
    "users[users.duplicated()].shape"
   ]
  },
  {
   "cell_type": "code",
   "execution_count": 15,
   "metadata": {},
   "outputs": [
    {
     "data": {
      "text/plain": [
       "(1149780, 3)"
      ]
     },
     "execution_count": 15,
     "metadata": {},
     "output_type": "execute_result"
    }
   ],
   "source": [
    "ratings.shape"
   ]
  },
  {
   "cell_type": "code",
   "execution_count": 16,
   "metadata": {},
   "outputs": [
    {
     "data": {
      "text/plain": [
       "userID         int64\n",
       "ISBN          object\n",
       "bookRating     int64\n",
       "dtype: object"
      ]
     },
     "execution_count": 16,
     "metadata": {},
     "output_type": "execute_result"
    }
   ],
   "source": [
    "ratings.dtypes"
   ]
  },
  {
   "cell_type": "code",
   "execution_count": 17,
   "metadata": {},
   "outputs": [
    {
     "data": {
      "text/plain": [
       "userID        False\n",
       "ISBN          False\n",
       "bookRating    False\n",
       "dtype: bool"
      ]
     },
     "execution_count": 17,
     "metadata": {},
     "output_type": "execute_result"
    }
   ],
   "source": [
    "ratings.isnull().any()"
   ]
  },
  {
   "cell_type": "code",
   "execution_count": 18,
   "metadata": {},
   "outputs": [
    {
     "data": {
      "text/html": [
       "<div>\n",
       "<style scoped>\n",
       "    .dataframe tbody tr th:only-of-type {\n",
       "        vertical-align: middle;\n",
       "    }\n",
       "\n",
       "    .dataframe tbody tr th {\n",
       "        vertical-align: top;\n",
       "    }\n",
       "\n",
       "    .dataframe thead th {\n",
       "        text-align: right;\n",
       "    }\n",
       "</style>\n",
       "<table border=\"1\" class=\"dataframe\">\n",
       "  <thead>\n",
       "    <tr style=\"text-align: right;\">\n",
       "      <th></th>\n",
       "      <th>userID</th>\n",
       "      <th>ISBN</th>\n",
       "      <th>bookRating</th>\n",
       "    </tr>\n",
       "  </thead>\n",
       "  <tbody>\n",
       "    <tr>\n",
       "      <th>0</th>\n",
       "      <td>276725</td>\n",
       "      <td>034545104X</td>\n",
       "      <td>0</td>\n",
       "    </tr>\n",
       "    <tr>\n",
       "      <th>1</th>\n",
       "      <td>276726</td>\n",
       "      <td>0155061224</td>\n",
       "      <td>5</td>\n",
       "    </tr>\n",
       "    <tr>\n",
       "      <th>2</th>\n",
       "      <td>276727</td>\n",
       "      <td>0446520802</td>\n",
       "      <td>0</td>\n",
       "    </tr>\n",
       "    <tr>\n",
       "      <th>3</th>\n",
       "      <td>276729</td>\n",
       "      <td>052165615X</td>\n",
       "      <td>3</td>\n",
       "    </tr>\n",
       "    <tr>\n",
       "      <th>4</th>\n",
       "      <td>276729</td>\n",
       "      <td>0521795028</td>\n",
       "      <td>6</td>\n",
       "    </tr>\n",
       "  </tbody>\n",
       "</table>\n",
       "</div>"
      ],
      "text/plain": [
       "   userID        ISBN  bookRating\n",
       "0  276725  034545104X           0\n",
       "1  276726  0155061224           5\n",
       "2  276727  0446520802           0\n",
       "3  276729  052165615X           3\n",
       "4  276729  0521795028           6"
      ]
     },
     "execution_count": 18,
     "metadata": {},
     "output_type": "execute_result"
    }
   ],
   "source": [
    "ratings.head()"
   ]
  },
  {
   "cell_type": "code",
   "execution_count": 19,
   "metadata": {},
   "outputs": [
    {
     "data": {
      "text/html": [
       "<div>\n",
       "<style scoped>\n",
       "    .dataframe tbody tr th:only-of-type {\n",
       "        vertical-align: middle;\n",
       "    }\n",
       "\n",
       "    .dataframe tbody tr th {\n",
       "        vertical-align: top;\n",
       "    }\n",
       "\n",
       "    .dataframe thead th {\n",
       "        text-align: right;\n",
       "    }\n",
       "</style>\n",
       "<table border=\"1\" class=\"dataframe\">\n",
       "  <thead>\n",
       "    <tr style=\"text-align: right;\">\n",
       "      <th></th>\n",
       "      <th>userID</th>\n",
       "      <th>bookRating</th>\n",
       "    </tr>\n",
       "  </thead>\n",
       "  <tbody>\n",
       "    <tr>\n",
       "      <th>count</th>\n",
       "      <td>1.149780e+06</td>\n",
       "      <td>1.149780e+06</td>\n",
       "    </tr>\n",
       "    <tr>\n",
       "      <th>mean</th>\n",
       "      <td>1.403864e+05</td>\n",
       "      <td>2.866950e+00</td>\n",
       "    </tr>\n",
       "    <tr>\n",
       "      <th>std</th>\n",
       "      <td>8.056228e+04</td>\n",
       "      <td>3.854184e+00</td>\n",
       "    </tr>\n",
       "    <tr>\n",
       "      <th>min</th>\n",
       "      <td>2.000000e+00</td>\n",
       "      <td>0.000000e+00</td>\n",
       "    </tr>\n",
       "    <tr>\n",
       "      <th>25%</th>\n",
       "      <td>7.034500e+04</td>\n",
       "      <td>0.000000e+00</td>\n",
       "    </tr>\n",
       "    <tr>\n",
       "      <th>50%</th>\n",
       "      <td>1.410100e+05</td>\n",
       "      <td>0.000000e+00</td>\n",
       "    </tr>\n",
       "    <tr>\n",
       "      <th>75%</th>\n",
       "      <td>2.110280e+05</td>\n",
       "      <td>7.000000e+00</td>\n",
       "    </tr>\n",
       "    <tr>\n",
       "      <th>max</th>\n",
       "      <td>2.788540e+05</td>\n",
       "      <td>1.000000e+01</td>\n",
       "    </tr>\n",
       "  </tbody>\n",
       "</table>\n",
       "</div>"
      ],
      "text/plain": [
       "             userID    bookRating\n",
       "count  1.149780e+06  1.149780e+06\n",
       "mean   1.403864e+05  2.866950e+00\n",
       "std    8.056228e+04  3.854184e+00\n",
       "min    2.000000e+00  0.000000e+00\n",
       "25%    7.034500e+04  0.000000e+00\n",
       "50%    1.410100e+05  0.000000e+00\n",
       "75%    2.110280e+05  7.000000e+00\n",
       "max    2.788540e+05  1.000000e+01"
      ]
     },
     "execution_count": 19,
     "metadata": {},
     "output_type": "execute_result"
    }
   ],
   "source": [
    "ratings.describe()"
   ]
  },
  {
   "cell_type": "code",
   "execution_count": 20,
   "metadata": {},
   "outputs": [
    {
     "data": {
      "text/plain": [
       "(0, 3)"
      ]
     },
     "execution_count": 20,
     "metadata": {},
     "output_type": "execute_result"
    }
   ],
   "source": [
    "ratings[ratings.duplicated()].shape"
   ]
  },
  {
   "cell_type": "markdown",
   "metadata": {},
   "source": [
    "## Exploring books dataset"
   ]
  },
  {
   "cell_type": "code",
   "execution_count": 21,
   "metadata": {
    "scrolled": false
   },
   "outputs": [
    {
     "data": {
      "text/html": [
       "<div>\n",
       "<style scoped>\n",
       "    .dataframe tbody tr th:only-of-type {\n",
       "        vertical-align: middle;\n",
       "    }\n",
       "\n",
       "    .dataframe tbody tr th {\n",
       "        vertical-align: top;\n",
       "    }\n",
       "\n",
       "    .dataframe thead th {\n",
       "        text-align: right;\n",
       "    }\n",
       "</style>\n",
       "<table border=\"1\" class=\"dataframe\">\n",
       "  <thead>\n",
       "    <tr style=\"text-align: right;\">\n",
       "      <th></th>\n",
       "      <th>ISBN</th>\n",
       "      <th>bookTitle</th>\n",
       "      <th>bookAuthor</th>\n",
       "      <th>yearOfPublication</th>\n",
       "      <th>publisher</th>\n",
       "      <th>imageUrlS</th>\n",
       "      <th>imageUrlM</th>\n",
       "      <th>imageUrlL</th>\n",
       "    </tr>\n",
       "  </thead>\n",
       "  <tbody>\n",
       "    <tr>\n",
       "      <th>0</th>\n",
       "      <td>0195153448</td>\n",
       "      <td>Classical Mythology</td>\n",
       "      <td>Mark P. O. Morford</td>\n",
       "      <td>2002</td>\n",
       "      <td>Oxford University Press</td>\n",
       "      <td>http://images.amazon.com/images/P/0195153448.0...</td>\n",
       "      <td>http://images.amazon.com/images/P/0195153448.0...</td>\n",
       "      <td>http://images.amazon.com/images/P/0195153448.0...</td>\n",
       "    </tr>\n",
       "    <tr>\n",
       "      <th>1</th>\n",
       "      <td>0002005018</td>\n",
       "      <td>Clara Callan</td>\n",
       "      <td>Richard Bruce Wright</td>\n",
       "      <td>2001</td>\n",
       "      <td>HarperFlamingo Canada</td>\n",
       "      <td>http://images.amazon.com/images/P/0002005018.0...</td>\n",
       "      <td>http://images.amazon.com/images/P/0002005018.0...</td>\n",
       "      <td>http://images.amazon.com/images/P/0002005018.0...</td>\n",
       "    </tr>\n",
       "    <tr>\n",
       "      <th>2</th>\n",
       "      <td>0060973129</td>\n",
       "      <td>Decision in Normandy</td>\n",
       "      <td>Carlo D'Este</td>\n",
       "      <td>1991</td>\n",
       "      <td>HarperPerennial</td>\n",
       "      <td>http://images.amazon.com/images/P/0060973129.0...</td>\n",
       "      <td>http://images.amazon.com/images/P/0060973129.0...</td>\n",
       "      <td>http://images.amazon.com/images/P/0060973129.0...</td>\n",
       "    </tr>\n",
       "    <tr>\n",
       "      <th>3</th>\n",
       "      <td>0374157065</td>\n",
       "      <td>Flu: The Story of the Great Influenza Pandemic...</td>\n",
       "      <td>Gina Bari Kolata</td>\n",
       "      <td>1999</td>\n",
       "      <td>Farrar Straus Giroux</td>\n",
       "      <td>http://images.amazon.com/images/P/0374157065.0...</td>\n",
       "      <td>http://images.amazon.com/images/P/0374157065.0...</td>\n",
       "      <td>http://images.amazon.com/images/P/0374157065.0...</td>\n",
       "    </tr>\n",
       "    <tr>\n",
       "      <th>4</th>\n",
       "      <td>0393045218</td>\n",
       "      <td>The Mummies of Urumchi</td>\n",
       "      <td>E. J. W. Barber</td>\n",
       "      <td>1999</td>\n",
       "      <td>W. W. Norton &amp;amp; Company</td>\n",
       "      <td>http://images.amazon.com/images/P/0393045218.0...</td>\n",
       "      <td>http://images.amazon.com/images/P/0393045218.0...</td>\n",
       "      <td>http://images.amazon.com/images/P/0393045218.0...</td>\n",
       "    </tr>\n",
       "  </tbody>\n",
       "</table>\n",
       "</div>"
      ],
      "text/plain": [
       "         ISBN                                          bookTitle  \\\n",
       "0  0195153448                                Classical Mythology   \n",
       "1  0002005018                                       Clara Callan   \n",
       "2  0060973129                               Decision in Normandy   \n",
       "3  0374157065  Flu: The Story of the Great Influenza Pandemic...   \n",
       "4  0393045218                             The Mummies of Urumchi   \n",
       "\n",
       "             bookAuthor yearOfPublication                   publisher  \\\n",
       "0    Mark P. O. Morford              2002     Oxford University Press   \n",
       "1  Richard Bruce Wright              2001       HarperFlamingo Canada   \n",
       "2          Carlo D'Este              1991             HarperPerennial   \n",
       "3      Gina Bari Kolata              1999        Farrar Straus Giroux   \n",
       "4       E. J. W. Barber              1999  W. W. Norton &amp; Company   \n",
       "\n",
       "                                           imageUrlS  \\\n",
       "0  http://images.amazon.com/images/P/0195153448.0...   \n",
       "1  http://images.amazon.com/images/P/0002005018.0...   \n",
       "2  http://images.amazon.com/images/P/0060973129.0...   \n",
       "3  http://images.amazon.com/images/P/0374157065.0...   \n",
       "4  http://images.amazon.com/images/P/0393045218.0...   \n",
       "\n",
       "                                           imageUrlM  \\\n",
       "0  http://images.amazon.com/images/P/0195153448.0...   \n",
       "1  http://images.amazon.com/images/P/0002005018.0...   \n",
       "2  http://images.amazon.com/images/P/0060973129.0...   \n",
       "3  http://images.amazon.com/images/P/0374157065.0...   \n",
       "4  http://images.amazon.com/images/P/0393045218.0...   \n",
       "\n",
       "                                           imageUrlL  \n",
       "0  http://images.amazon.com/images/P/0195153448.0...  \n",
       "1  http://images.amazon.com/images/P/0002005018.0...  \n",
       "2  http://images.amazon.com/images/P/0060973129.0...  \n",
       "3  http://images.amazon.com/images/P/0374157065.0...  \n",
       "4  http://images.amazon.com/images/P/0393045218.0...  "
      ]
     },
     "execution_count": 21,
     "metadata": {},
     "output_type": "execute_result"
    }
   ],
   "source": [
    "books.head()"
   ]
  },
  {
   "cell_type": "code",
   "execution_count": 22,
   "metadata": {
    "scrolled": false
   },
   "outputs": [
    {
     "data": {
      "text/html": [
       "<div>\n",
       "<style scoped>\n",
       "    .dataframe tbody tr th:only-of-type {\n",
       "        vertical-align: middle;\n",
       "    }\n",
       "\n",
       "    .dataframe tbody tr th {\n",
       "        vertical-align: top;\n",
       "    }\n",
       "\n",
       "    .dataframe thead th {\n",
       "        text-align: right;\n",
       "    }\n",
       "</style>\n",
       "<table border=\"1\" class=\"dataframe\">\n",
       "  <thead>\n",
       "    <tr style=\"text-align: right;\">\n",
       "      <th></th>\n",
       "      <th>ISBN</th>\n",
       "      <th>bookTitle</th>\n",
       "      <th>bookAuthor</th>\n",
       "      <th>yearOfPublication</th>\n",
       "      <th>publisher</th>\n",
       "      <th>imageUrlS</th>\n",
       "      <th>imageUrlM</th>\n",
       "      <th>imageUrlL</th>\n",
       "    </tr>\n",
       "  </thead>\n",
       "  <tbody>\n",
       "    <tr>\n",
       "      <th>0</th>\n",
       "      <td>0195153448</td>\n",
       "      <td>Classical Mythology</td>\n",
       "      <td>Mark P. O. Morford</td>\n",
       "      <td>2002</td>\n",
       "      <td>Oxford University Press</td>\n",
       "      <td>http://images.amazon.com/images/P/0195153448.0...</td>\n",
       "      <td>http://images.amazon.com/images/P/0195153448.0...</td>\n",
       "      <td>http://images.amazon.com/images/P/0195153448.0...</td>\n",
       "    </tr>\n",
       "    <tr>\n",
       "      <th>1</th>\n",
       "      <td>0002005018</td>\n",
       "      <td>Clara Callan</td>\n",
       "      <td>Richard Bruce Wright</td>\n",
       "      <td>2001</td>\n",
       "      <td>HarperFlamingo Canada</td>\n",
       "      <td>http://images.amazon.com/images/P/0002005018.0...</td>\n",
       "      <td>http://images.amazon.com/images/P/0002005018.0...</td>\n",
       "      <td>http://images.amazon.com/images/P/0002005018.0...</td>\n",
       "    </tr>\n",
       "    <tr>\n",
       "      <th>2</th>\n",
       "      <td>0060973129</td>\n",
       "      <td>Decision in Normandy</td>\n",
       "      <td>Carlo D'Este</td>\n",
       "      <td>1991</td>\n",
       "      <td>HarperPerennial</td>\n",
       "      <td>http://images.amazon.com/images/P/0060973129.0...</td>\n",
       "      <td>http://images.amazon.com/images/P/0060973129.0...</td>\n",
       "      <td>http://images.amazon.com/images/P/0060973129.0...</td>\n",
       "    </tr>\n",
       "    <tr>\n",
       "      <th>3</th>\n",
       "      <td>0374157065</td>\n",
       "      <td>Flu: The Story of the Great Influenza Pandemic...</td>\n",
       "      <td>Gina Bari Kolata</td>\n",
       "      <td>1999</td>\n",
       "      <td>Farrar Straus Giroux</td>\n",
       "      <td>http://images.amazon.com/images/P/0374157065.0...</td>\n",
       "      <td>http://images.amazon.com/images/P/0374157065.0...</td>\n",
       "      <td>http://images.amazon.com/images/P/0374157065.0...</td>\n",
       "    </tr>\n",
       "    <tr>\n",
       "      <th>4</th>\n",
       "      <td>0393045218</td>\n",
       "      <td>The Mummies of Urumchi</td>\n",
       "      <td>E. J. W. Barber</td>\n",
       "      <td>1999</td>\n",
       "      <td>W. W. Norton &amp;amp; Company</td>\n",
       "      <td>http://images.amazon.com/images/P/0393045218.0...</td>\n",
       "      <td>http://images.amazon.com/images/P/0393045218.0...</td>\n",
       "      <td>http://images.amazon.com/images/P/0393045218.0...</td>\n",
       "    </tr>\n",
       "  </tbody>\n",
       "</table>\n",
       "</div>"
      ],
      "text/plain": [
       "         ISBN                                          bookTitle  \\\n",
       "0  0195153448                                Classical Mythology   \n",
       "1  0002005018                                       Clara Callan   \n",
       "2  0060973129                               Decision in Normandy   \n",
       "3  0374157065  Flu: The Story of the Great Influenza Pandemic...   \n",
       "4  0393045218                             The Mummies of Urumchi   \n",
       "\n",
       "             bookAuthor yearOfPublication                   publisher  \\\n",
       "0    Mark P. O. Morford              2002     Oxford University Press   \n",
       "1  Richard Bruce Wright              2001       HarperFlamingo Canada   \n",
       "2          Carlo D'Este              1991             HarperPerennial   \n",
       "3      Gina Bari Kolata              1999        Farrar Straus Giroux   \n",
       "4       E. J. W. Barber              1999  W. W. Norton &amp; Company   \n",
       "\n",
       "                                           imageUrlS  \\\n",
       "0  http://images.amazon.com/images/P/0195153448.0...   \n",
       "1  http://images.amazon.com/images/P/0002005018.0...   \n",
       "2  http://images.amazon.com/images/P/0060973129.0...   \n",
       "3  http://images.amazon.com/images/P/0374157065.0...   \n",
       "4  http://images.amazon.com/images/P/0393045218.0...   \n",
       "\n",
       "                                           imageUrlM  \\\n",
       "0  http://images.amazon.com/images/P/0195153448.0...   \n",
       "1  http://images.amazon.com/images/P/0002005018.0...   \n",
       "2  http://images.amazon.com/images/P/0060973129.0...   \n",
       "3  http://images.amazon.com/images/P/0374157065.0...   \n",
       "4  http://images.amazon.com/images/P/0393045218.0...   \n",
       "\n",
       "                                           imageUrlL  \n",
       "0  http://images.amazon.com/images/P/0195153448.0...  \n",
       "1  http://images.amazon.com/images/P/0002005018.0...  \n",
       "2  http://images.amazon.com/images/P/0060973129.0...  \n",
       "3  http://images.amazon.com/images/P/0374157065.0...  \n",
       "4  http://images.amazon.com/images/P/0393045218.0...  "
      ]
     },
     "execution_count": 22,
     "metadata": {},
     "output_type": "execute_result"
    }
   ],
   "source": [
    "books.head()"
   ]
  },
  {
   "cell_type": "markdown",
   "metadata": {},
   "source": [
    "### Drop last three columns containing image URLs which will not be required for analysis"
   ]
  },
  {
   "cell_type": "code",
   "execution_count": 23,
   "metadata": {},
   "outputs": [],
   "source": [
    "books.drop(columns=['imageUrlS', 'imageUrlM', 'imageUrlL'],axis=1, inplace=True)"
   ]
  },
  {
   "cell_type": "code",
   "execution_count": 24,
   "metadata": {
    "scrolled": true
   },
   "outputs": [
    {
     "data": {
      "text/html": [
       "<div>\n",
       "<style scoped>\n",
       "    .dataframe tbody tr th:only-of-type {\n",
       "        vertical-align: middle;\n",
       "    }\n",
       "\n",
       "    .dataframe tbody tr th {\n",
       "        vertical-align: top;\n",
       "    }\n",
       "\n",
       "    .dataframe thead th {\n",
       "        text-align: right;\n",
       "    }\n",
       "</style>\n",
       "<table border=\"1\" class=\"dataframe\">\n",
       "  <thead>\n",
       "    <tr style=\"text-align: right;\">\n",
       "      <th></th>\n",
       "      <th>ISBN</th>\n",
       "      <th>bookTitle</th>\n",
       "      <th>bookAuthor</th>\n",
       "      <th>yearOfPublication</th>\n",
       "      <th>publisher</th>\n",
       "    </tr>\n",
       "  </thead>\n",
       "  <tbody>\n",
       "    <tr>\n",
       "      <th>0</th>\n",
       "      <td>0195153448</td>\n",
       "      <td>Classical Mythology</td>\n",
       "      <td>Mark P. O. Morford</td>\n",
       "      <td>2002</td>\n",
       "      <td>Oxford University Press</td>\n",
       "    </tr>\n",
       "    <tr>\n",
       "      <th>1</th>\n",
       "      <td>0002005018</td>\n",
       "      <td>Clara Callan</td>\n",
       "      <td>Richard Bruce Wright</td>\n",
       "      <td>2001</td>\n",
       "      <td>HarperFlamingo Canada</td>\n",
       "    </tr>\n",
       "    <tr>\n",
       "      <th>2</th>\n",
       "      <td>0060973129</td>\n",
       "      <td>Decision in Normandy</td>\n",
       "      <td>Carlo D'Este</td>\n",
       "      <td>1991</td>\n",
       "      <td>HarperPerennial</td>\n",
       "    </tr>\n",
       "    <tr>\n",
       "      <th>3</th>\n",
       "      <td>0374157065</td>\n",
       "      <td>Flu: The Story of the Great Influenza Pandemic...</td>\n",
       "      <td>Gina Bari Kolata</td>\n",
       "      <td>1999</td>\n",
       "      <td>Farrar Straus Giroux</td>\n",
       "    </tr>\n",
       "    <tr>\n",
       "      <th>4</th>\n",
       "      <td>0393045218</td>\n",
       "      <td>The Mummies of Urumchi</td>\n",
       "      <td>E. J. W. Barber</td>\n",
       "      <td>1999</td>\n",
       "      <td>W. W. Norton &amp;amp; Company</td>\n",
       "    </tr>\n",
       "  </tbody>\n",
       "</table>\n",
       "</div>"
      ],
      "text/plain": [
       "         ISBN                                          bookTitle  \\\n",
       "0  0195153448                                Classical Mythology   \n",
       "1  0002005018                                       Clara Callan   \n",
       "2  0060973129                               Decision in Normandy   \n",
       "3  0374157065  Flu: The Story of the Great Influenza Pandemic...   \n",
       "4  0393045218                             The Mummies of Urumchi   \n",
       "\n",
       "             bookAuthor yearOfPublication                   publisher  \n",
       "0    Mark P. O. Morford              2002     Oxford University Press  \n",
       "1  Richard Bruce Wright              2001       HarperFlamingo Canada  \n",
       "2          Carlo D'Este              1991             HarperPerennial  \n",
       "3      Gina Bari Kolata              1999        Farrar Straus Giroux  \n",
       "4       E. J. W. Barber              1999  W. W. Norton &amp; Company  "
      ]
     },
     "execution_count": 24,
     "metadata": {},
     "output_type": "execute_result"
    }
   ],
   "source": [
    "books.head()"
   ]
  },
  {
   "cell_type": "code",
   "execution_count": 25,
   "metadata": {
    "scrolled": true
   },
   "outputs": [
    {
     "data": {
      "text/html": [
       "<div>\n",
       "<style scoped>\n",
       "    .dataframe tbody tr th:only-of-type {\n",
       "        vertical-align: middle;\n",
       "    }\n",
       "\n",
       "    .dataframe tbody tr th {\n",
       "        vertical-align: top;\n",
       "    }\n",
       "\n",
       "    .dataframe thead th {\n",
       "        text-align: right;\n",
       "    }\n",
       "</style>\n",
       "<table border=\"1\" class=\"dataframe\">\n",
       "  <thead>\n",
       "    <tr style=\"text-align: right;\">\n",
       "      <th></th>\n",
       "      <th>ISBN</th>\n",
       "      <th>bookTitle</th>\n",
       "      <th>bookAuthor</th>\n",
       "      <th>yearOfPublication</th>\n",
       "      <th>publisher</th>\n",
       "    </tr>\n",
       "  </thead>\n",
       "  <tbody>\n",
       "    <tr>\n",
       "      <th>0</th>\n",
       "      <td>0195153448</td>\n",
       "      <td>Classical Mythology</td>\n",
       "      <td>Mark P. O. Morford</td>\n",
       "      <td>2002</td>\n",
       "      <td>Oxford University Press</td>\n",
       "    </tr>\n",
       "    <tr>\n",
       "      <th>1</th>\n",
       "      <td>0002005018</td>\n",
       "      <td>Clara Callan</td>\n",
       "      <td>Richard Bruce Wright</td>\n",
       "      <td>2001</td>\n",
       "      <td>HarperFlamingo Canada</td>\n",
       "    </tr>\n",
       "    <tr>\n",
       "      <th>2</th>\n",
       "      <td>0060973129</td>\n",
       "      <td>Decision in Normandy</td>\n",
       "      <td>Carlo D'Este</td>\n",
       "      <td>1991</td>\n",
       "      <td>HarperPerennial</td>\n",
       "    </tr>\n",
       "    <tr>\n",
       "      <th>3</th>\n",
       "      <td>0374157065</td>\n",
       "      <td>Flu: The Story of the Great Influenza Pandemic...</td>\n",
       "      <td>Gina Bari Kolata</td>\n",
       "      <td>1999</td>\n",
       "      <td>Farrar Straus Giroux</td>\n",
       "    </tr>\n",
       "    <tr>\n",
       "      <th>4</th>\n",
       "      <td>0393045218</td>\n",
       "      <td>The Mummies of Urumchi</td>\n",
       "      <td>E. J. W. Barber</td>\n",
       "      <td>1999</td>\n",
       "      <td>W. W. Norton &amp;amp; Company</td>\n",
       "    </tr>\n",
       "  </tbody>\n",
       "</table>\n",
       "</div>"
      ],
      "text/plain": [
       "         ISBN                                          bookTitle  \\\n",
       "0  0195153448                                Classical Mythology   \n",
       "1  0002005018                                       Clara Callan   \n",
       "2  0060973129                               Decision in Normandy   \n",
       "3  0374157065  Flu: The Story of the Great Influenza Pandemic...   \n",
       "4  0393045218                             The Mummies of Urumchi   \n",
       "\n",
       "             bookAuthor yearOfPublication                   publisher  \n",
       "0    Mark P. O. Morford              2002     Oxford University Press  \n",
       "1  Richard Bruce Wright              2001       HarperFlamingo Canada  \n",
       "2          Carlo D'Este              1991             HarperPerennial  \n",
       "3      Gina Bari Kolata              1999        Farrar Straus Giroux  \n",
       "4       E. J. W. Barber              1999  W. W. Norton &amp; Company  "
      ]
     },
     "execution_count": 25,
     "metadata": {},
     "output_type": "execute_result"
    }
   ],
   "source": [
    "books.head()"
   ]
  },
  {
   "cell_type": "markdown",
   "metadata": {},
   "source": [
    "### Check unique values of yearOfPublication\n"
   ]
  },
  {
   "cell_type": "code",
   "execution_count": 26,
   "metadata": {},
   "outputs": [
    {
     "data": {
      "text/plain": [
       "array([2002, 2001, 1991, 1999, 2000, 1993, 1996, 1988, 2004, 1998, 1994,\n",
       "       2003, 1997, 1983, 1979, 1995, 1982, 1985, 1992, 1986, 1978, 1980,\n",
       "       1952, 1987, 1990, 1981, 1989, 1984, 0, 1968, 1961, 1958, 1974,\n",
       "       1976, 1971, 1977, 1975, 1965, 1941, 1970, 1962, 1973, 1972, 1960,\n",
       "       1966, 1920, 1956, 1959, 1953, 1951, 1942, 1963, 1964, 1969, 1954,\n",
       "       1950, 1967, 2005, 1957, 1940, 1937, 1955, 1946, 1936, 1930, 2011,\n",
       "       1925, 1948, 1943, 1947, 1945, 1923, 2020, 1939, 1926, 1938, 2030,\n",
       "       1911, 1904, 1949, 1932, 1928, 1929, 1927, 1931, 1914, 2050, 1934,\n",
       "       1910, 1933, 1902, 1924, 1921, 1900, 2038, 2026, 1944, 1917, 1901,\n",
       "       2010, 1908, 1906, 1935, 1806, 2021, '2000', '1995', '1999', '2004',\n",
       "       '2003', '1990', '1994', '1986', '1989', '2002', '1981', '1993',\n",
       "       '1983', '1982', '1976', '1991', '1977', '1998', '1992', '1996',\n",
       "       '0', '1997', '2001', '1974', '1968', '1987', '1984', '1988',\n",
       "       '1963', '1956', '1970', '1985', '1978', '1973', '1980', '1979',\n",
       "       '1975', '1969', '1961', '1965', '1939', '1958', '1950', '1953',\n",
       "       '1966', '1971', '1959', '1972', '1955', '1957', '1945', '1960',\n",
       "       '1967', '1932', '1924', '1964', '2012', '1911', '1927', '1948',\n",
       "       '1962', '2006', '1952', '1940', '1951', '1931', '1954', '2005',\n",
       "       '1930', '1941', '1944', 'DK Publishing Inc', '1943', '1938',\n",
       "       '1900', '1942', '1923', '1920', '1933', 'Gallimard', '1909',\n",
       "       '1946', '2008', '1378', '2030', '1936', '1947', '2011', '2020',\n",
       "       '1919', '1949', '1922', '1897', '2024', '1376', '1926', '2037'],\n",
       "      dtype=object)"
      ]
     },
     "execution_count": 26,
     "metadata": {},
     "output_type": "execute_result"
    }
   ],
   "source": [
    "books['yearOfPublication'].unique()"
   ]
  },
  {
   "cell_type": "markdown",
   "metadata": {},
   "source": [
    "As it can be seen from above that there are some incorrect entries in this field. It looks like Publisher names 'DK Publishing Inc' and 'Gallimard' have been incorrectly loaded as yearOfPublication in dataset due to some errors in csv file.\n",
    "\n",
    "\n",
    "Also some of the entries are strings and same years have been entered as numbers in some places. We will try to fix these things in the coming questions."
   ]
  },
  {
   "cell_type": "markdown",
   "metadata": {},
   "source": [
    "### Check the rows having 'DK Publishing Inc' as yearOfPublication"
   ]
  },
  {
   "cell_type": "code",
   "execution_count": 27,
   "metadata": {},
   "outputs": [
    {
     "data": {
      "text/html": [
       "<div>\n",
       "<style scoped>\n",
       "    .dataframe tbody tr th:only-of-type {\n",
       "        vertical-align: middle;\n",
       "    }\n",
       "\n",
       "    .dataframe tbody tr th {\n",
       "        vertical-align: top;\n",
       "    }\n",
       "\n",
       "    .dataframe thead th {\n",
       "        text-align: right;\n",
       "    }\n",
       "</style>\n",
       "<table border=\"1\" class=\"dataframe\">\n",
       "  <thead>\n",
       "    <tr style=\"text-align: right;\">\n",
       "      <th></th>\n",
       "      <th>ISBN</th>\n",
       "      <th>bookTitle</th>\n",
       "      <th>bookAuthor</th>\n",
       "      <th>yearOfPublication</th>\n",
       "      <th>publisher</th>\n",
       "    </tr>\n",
       "  </thead>\n",
       "  <tbody>\n",
       "    <tr>\n",
       "      <th>209538</th>\n",
       "      <td>078946697X</td>\n",
       "      <td>DK Readers: Creating the X-Men, How It All Beg...</td>\n",
       "      <td>2000</td>\n",
       "      <td>DK Publishing Inc</td>\n",
       "      <td>http://images.amazon.com/images/P/078946697X.0...</td>\n",
       "    </tr>\n",
       "    <tr>\n",
       "      <th>221678</th>\n",
       "      <td>0789466953</td>\n",
       "      <td>DK Readers: Creating the X-Men, How Comic Book...</td>\n",
       "      <td>2000</td>\n",
       "      <td>DK Publishing Inc</td>\n",
       "      <td>http://images.amazon.com/images/P/0789466953.0...</td>\n",
       "    </tr>\n",
       "  </tbody>\n",
       "</table>\n",
       "</div>"
      ],
      "text/plain": [
       "              ISBN                                          bookTitle  \\\n",
       "209538  078946697X  DK Readers: Creating the X-Men, How It All Beg...   \n",
       "221678  0789466953  DK Readers: Creating the X-Men, How Comic Book...   \n",
       "\n",
       "       bookAuthor  yearOfPublication  \\\n",
       "209538       2000  DK Publishing Inc   \n",
       "221678       2000  DK Publishing Inc   \n",
       "\n",
       "                                                publisher  \n",
       "209538  http://images.amazon.com/images/P/078946697X.0...  \n",
       "221678  http://images.amazon.com/images/P/0789466953.0...  "
      ]
     },
     "execution_count": 27,
     "metadata": {},
     "output_type": "execute_result"
    }
   ],
   "source": [
    "books[books['yearOfPublication'] == 'DK Publishing Inc']"
   ]
  },
  {
   "cell_type": "code",
   "execution_count": 28,
   "metadata": {},
   "outputs": [
    {
     "data": {
      "text/html": [
       "<div>\n",
       "<style scoped>\n",
       "    .dataframe tbody tr th:only-of-type {\n",
       "        vertical-align: middle;\n",
       "    }\n",
       "\n",
       "    .dataframe tbody tr th {\n",
       "        vertical-align: top;\n",
       "    }\n",
       "\n",
       "    .dataframe thead th {\n",
       "        text-align: right;\n",
       "    }\n",
       "</style>\n",
       "<table border=\"1\" class=\"dataframe\">\n",
       "  <thead>\n",
       "    <tr style=\"text-align: right;\">\n",
       "      <th></th>\n",
       "      <th>ISBN</th>\n",
       "      <th>bookTitle</th>\n",
       "      <th>bookAuthor</th>\n",
       "      <th>yearOfPublication</th>\n",
       "      <th>publisher</th>\n",
       "    </tr>\n",
       "  </thead>\n",
       "  <tbody>\n",
       "    <tr>\n",
       "      <th>209538</th>\n",
       "      <td>078946697X</td>\n",
       "      <td>DK Readers: Creating the X-Men, How It All Beg...</td>\n",
       "      <td>2000</td>\n",
       "      <td>DK Publishing Inc</td>\n",
       "      <td>http://images.amazon.com/images/P/078946697X.0...</td>\n",
       "    </tr>\n",
       "    <tr>\n",
       "      <th>220731</th>\n",
       "      <td>2070426769</td>\n",
       "      <td>Peuple du ciel, suivi de 'Les Bergers\\\";Jean-M...</td>\n",
       "      <td>2003</td>\n",
       "      <td>Gallimard</td>\n",
       "      <td>http://images.amazon.com/images/P/2070426769.0...</td>\n",
       "    </tr>\n",
       "    <tr>\n",
       "      <th>221678</th>\n",
       "      <td>0789466953</td>\n",
       "      <td>DK Readers: Creating the X-Men, How Comic Book...</td>\n",
       "      <td>2000</td>\n",
       "      <td>DK Publishing Inc</td>\n",
       "      <td>http://images.amazon.com/images/P/0789466953.0...</td>\n",
       "    </tr>\n",
       "  </tbody>\n",
       "</table>\n",
       "</div>"
      ],
      "text/plain": [
       "              ISBN                                          bookTitle  \\\n",
       "209538  078946697X  DK Readers: Creating the X-Men, How It All Beg...   \n",
       "220731  2070426769  Peuple du ciel, suivi de 'Les Bergers\\\";Jean-M...   \n",
       "221678  0789466953  DK Readers: Creating the X-Men, How Comic Book...   \n",
       "\n",
       "       bookAuthor  yearOfPublication  \\\n",
       "209538       2000  DK Publishing Inc   \n",
       "220731       2003          Gallimard   \n",
       "221678       2000  DK Publishing Inc   \n",
       "\n",
       "                                                publisher  \n",
       "209538  http://images.amazon.com/images/P/078946697X.0...  \n",
       "220731  http://images.amazon.com/images/P/2070426769.0...  \n",
       "221678  http://images.amazon.com/images/P/0789466953.0...  "
      ]
     },
     "execution_count": 28,
     "metadata": {},
     "output_type": "execute_result"
    }
   ],
   "source": [
    "incorrect_year_recs = books[books['yearOfPublication'].isin(['DK Publishing Inc','Gallimard'])]\n",
    "incorrect_year_recs"
   ]
  },
  {
   "cell_type": "markdown",
   "metadata": {},
   "source": [
    "### Drop the rows having `'DK Publishing Inc'` and `'Gallimard'` as `yearOfPublication`"
   ]
  },
  {
   "cell_type": "code",
   "execution_count": 29,
   "metadata": {},
   "outputs": [],
   "source": [
    "books.drop(incorrect_year_recs.index, axis=0, inplace=True)"
   ]
  },
  {
   "cell_type": "code",
   "execution_count": 30,
   "metadata": {},
   "outputs": [
    {
     "data": {
      "text/html": [
       "<div>\n",
       "<style scoped>\n",
       "    .dataframe tbody tr th:only-of-type {\n",
       "        vertical-align: middle;\n",
       "    }\n",
       "\n",
       "    .dataframe tbody tr th {\n",
       "        vertical-align: top;\n",
       "    }\n",
       "\n",
       "    .dataframe thead th {\n",
       "        text-align: right;\n",
       "    }\n",
       "</style>\n",
       "<table border=\"1\" class=\"dataframe\">\n",
       "  <thead>\n",
       "    <tr style=\"text-align: right;\">\n",
       "      <th></th>\n",
       "      <th>ISBN</th>\n",
       "      <th>bookTitle</th>\n",
       "      <th>bookAuthor</th>\n",
       "      <th>yearOfPublication</th>\n",
       "      <th>publisher</th>\n",
       "    </tr>\n",
       "  </thead>\n",
       "  <tbody>\n",
       "  </tbody>\n",
       "</table>\n",
       "</div>"
      ],
      "text/plain": [
       "Empty DataFrame\n",
       "Columns: [ISBN, bookTitle, bookAuthor, yearOfPublication, publisher]\n",
       "Index: []"
      ]
     },
     "execution_count": 30,
     "metadata": {},
     "output_type": "execute_result"
    }
   ],
   "source": [
    "books[books['yearOfPublication'].isin(['DK Publishing Inc','Gallimard'])]"
   ]
  },
  {
   "cell_type": "markdown",
   "metadata": {},
   "source": [
    "### Change the datatype of yearOfPublication to 'int'"
   ]
  },
  {
   "cell_type": "code",
   "execution_count": 31,
   "metadata": {},
   "outputs": [],
   "source": [
    "books['yearOfPublication'] = books['yearOfPublication'].astype(dtype=np.int32)"
   ]
  },
  {
   "cell_type": "code",
   "execution_count": 32,
   "metadata": {},
   "outputs": [
    {
     "data": {
      "text/plain": [
       "ISBN                 object\n",
       "bookTitle            object\n",
       "bookAuthor           object\n",
       "yearOfPublication     int32\n",
       "publisher            object\n",
       "dtype: object"
      ]
     },
     "execution_count": 32,
     "metadata": {},
     "output_type": "execute_result"
    }
   ],
   "source": [
    "books.dtypes"
   ]
  },
  {
   "cell_type": "code",
   "execution_count": 33,
   "metadata": {},
   "outputs": [
    {
     "data": {
      "text/plain": [
       "ISBN                 object\n",
       "bookTitle            object\n",
       "bookAuthor           object\n",
       "yearOfPublication     int32\n",
       "publisher            object\n",
       "dtype: object"
      ]
     },
     "execution_count": 33,
     "metadata": {},
     "output_type": "execute_result"
    }
   ],
   "source": [
    "books.dtypes"
   ]
  },
  {
   "cell_type": "markdown",
   "metadata": {},
   "source": [
    "### Drop NaNs in `'publisher'` column\n"
   ]
  },
  {
   "cell_type": "code",
   "execution_count": 34,
   "metadata": {},
   "outputs": [
    {
     "data": {
      "text/plain": [
       "(271357, 5)"
      ]
     },
     "execution_count": 34,
     "metadata": {},
     "output_type": "execute_result"
    }
   ],
   "source": [
    "books.shape"
   ]
  },
  {
   "cell_type": "code",
   "execution_count": 35,
   "metadata": {},
   "outputs": [
    {
     "data": {
      "text/plain": [
       "(271355, 5)"
      ]
     },
     "execution_count": 35,
     "metadata": {},
     "output_type": "execute_result"
    }
   ],
   "source": [
    "books.dropna(axis=0, subset=['publisher'], inplace=True)\n",
    "books.shape"
   ]
  },
  {
   "cell_type": "markdown",
   "metadata": {},
   "source": [
    "## Exploring Users dataset"
   ]
  },
  {
   "cell_type": "code",
   "execution_count": 36,
   "metadata": {
    "scrolled": true
   },
   "outputs": [
    {
     "name": "stdout",
     "output_type": "stream",
     "text": [
      "(278858, 3)\n"
     ]
    },
    {
     "data": {
      "text/html": [
       "<div>\n",
       "<style scoped>\n",
       "    .dataframe tbody tr th:only-of-type {\n",
       "        vertical-align: middle;\n",
       "    }\n",
       "\n",
       "    .dataframe tbody tr th {\n",
       "        vertical-align: top;\n",
       "    }\n",
       "\n",
       "    .dataframe thead th {\n",
       "        text-align: right;\n",
       "    }\n",
       "</style>\n",
       "<table border=\"1\" class=\"dataframe\">\n",
       "  <thead>\n",
       "    <tr style=\"text-align: right;\">\n",
       "      <th></th>\n",
       "      <th>userID</th>\n",
       "      <th>Location</th>\n",
       "      <th>Age</th>\n",
       "    </tr>\n",
       "  </thead>\n",
       "  <tbody>\n",
       "    <tr>\n",
       "      <th>0</th>\n",
       "      <td>1</td>\n",
       "      <td>nyc, new york, usa</td>\n",
       "      <td>NaN</td>\n",
       "    </tr>\n",
       "    <tr>\n",
       "      <th>1</th>\n",
       "      <td>2</td>\n",
       "      <td>stockton, california, usa</td>\n",
       "      <td>18.0</td>\n",
       "    </tr>\n",
       "    <tr>\n",
       "      <th>2</th>\n",
       "      <td>3</td>\n",
       "      <td>moscow, yukon territory, russia</td>\n",
       "      <td>NaN</td>\n",
       "    </tr>\n",
       "    <tr>\n",
       "      <th>3</th>\n",
       "      <td>4</td>\n",
       "      <td>porto, v.n.gaia, portugal</td>\n",
       "      <td>17.0</td>\n",
       "    </tr>\n",
       "    <tr>\n",
       "      <th>4</th>\n",
       "      <td>5</td>\n",
       "      <td>farnborough, hants, united kingdom</td>\n",
       "      <td>NaN</td>\n",
       "    </tr>\n",
       "  </tbody>\n",
       "</table>\n",
       "</div>"
      ],
      "text/plain": [
       "   userID                            Location   Age\n",
       "0       1                  nyc, new york, usa   NaN\n",
       "1       2           stockton, california, usa  18.0\n",
       "2       3     moscow, yukon territory, russia   NaN\n",
       "3       4           porto, v.n.gaia, portugal  17.0\n",
       "4       5  farnborough, hants, united kingdom   NaN"
      ]
     },
     "execution_count": 36,
     "metadata": {},
     "output_type": "execute_result"
    }
   ],
   "source": [
    "print(users.shape)\n",
    "users.head()"
   ]
  },
  {
   "cell_type": "code",
   "execution_count": 37,
   "metadata": {
    "scrolled": true
   },
   "outputs": [
    {
     "name": "stdout",
     "output_type": "stream",
     "text": [
      "(278858, 3)\n"
     ]
    },
    {
     "data": {
      "text/html": [
       "<div>\n",
       "<style scoped>\n",
       "    .dataframe tbody tr th:only-of-type {\n",
       "        vertical-align: middle;\n",
       "    }\n",
       "\n",
       "    .dataframe tbody tr th {\n",
       "        vertical-align: top;\n",
       "    }\n",
       "\n",
       "    .dataframe thead th {\n",
       "        text-align: right;\n",
       "    }\n",
       "</style>\n",
       "<table border=\"1\" class=\"dataframe\">\n",
       "  <thead>\n",
       "    <tr style=\"text-align: right;\">\n",
       "      <th></th>\n",
       "      <th>userID</th>\n",
       "      <th>Location</th>\n",
       "      <th>Age</th>\n",
       "    </tr>\n",
       "  </thead>\n",
       "  <tbody>\n",
       "    <tr>\n",
       "      <th>0</th>\n",
       "      <td>1</td>\n",
       "      <td>nyc, new york, usa</td>\n",
       "      <td>NaN</td>\n",
       "    </tr>\n",
       "    <tr>\n",
       "      <th>1</th>\n",
       "      <td>2</td>\n",
       "      <td>stockton, california, usa</td>\n",
       "      <td>18.0</td>\n",
       "    </tr>\n",
       "    <tr>\n",
       "      <th>2</th>\n",
       "      <td>3</td>\n",
       "      <td>moscow, yukon territory, russia</td>\n",
       "      <td>NaN</td>\n",
       "    </tr>\n",
       "    <tr>\n",
       "      <th>3</th>\n",
       "      <td>4</td>\n",
       "      <td>porto, v.n.gaia, portugal</td>\n",
       "      <td>17.0</td>\n",
       "    </tr>\n",
       "    <tr>\n",
       "      <th>4</th>\n",
       "      <td>5</td>\n",
       "      <td>farnborough, hants, united kingdom</td>\n",
       "      <td>NaN</td>\n",
       "    </tr>\n",
       "  </tbody>\n",
       "</table>\n",
       "</div>"
      ],
      "text/plain": [
       "   userID                            Location   Age\n",
       "0       1                  nyc, new york, usa   NaN\n",
       "1       2           stockton, california, usa  18.0\n",
       "2       3     moscow, yukon territory, russia   NaN\n",
       "3       4           porto, v.n.gaia, portugal  17.0\n",
       "4       5  farnborough, hants, united kingdom   NaN"
      ]
     },
     "execution_count": 37,
     "metadata": {},
     "output_type": "execute_result"
    }
   ],
   "source": [
    "print(users.shape)\n",
    "users.head()"
   ]
  },
  {
   "cell_type": "markdown",
   "metadata": {},
   "source": [
    "### Get all unique values in ascending order for column `Age`"
   ]
  },
  {
   "cell_type": "code",
   "execution_count": 38,
   "metadata": {},
   "outputs": [
    {
     "data": {
      "text/plain": [
       "array([  0.,   1.,   2.,   3.,   4.,   5.,   6.,   7.,   8.,   9.,  10.,\n",
       "        11.,  12.,  13.,  14.,  15.,  16.,  17.,  18.,  19.,  20.,  21.,\n",
       "        22.,  23.,  24.,  25.,  26.,  27.,  28.,  29.,  30.,  31.,  32.,\n",
       "        33.,  34.,  35.,  36.,  37.,  38.,  39.,  40.,  41.,  42.,  43.,\n",
       "        44.,  45.,  46.,  47.,  48.,  49.,  50.,  51.,  52.,  53.,  54.,\n",
       "        55.,  56.,  57.,  58.,  59.,  60.,  61.,  62.,  63.,  64.,  65.,\n",
       "        66.,  67.,  68.,  69.,  70.,  71.,  72.,  73.,  74.,  75.,  76.,\n",
       "        77.,  78.,  79.,  80.,  81.,  82.,  83.,  84.,  85.,  86.,  87.,\n",
       "        88.,  89.,  90.,  91.,  92.,  93.,  94.,  95.,  96.,  97.,  98.,\n",
       "        99., 100., 101., 102., 103., 104., 105., 106., 107., 108., 109.,\n",
       "       110., 111., 113., 114., 115., 116., 118., 119., 123., 124., 127.,\n",
       "       128., 132., 133., 136., 137., 138., 140., 141., 143., 146., 147.,\n",
       "       148., 151., 152., 156., 157., 159., 162., 168., 172., 175., 183.,\n",
       "       186., 189., 199., 200., 201., 204., 207., 208., 209., 210., 212.,\n",
       "       219., 220., 223., 226., 228., 229., 230., 231., 237., 239., 244.,\n",
       "        nan])"
      ]
     },
     "execution_count": 38,
     "metadata": {},
     "output_type": "execute_result"
    }
   ],
   "source": [
    "sorted_age = users.Age.unique()\n",
    "sorted_age.sort()\n",
    "sorted_age"
   ]
  },
  {
   "cell_type": "markdown",
   "metadata": {},
   "source": [
    "Age column has some invalid entries like nan, 0 and very high values like 100 and above"
   ]
  },
  {
   "cell_type": "markdown",
   "metadata": {},
   "source": [
    "### Values below 5 and above 90 do not make much sense for our book rating case...hence replace these by NaNs"
   ]
  },
  {
   "cell_type": "code",
   "execution_count": 39,
   "metadata": {},
   "outputs": [
    {
     "data": {
      "text/plain": [
       "userID      1312\n",
       "Location    1312\n",
       "Age         1312\n",
       "dtype: int64"
      ]
     },
     "execution_count": 39,
     "metadata": {},
     "output_type": "execute_result"
    }
   ],
   "source": [
    "users[(users['Age'] > 90) | (users['Age'] < 5)].count()"
   ]
  },
  {
   "cell_type": "code",
   "execution_count": 40,
   "metadata": {},
   "outputs": [
    {
     "data": {
      "text/plain": [
       "userID      110762\n",
       "Location    110762\n",
       "Age              0\n",
       "dtype: int64"
      ]
     },
     "execution_count": 40,
     "metadata": {},
     "output_type": "execute_result"
    }
   ],
   "source": [
    "users[users['Age'].isna() == True].count()"
   ]
  },
  {
   "cell_type": "code",
   "execution_count": 41,
   "metadata": {},
   "outputs": [
    {
     "data": {
      "text/plain": [
       "userID      0\n",
       "Location    0\n",
       "Age         0\n",
       "dtype: int64"
      ]
     },
     "execution_count": 41,
     "metadata": {},
     "output_type": "execute_result"
    }
   ],
   "source": [
    "users['Age'] = np.where((users['Age'] > 90) | (users['Age'] < 5), np.NAN, users['Age'])\n",
    "users[(users['Age'] > 90) | (users['Age'] < 5)].count()"
   ]
  },
  {
   "cell_type": "code",
   "execution_count": 42,
   "metadata": {},
   "outputs": [
    {
     "data": {
      "text/plain": [
       "userID      112074\n",
       "Location    112074\n",
       "Age              0\n",
       "dtype: int64"
      ]
     },
     "execution_count": 42,
     "metadata": {},
     "output_type": "execute_result"
    }
   ],
   "source": [
    "users[users['Age'].isna() == True].count()"
   ]
  },
  {
   "cell_type": "code",
   "execution_count": 43,
   "metadata": {},
   "outputs": [
    {
     "data": {
      "text/plain": [
       "(278858, 3)"
      ]
     },
     "execution_count": 43,
     "metadata": {},
     "output_type": "execute_result"
    }
   ],
   "source": [
    "users.shape"
   ]
  },
  {
   "cell_type": "markdown",
   "metadata": {},
   "source": [
    "### Replace null values in column `Age` with mean"
   ]
  },
  {
   "cell_type": "code",
   "execution_count": 44,
   "metadata": {},
   "outputs": [],
   "source": [
    "users['Age'].fillna(axis=0, value=users.Age.mean(), inplace=True)"
   ]
  },
  {
   "cell_type": "code",
   "execution_count": 45,
   "metadata": {},
   "outputs": [
    {
     "data": {
      "text/plain": [
       "userID      0\n",
       "Location    0\n",
       "Age         0\n",
       "dtype: int64"
      ]
     },
     "execution_count": 45,
     "metadata": {},
     "output_type": "execute_result"
    }
   ],
   "source": [
    "users[users['Age'].isna() == True].count()"
   ]
  },
  {
   "cell_type": "code",
   "execution_count": 46,
   "metadata": {},
   "outputs": [
    {
     "data": {
      "text/plain": [
       "(278858, 3)"
      ]
     },
     "execution_count": 46,
     "metadata": {},
     "output_type": "execute_result"
    }
   ],
   "source": [
    "users.shape"
   ]
  },
  {
   "cell_type": "markdown",
   "metadata": {},
   "source": [
    "### Change the datatype of `Age` to `int`"
   ]
  },
  {
   "cell_type": "code",
   "execution_count": 47,
   "metadata": {},
   "outputs": [],
   "source": [
    "users['Age'] = users.Age.astype(dtype=np.int32)"
   ]
  },
  {
   "cell_type": "code",
   "execution_count": 48,
   "metadata": {
    "scrolled": true
   },
   "outputs": [
    {
     "name": "stdout",
     "output_type": "stream",
     "text": [
      "[5, 6, 7, 8, 9, 10, 11, 12, 13, 14, 15, 16, 17, 18, 19, 20, 21, 22, 23, 24, 25, 26, 27, 28, 29, 30, 31, 32, 33, 34, 35, 36, 37, 38, 39, 40, 41, 42, 43, 44, 45, 46, 47, 48, 49, 50, 51, 52, 53, 54, 55, 56, 57, 58, 59, 60, 61, 62, 63, 64, 65, 66, 67, 68, 69, 70, 71, 72, 73, 74, 75, 76, 77, 78, 79, 80, 81, 82, 83, 84, 85, 86, 87, 88, 89, 90]\n"
     ]
    }
   ],
   "source": [
    "print(sorted(users.Age.unique()))"
   ]
  },
  {
   "cell_type": "code",
   "execution_count": 49,
   "metadata": {
    "scrolled": true
   },
   "outputs": [
    {
     "name": "stdout",
     "output_type": "stream",
     "text": [
      "[5, 6, 7, 8, 9, 10, 11, 12, 13, 14, 15, 16, 17, 18, 19, 20, 21, 22, 23, 24, 25, 26, 27, 28, 29, 30, 31, 32, 33, 34, 35, 36, 37, 38, 39, 40, 41, 42, 43, 44, 45, 46, 47, 48, 49, 50, 51, 52, 53, 54, 55, 56, 57, 58, 59, 60, 61, 62, 63, 64, 65, 66, 67, 68, 69, 70, 71, 72, 73, 74, 75, 76, 77, 78, 79, 80, 81, 82, 83, 84, 85, 86, 87, 88, 89, 90]\n"
     ]
    }
   ],
   "source": [
    "print(sorted(users.Age.unique()))"
   ]
  },
  {
   "cell_type": "markdown",
   "metadata": {},
   "source": [
    "## Exploring the Ratings Dataset"
   ]
  },
  {
   "cell_type": "markdown",
   "metadata": {},
   "source": [
    "### check the shape"
   ]
  },
  {
   "cell_type": "code",
   "execution_count": 50,
   "metadata": {
    "scrolled": true
   },
   "outputs": [
    {
     "data": {
      "text/plain": [
       "(1149780, 3)"
      ]
     },
     "execution_count": 50,
     "metadata": {},
     "output_type": "execute_result"
    }
   ],
   "source": [
    "ratings.shape"
   ]
  },
  {
   "cell_type": "code",
   "execution_count": 51,
   "metadata": {
    "scrolled": true
   },
   "outputs": [
    {
     "data": {
      "text/plain": [
       "(1149780, 3)"
      ]
     },
     "execution_count": 51,
     "metadata": {},
     "output_type": "execute_result"
    }
   ],
   "source": [
    "ratings.shape"
   ]
  },
  {
   "cell_type": "code",
   "execution_count": 52,
   "metadata": {},
   "outputs": [],
   "source": [
    "n_users = users.shape[0]\n",
    "n_books = books.shape[0]"
   ]
  },
  {
   "cell_type": "code",
   "execution_count": 53,
   "metadata": {
    "scrolled": true
   },
   "outputs": [
    {
     "data": {
      "text/html": [
       "<div>\n",
       "<style scoped>\n",
       "    .dataframe tbody tr th:only-of-type {\n",
       "        vertical-align: middle;\n",
       "    }\n",
       "\n",
       "    .dataframe tbody tr th {\n",
       "        vertical-align: top;\n",
       "    }\n",
       "\n",
       "    .dataframe thead th {\n",
       "        text-align: right;\n",
       "    }\n",
       "</style>\n",
       "<table border=\"1\" class=\"dataframe\">\n",
       "  <thead>\n",
       "    <tr style=\"text-align: right;\">\n",
       "      <th></th>\n",
       "      <th>userID</th>\n",
       "      <th>ISBN</th>\n",
       "      <th>bookRating</th>\n",
       "    </tr>\n",
       "  </thead>\n",
       "  <tbody>\n",
       "    <tr>\n",
       "      <th>0</th>\n",
       "      <td>276725</td>\n",
       "      <td>034545104X</td>\n",
       "      <td>0</td>\n",
       "    </tr>\n",
       "    <tr>\n",
       "      <th>1</th>\n",
       "      <td>276726</td>\n",
       "      <td>0155061224</td>\n",
       "      <td>5</td>\n",
       "    </tr>\n",
       "    <tr>\n",
       "      <th>2</th>\n",
       "      <td>276727</td>\n",
       "      <td>0446520802</td>\n",
       "      <td>0</td>\n",
       "    </tr>\n",
       "    <tr>\n",
       "      <th>3</th>\n",
       "      <td>276729</td>\n",
       "      <td>052165615X</td>\n",
       "      <td>3</td>\n",
       "    </tr>\n",
       "    <tr>\n",
       "      <th>4</th>\n",
       "      <td>276729</td>\n",
       "      <td>0521795028</td>\n",
       "      <td>6</td>\n",
       "    </tr>\n",
       "  </tbody>\n",
       "</table>\n",
       "</div>"
      ],
      "text/plain": [
       "   userID        ISBN  bookRating\n",
       "0  276725  034545104X           0\n",
       "1  276726  0155061224           5\n",
       "2  276727  0446520802           0\n",
       "3  276729  052165615X           3\n",
       "4  276729  0521795028           6"
      ]
     },
     "execution_count": 53,
     "metadata": {},
     "output_type": "execute_result"
    }
   ],
   "source": [
    "ratings.head(5)"
   ]
  },
  {
   "cell_type": "code",
   "execution_count": 54,
   "metadata": {
    "scrolled": true
   },
   "outputs": [
    {
     "data": {
      "text/html": [
       "<div>\n",
       "<style scoped>\n",
       "    .dataframe tbody tr th:only-of-type {\n",
       "        vertical-align: middle;\n",
       "    }\n",
       "\n",
       "    .dataframe tbody tr th {\n",
       "        vertical-align: top;\n",
       "    }\n",
       "\n",
       "    .dataframe thead th {\n",
       "        text-align: right;\n",
       "    }\n",
       "</style>\n",
       "<table border=\"1\" class=\"dataframe\">\n",
       "  <thead>\n",
       "    <tr style=\"text-align: right;\">\n",
       "      <th></th>\n",
       "      <th>userID</th>\n",
       "      <th>ISBN</th>\n",
       "      <th>bookRating</th>\n",
       "    </tr>\n",
       "  </thead>\n",
       "  <tbody>\n",
       "    <tr>\n",
       "      <th>0</th>\n",
       "      <td>276725</td>\n",
       "      <td>034545104X</td>\n",
       "      <td>0</td>\n",
       "    </tr>\n",
       "    <tr>\n",
       "      <th>1</th>\n",
       "      <td>276726</td>\n",
       "      <td>0155061224</td>\n",
       "      <td>5</td>\n",
       "    </tr>\n",
       "    <tr>\n",
       "      <th>2</th>\n",
       "      <td>276727</td>\n",
       "      <td>0446520802</td>\n",
       "      <td>0</td>\n",
       "    </tr>\n",
       "    <tr>\n",
       "      <th>3</th>\n",
       "      <td>276729</td>\n",
       "      <td>052165615X</td>\n",
       "      <td>3</td>\n",
       "    </tr>\n",
       "    <tr>\n",
       "      <th>4</th>\n",
       "      <td>276729</td>\n",
       "      <td>0521795028</td>\n",
       "      <td>6</td>\n",
       "    </tr>\n",
       "  </tbody>\n",
       "</table>\n",
       "</div>"
      ],
      "text/plain": [
       "   userID        ISBN  bookRating\n",
       "0  276725  034545104X           0\n",
       "1  276726  0155061224           5\n",
       "2  276727  0446520802           0\n",
       "3  276729  052165615X           3\n",
       "4  276729  0521795028           6"
      ]
     },
     "execution_count": 54,
     "metadata": {},
     "output_type": "execute_result"
    }
   ],
   "source": [
    "ratings.head(5)"
   ]
  },
  {
   "cell_type": "markdown",
   "metadata": {},
   "source": [
    "### Ratings dataset should have books only which exist in our books dataset. Drop the remaining rows"
   ]
  },
  {
   "cell_type": "code",
   "execution_count": 55,
   "metadata": {},
   "outputs": [
    {
     "data": {
      "text/plain": [
       "(340556,)"
      ]
     },
     "execution_count": 55,
     "metadata": {},
     "output_type": "execute_result"
    }
   ],
   "source": [
    "ratings.ISBN.unique().shape"
   ]
  },
  {
   "cell_type": "code",
   "execution_count": 56,
   "metadata": {},
   "outputs": [
    {
     "data": {
      "text/plain": [
       "(271355,)"
      ]
     },
     "execution_count": 56,
     "metadata": {},
     "output_type": "execute_result"
    }
   ],
   "source": [
    "available_books_isbn = np.array(books.ISBN)\n",
    "available_books_isbn.shape"
   ]
  },
  {
   "cell_type": "code",
   "execution_count": 57,
   "metadata": {},
   "outputs": [],
   "source": [
    "ratings = ratings[ratings['ISBN'].isin(available_books_isbn)]"
   ]
  },
  {
   "cell_type": "code",
   "execution_count": 58,
   "metadata": {},
   "outputs": [
    {
     "data": {
      "text/plain": [
       "(270146,)"
      ]
     },
     "execution_count": 58,
     "metadata": {},
     "output_type": "execute_result"
    }
   ],
   "source": [
    "ratings.ISBN.unique().shape"
   ]
  },
  {
   "cell_type": "markdown",
   "metadata": {},
   "source": [
    "### Ratings dataset should have ratings from users which exist in users dataset. Drop the remaining rows"
   ]
  },
  {
   "cell_type": "code",
   "execution_count": 59,
   "metadata": {},
   "outputs": [
    {
     "data": {
      "text/plain": [
       "(92106,)"
      ]
     },
     "execution_count": 59,
     "metadata": {},
     "output_type": "execute_result"
    }
   ],
   "source": [
    "ratings.userID.unique().shape"
   ]
  },
  {
   "cell_type": "code",
   "execution_count": 60,
   "metadata": {},
   "outputs": [
    {
     "data": {
      "text/plain": [
       "(278858,)"
      ]
     },
     "execution_count": 60,
     "metadata": {},
     "output_type": "execute_result"
    }
   ],
   "source": [
    "available_users = np.array(users.userID)\n",
    "available_users.shape"
   ]
  },
  {
   "cell_type": "code",
   "execution_count": 61,
   "metadata": {},
   "outputs": [],
   "source": [
    "ratings = ratings[ratings['userID'].isin(available_users)]"
   ]
  },
  {
   "cell_type": "code",
   "execution_count": 62,
   "metadata": {},
   "outputs": [
    {
     "data": {
      "text/plain": [
       "(92106,)"
      ]
     },
     "execution_count": 62,
     "metadata": {},
     "output_type": "execute_result"
    }
   ],
   "source": [
    "ratings.userID.unique().shape"
   ]
  },
  {
   "cell_type": "markdown",
   "metadata": {},
   "source": [
    "### Consider only ratings from 1-10 and leave 0s in column `bookRating`"
   ]
  },
  {
   "cell_type": "code",
   "execution_count": 63,
   "metadata": {},
   "outputs": [
    {
     "data": {
      "text/plain": [
       "(1031130, 3)"
      ]
     },
     "execution_count": 63,
     "metadata": {},
     "output_type": "execute_result"
    }
   ],
   "source": [
    "ratings.shape"
   ]
  },
  {
   "cell_type": "code",
   "execution_count": 64,
   "metadata": {},
   "outputs": [
    {
     "data": {
      "text/html": [
       "<div>\n",
       "<style scoped>\n",
       "    .dataframe tbody tr th:only-of-type {\n",
       "        vertical-align: middle;\n",
       "    }\n",
       "\n",
       "    .dataframe tbody tr th {\n",
       "        vertical-align: top;\n",
       "    }\n",
       "\n",
       "    .dataframe thead th {\n",
       "        text-align: right;\n",
       "    }\n",
       "</style>\n",
       "<table border=\"1\" class=\"dataframe\">\n",
       "  <thead>\n",
       "    <tr style=\"text-align: right;\">\n",
       "      <th></th>\n",
       "      <th>userID</th>\n",
       "      <th>ISBN</th>\n",
       "      <th>bookRating</th>\n",
       "    </tr>\n",
       "  </thead>\n",
       "  <tbody>\n",
       "    <tr>\n",
       "      <th>0</th>\n",
       "      <td>276725</td>\n",
       "      <td>034545104X</td>\n",
       "      <td>0</td>\n",
       "    </tr>\n",
       "    <tr>\n",
       "      <th>1</th>\n",
       "      <td>276726</td>\n",
       "      <td>0155061224</td>\n",
       "      <td>5</td>\n",
       "    </tr>\n",
       "    <tr>\n",
       "      <th>2</th>\n",
       "      <td>276727</td>\n",
       "      <td>0446520802</td>\n",
       "      <td>0</td>\n",
       "    </tr>\n",
       "    <tr>\n",
       "      <th>3</th>\n",
       "      <td>276729</td>\n",
       "      <td>052165615X</td>\n",
       "      <td>3</td>\n",
       "    </tr>\n",
       "    <tr>\n",
       "      <th>4</th>\n",
       "      <td>276729</td>\n",
       "      <td>0521795028</td>\n",
       "      <td>6</td>\n",
       "    </tr>\n",
       "  </tbody>\n",
       "</table>\n",
       "</div>"
      ],
      "text/plain": [
       "   userID        ISBN  bookRating\n",
       "0  276725  034545104X           0\n",
       "1  276726  0155061224           5\n",
       "2  276727  0446520802           0\n",
       "3  276729  052165615X           3\n",
       "4  276729  0521795028           6"
      ]
     },
     "execution_count": 64,
     "metadata": {},
     "output_type": "execute_result"
    }
   ],
   "source": [
    "ratings.head()"
   ]
  },
  {
   "cell_type": "code",
   "execution_count": 65,
   "metadata": {},
   "outputs": [],
   "source": [
    "ratings = ratings[(ratings['bookRating'] >= 1) & (ratings['bookRating'] <= 10)]"
   ]
  },
  {
   "cell_type": "code",
   "execution_count": 66,
   "metadata": {},
   "outputs": [
    {
     "data": {
      "text/plain": [
       "(383839, 3)"
      ]
     },
     "execution_count": 66,
     "metadata": {},
     "output_type": "execute_result"
    }
   ],
   "source": [
    "ratings.shape"
   ]
  },
  {
   "cell_type": "code",
   "execution_count": 67,
   "metadata": {},
   "outputs": [
    {
     "data": {
      "text/html": [
       "<div>\n",
       "<style scoped>\n",
       "    .dataframe tbody tr th:only-of-type {\n",
       "        vertical-align: middle;\n",
       "    }\n",
       "\n",
       "    .dataframe tbody tr th {\n",
       "        vertical-align: top;\n",
       "    }\n",
       "\n",
       "    .dataframe thead th {\n",
       "        text-align: right;\n",
       "    }\n",
       "</style>\n",
       "<table border=\"1\" class=\"dataframe\">\n",
       "  <thead>\n",
       "    <tr style=\"text-align: right;\">\n",
       "      <th></th>\n",
       "      <th>userID</th>\n",
       "      <th>ISBN</th>\n",
       "      <th>bookRating</th>\n",
       "    </tr>\n",
       "  </thead>\n",
       "  <tbody>\n",
       "    <tr>\n",
       "      <th>1</th>\n",
       "      <td>276726</td>\n",
       "      <td>0155061224</td>\n",
       "      <td>5</td>\n",
       "    </tr>\n",
       "    <tr>\n",
       "      <th>3</th>\n",
       "      <td>276729</td>\n",
       "      <td>052165615X</td>\n",
       "      <td>3</td>\n",
       "    </tr>\n",
       "    <tr>\n",
       "      <th>4</th>\n",
       "      <td>276729</td>\n",
       "      <td>0521795028</td>\n",
       "      <td>6</td>\n",
       "    </tr>\n",
       "    <tr>\n",
       "      <th>8</th>\n",
       "      <td>276744</td>\n",
       "      <td>038550120X</td>\n",
       "      <td>7</td>\n",
       "    </tr>\n",
       "    <tr>\n",
       "      <th>16</th>\n",
       "      <td>276747</td>\n",
       "      <td>0060517794</td>\n",
       "      <td>9</td>\n",
       "    </tr>\n",
       "  </tbody>\n",
       "</table>\n",
       "</div>"
      ],
      "text/plain": [
       "    userID        ISBN  bookRating\n",
       "1   276726  0155061224           5\n",
       "3   276729  052165615X           3\n",
       "4   276729  0521795028           6\n",
       "8   276744  038550120X           7\n",
       "16  276747  0060517794           9"
      ]
     },
     "execution_count": 67,
     "metadata": {},
     "output_type": "execute_result"
    }
   ],
   "source": [
    "ratings.head()"
   ]
  },
  {
   "cell_type": "markdown",
   "metadata": {},
   "source": [
    "### Find out which rating has been given highest number of times"
   ]
  },
  {
   "cell_type": "code",
   "execution_count": 68,
   "metadata": {},
   "outputs": [
    {
     "data": {
      "image/png": "[encoded data removed]",
      "text/plain": [
       "<Figure size 720x504 with 1 Axes>"
      ]
     },
     "metadata": {},
     "output_type": "display_data"
    }
   ],
   "source": [
    "plt.figure(figsize=(10,7))\n",
    "ax = sns.countplot(ratings.bookRating)\n",
    "[ax.text(p[0]-1.25, p[1]+1000, p[1], color='grey') for p in zip((ratings.bookRating.value_counts()).index, ratings.bookRating.value_counts())]\n",
    "plt.show()"
   ]
  },
  {
   "cell_type": "code",
   "execution_count": 69,
   "metadata": {},
   "outputs": [
    {
     "name": "stdout",
     "output_type": "stream",
     "text": [
      "Rating given highest number of times is 8\n"
     ]
    }
   ],
   "source": [
    "print('Rating given highest number of times is', (ratings.bookRating.value_counts()).index[0])"
   ]
  },
  {
   "cell_type": "markdown",
   "metadata": {},
   "source": [
    "### **Collaborative Filtering Based Recommendation Systems**"
   ]
  },
  {
   "cell_type": "markdown",
   "metadata": {},
   "source": [
    "### For more accurate results only consider users who have rated atleast 100 books"
   ]
  },
  {
   "cell_type": "code",
   "execution_count": 70,
   "metadata": {},
   "outputs": [
    {
     "data": {
      "text/plain": [
       "449"
      ]
     },
     "execution_count": 70,
     "metadata": {},
     "output_type": "execute_result"
    }
   ],
   "source": [
    "rating_count = ratings['ISBN'].groupby(ratings['userID'])\n",
    "rating_count = rating_count.count().sort_values(ascending = False)\n",
    "active_users = rating_count[rating_count >= 100].index.tolist()\n",
    "len(active_users)"
   ]
  },
  {
   "cell_type": "code",
   "execution_count": 71,
   "metadata": {},
   "outputs": [
    {
     "data": {
      "text/plain": [
       "(383839, 3)"
      ]
     },
     "execution_count": 71,
     "metadata": {},
     "output_type": "execute_result"
    }
   ],
   "source": [
    "ratings.shape"
   ]
  },
  {
   "cell_type": "code",
   "execution_count": 72,
   "metadata": {},
   "outputs": [
    {
     "data": {
      "text/plain": [
       "(103269, 3)"
      ]
     },
     "execution_count": 72,
     "metadata": {},
     "output_type": "execute_result"
    }
   ],
   "source": [
    "qualified_ratings = ratings[ratings['userID'].isin(active_users)]\n",
    "qualified_ratings.shape"
   ]
  },
  {
   "cell_type": "markdown",
   "metadata": {},
   "source": [
    "### Generating ratings matrix from explicit ratings\n"
   ]
  },
  {
   "cell_type": "markdown",
   "metadata": {},
   "source": [
    "#### Note: since NaNs cannot be handled by training algorithms, replace these by 0, which indicates absence of ratings"
   ]
  },
  {
   "cell_type": "code",
   "execution_count": 73,
   "metadata": {},
   "outputs": [
    {
     "data": {
      "text/plain": [
       "userID        False\n",
       "ISBN          False\n",
       "bookRating    False\n",
       "dtype: bool"
      ]
     },
     "execution_count": 73,
     "metadata": {},
     "output_type": "execute_result"
    }
   ],
   "source": [
    "qualified_ratings.isna().any()"
   ]
  },
  {
   "cell_type": "code",
   "execution_count": 74,
   "metadata": {},
   "outputs": [
    {
     "data": {
      "text/plain": [
       "449"
      ]
     },
     "execution_count": 74,
     "metadata": {},
     "output_type": "execute_result"
    }
   ],
   "source": [
    "len(qualified_ratings.userID.unique())"
   ]
  },
  {
   "cell_type": "code",
   "execution_count": 75,
   "metadata": {},
   "outputs": [
    {
     "data": {
      "text/plain": [
       "66572"
      ]
     },
     "execution_count": 75,
     "metadata": {},
     "output_type": "execute_result"
    }
   ],
   "source": [
    "len(qualified_ratings.ISBN.unique())"
   ]
  },
  {
   "cell_type": "code",
   "execution_count": 76,
   "metadata": {},
   "outputs": [],
   "source": [
    "from surprise import Dataset,Reader,SVD,accuracy"
   ]
  },
  {
   "cell_type": "code",
   "execution_count": 77,
   "metadata": {},
   "outputs": [],
   "source": [
    "reader = Reader(rating_scale=(1, 10))\n",
    "data = Dataset.load_from_df(qualified_ratings[['userID', 'ISBN', 'bookRating']], reader)"
   ]
  },
  {
   "cell_type": "markdown",
   "metadata": {},
   "source": [
    "### Generate the predicted ratings using SVD with no.of singular values to be 50"
   ]
  },
  {
   "cell_type": "markdown",
   "metadata": {},
   "source": [
    "#### Since the question has asked for n_factors=50, we will use this model across, though rmse is better for another set of params"
   ]
  },
  {
   "cell_type": "code",
   "execution_count": 96,
   "metadata": {},
   "outputs": [
    {
     "data": {
      "text/plain": [
       "<surprise.prediction_algorithms.matrix_factorization.SVD at 0x1092a1ba8>"
      ]
     },
     "execution_count": 96,
     "metadata": {},
     "output_type": "execute_result"
    }
   ],
   "source": [
    "trainset_full = data.build_full_trainset()\n",
    "svd_model = SVD(n_factors=50,biased=False)\n",
    "svd_model.fit(trainset_full)"
   ]
  },
  {
   "cell_type": "code",
   "execution_count": 90,
   "metadata": {},
   "outputs": [],
   "source": [
    "# Split data to train and test\n",
    "from surprise.model_selection import train_test_split\n",
    "trainset, testset = train_test_split(data, test_size=.25,random_state=123)\n",
    "\n",
    "# to build on full data\n",
    "# trainset = data.build_full_trainset()"
   ]
  },
  {
   "cell_type": "code",
   "execution_count": 436,
   "metadata": {},
   "outputs": [
    {
     "name": "stdout",
     "output_type": "stream",
     "text": [
      "RMSE: 4.0444\n"
     ]
    },
    {
     "data": {
      "text/plain": [
       "4.044380321587452"
      ]
     },
     "execution_count": 436,
     "metadata": {},
     "output_type": "execute_result"
    }
   ],
   "source": [
    "svd_model_n100 = SVD(n_factors=100,biased=False)\n",
    "svd_model_n100.fit(trainset)\n",
    "test_pred_n100 = svd_model_n100.test(testset)\n",
    "accuracy.rmse(test_pred_n100)"
   ]
  },
  {
   "cell_type": "code",
   "execution_count": 444,
   "metadata": {},
   "outputs": [
    {
     "name": "stdout",
     "output_type": "stream",
     "text": [
      "RMSE: 3.7273\n"
     ]
    },
    {
     "data": {
      "text/plain": [
       "3.727278524739062"
      ]
     },
     "execution_count": 444,
     "metadata": {},
     "output_type": "execute_result"
    }
   ],
   "source": [
    "svd_model_n50 = SVD(n_factors=50,biased=False)\n",
    "svd_model_n50.fit(trainset)\n",
    "test_pred_n50 = svd_model_n50.test(testset)\n",
    "accuracy.rmse(test_pred_n50)                     # compute RMSE"
   ]
  },
  {
   "cell_type": "code",
   "execution_count": 437,
   "metadata": {},
   "outputs": [
    {
     "name": "stdout",
     "output_type": "stream",
     "text": [
      "RMSE: 3.4281\n"
     ]
    },
    {
     "data": {
      "text/plain": [
       "3.4280852461978983"
      ]
     },
     "execution_count": 437,
     "metadata": {},
     "output_type": "execute_result"
    }
   ],
   "source": [
    "svd_model_n20 = SVD(n_factors=20,biased=False)\n",
    "svd_model_n20.fit(trainset)\n",
    "test_pred_n20 = svd_model_n20.test(testset)\n",
    "accuracy.rmse(test_pred_n20)"
   ]
  },
  {
   "cell_type": "code",
   "execution_count": 438,
   "metadata": {},
   "outputs": [
    {
     "name": "stdout",
     "output_type": "stream",
     "text": [
      "RMSE: 3.2522\n"
     ]
    },
    {
     "data": {
      "text/plain": [
       "3.2521877704076334"
      ]
     },
     "execution_count": 438,
     "metadata": {},
     "output_type": "execute_result"
    }
   ],
   "source": [
    "svd_model_n10 = SVD(n_factors=10,biased=False)\n",
    "svd_model_n10.fit(trainset)\n",
    "test_pred_n10 = svd_model_n10.test(testset)\n",
    "accuracy.rmse(test_pred_n10)"
   ]
  },
  {
   "cell_type": "code",
   "execution_count": 439,
   "metadata": {},
   "outputs": [
    {
     "name": "stdout",
     "output_type": "stream",
     "text": [
      "RMSE: 3.0965\n"
     ]
    },
    {
     "data": {
      "text/plain": [
       "3.0964685163259644"
      ]
     },
     "execution_count": 439,
     "metadata": {},
     "output_type": "execute_result"
    }
   ],
   "source": [
    "svd_model_n5 = SVD(n_factors=5,biased=False)\n",
    "svd_model_n5.fit(trainset)\n",
    "test_pred_n5 = svd_model_n5.test(testset)\n",
    "accuracy.rmse(test_pred_n5)"
   ]
  },
  {
   "cell_type": "code",
   "execution_count": 441,
   "metadata": {},
   "outputs": [],
   "source": [
    "from surprise.model_selection import GridSearchCV\n",
    "param_grid = {'n_factors' : [2,5,10,15,20,50,100], \"reg_all\":[0.01,0.02]}\n",
    "gs = GridSearchCV(SVD, param_grid, measures=['rmse'], cv=3,refit = True)\n",
    "gs.fit(data)"
   ]
  },
  {
   "cell_type": "code",
   "execution_count": 442,
   "metadata": {},
   "outputs": [
    {
     "data": {
      "text/plain": [
       "{'rmse': {'n_factors': 2, 'reg_all': 0.02}}"
      ]
     },
     "execution_count": 442,
     "metadata": {},
     "output_type": "execute_result"
    }
   ],
   "source": [
    "gs.best_params"
   ]
  },
  {
   "cell_type": "code",
   "execution_count": 443,
   "metadata": {},
   "outputs": [
    {
     "data": {
      "text/plain": [
       "[Prediction(uid=86145, iid='0451457528', r_ui=7.0, est=6.746074641995565, details={'was_impossible': False}),\n",
       " Prediction(uid=247429, iid='0385095341', r_ui=10.0, est=9.60434810761421, details={'was_impossible': False}),\n",
       " Prediction(uid=134556, iid='0441294677', r_ui=8.0, est=8.294385510831539, details={'was_impossible': False}),\n",
       " Prediction(uid=234828, iid='0226791548', r_ui=6.0, est=7.572672255632107, details={'was_impossible': False}),\n",
       " Prediction(uid=225232, iid='0880015225', r_ui=5.0, est=7.405778440662209, details={'was_impossible': False}),\n",
       " Prediction(uid=258482, iid='0062732234', r_ui=8.0, est=8.19125113793573, details={'was_impossible': False}),\n",
       " Prediction(uid=143253, iid='0670447161', r_ui=9.0, est=9.025008001429018, details={'was_impossible': False}),\n",
       " Prediction(uid=89241, iid='1575668203', r_ui=5.0, est=6.966424727901353, details={'was_impossible': False}),\n",
       " Prediction(uid=98391, iid='0451411374', r_ui=10.0, est=9.047719551249271, details={'was_impossible': False}),\n",
       " Prediction(uid=58594, iid='1931081670', r_ui=10.0, est=7.964708920364117, details={'was_impossible': False}),\n",
       " Prediction(uid=207494, iid='0679600752', r_ui=5.0, est=7.400171552254432, details={'was_impossible': False}),\n",
       " Prediction(uid=214272, iid='0062553046', r_ui=8.0, est=7.947934610315025, details={'was_impossible': False}),\n",
       " Prediction(uid=227097, iid='0316666343', r_ui=8.0, est=7.443123056004615, details={'was_impossible': False}),\n",
       " Prediction(uid=102262, iid='0316769487', r_ui=9.0, est=8.328631087904895, details={'was_impossible': False}),\n",
       " Prediction(uid=153662, iid='0440983568', r_ui=9.0, est=8.205771079008642, details={'was_impossible': False}),\n",
       " Prediction(uid=182085, iid='0373114818', r_ui=9.0, est=8.94984313525223, details={'was_impossible': False}),\n",
       " Prediction(uid=13380, iid='0140432620', r_ui=4.0, est=6.700315878799958, details={'was_impossible': False}),\n",
       " Prediction(uid=221870, iid='0671004565', r_ui=10.0, est=8.542194840965719, details={'was_impossible': False}),\n",
       " Prediction(uid=250510, iid='0553502662', r_ui=7.0, est=7.5081568366748845, details={'was_impossible': False}),\n",
       " Prediction(uid=185384, iid='0736903038', r_ui=10.0, est=8.45386198797391, details={'was_impossible': False}),\n",
       " Prediction(uid=177458, iid='1853263338', r_ui=7.0, est=7.132510934673595, details={'was_impossible': False}),\n",
       " Prediction(uid=98804, iid='0380731851', r_ui=7.0, est=7.3881334347797045, details={'was_impossible': False}),\n",
       " Prediction(uid=166596, iid='0385266707', r_ui=8.0, est=7.651367566678231, details={'was_impossible': False}),\n",
       " Prediction(uid=125754, iid='0385335482', r_ui=8.0, est=7.835752279027452, details={'was_impossible': False}),\n",
       " Prediction(uid=202195, iid='0446607657', r_ui=5.0, est=6.941970615642154, details={'was_impossible': False}),\n",
       " Prediction(uid=98391, iid='0821776312', r_ui=10.0, est=9.113768025006634, details={'was_impossible': False}),\n",
       " Prediction(uid=79441, iid='0304354597', r_ui=5.0, est=7.316421852332763, details={'was_impossible': False}),\n",
       " Prediction(uid=220240, iid='0060502258', r_ui=6.0, est=7.499100027268151, details={'was_impossible': False}),\n",
       " Prediction(uid=129074, iid='0449200531', r_ui=8.0, est=7.728365256058889, details={'was_impossible': False}),\n",
       " Prediction(uid=206563, iid='0679442790', r_ui=10.0, est=8.482692497666127, details={'was_impossible': False}),\n",
       " Prediction(uid=173860, iid='0743237188', r_ui=8.0, est=7.383624518935153, details={'was_impossible': False}),\n",
       " Prediction(uid=140358, iid='0452282829', r_ui=5.0, est=4.492899646251346, details={'was_impossible': False}),\n",
       " Prediction(uid=229316, iid='0753813203', r_ui=6.0, est=7.282729489787682, details={'was_impossible': False}),\n",
       " Prediction(uid=23869, iid='1551665301', r_ui=7.0, est=6.726713761041137, details={'was_impossible': False}),\n",
       " Prediction(uid=33006, iid='0889740224', r_ui=10.0, est=8.194326593245115, details={'was_impossible': False}),\n",
       " Prediction(uid=113966, iid='0425143325', r_ui=5.0, est=6.014573775358154, details={'was_impossible': False}),\n",
       " Prediction(uid=198842, iid='3423119160', r_ui=9.0, est=8.172363732612949, details={'was_impossible': False}),\n",
       " Prediction(uid=177432, iid='0679736662', r_ui=8.0, est=7.85285554153556, details={'was_impossible': False}),\n",
       " Prediction(uid=132500, iid='342670174X', r_ui=7.0, est=7.471730498880964, details={'was_impossible': False}),\n",
       " Prediction(uid=193778, iid='0451205448', r_ui=5.0, est=8.278495376925056, details={'was_impossible': False}),\n",
       " Prediction(uid=38482, iid='0449912175', r_ui=5.0, est=6.892854711588758, details={'was_impossible': False}),\n",
       " Prediction(uid=20561, iid='0440224675', r_ui=8.0, est=7.973573007820764, details={'was_impossible': False}),\n",
       " Prediction(uid=4223, iid='3795116074', r_ui=6.0, est=7.205255050490793, details={'was_impossible': False}),\n",
       " Prediction(uid=168029, iid='0380807947', r_ui=7.0, est=7.071918524959199, details={'was_impossible': False}),\n",
       " Prediction(uid=118985, iid='0743457579', r_ui=9.0, est=7.890462540878918, details={'was_impossible': False}),\n",
       " Prediction(uid=162738, iid='0440212812', r_ui=8.0, est=7.164708627923932, details={'was_impossible': False}),\n",
       " Prediction(uid=240567, iid='0786016051', r_ui=8.0, est=7.139430962875101, details={'was_impossible': False}),\n",
       " Prediction(uid=91962, iid='0140366733', r_ui=9.0, est=7.978249766903067, details={'was_impossible': False}),\n",
       " Prediction(uid=248718, iid='0312015283', r_ui=8.0, est=8.288725342362813, details={'was_impossible': False}),\n",
       " Prediction(uid=206002, iid='1558585362', r_ui=10.0, est=8.09369265782589, details={'was_impossible': False}),\n",
       " Prediction(uid=179978, iid='0030686792', r_ui=8.0, est=8.671170885516752, details={'was_impossible': False}),\n",
       " Prediction(uid=137397, iid='2226048464', r_ui=7.0, est=7.567698650090996, details={'was_impossible': False}),\n",
       " Prediction(uid=236480, iid='0821758179', r_ui=3.0, est=6.513036219190616, details={'was_impossible': False}),\n",
       " Prediction(uid=81143, iid='0745950450', r_ui=6.0, est=7.341305432432351, details={'was_impossible': False}),\n",
       " Prediction(uid=224646, iid='0415006406', r_ui=8.0, est=7.78639480598786, details={'was_impossible': False}),\n",
       " Prediction(uid=163761, iid='0440129737', r_ui=7.0, est=6.616797905921531, details={'was_impossible': False}),\n",
       " Prediction(uid=157273, iid='0316037451', r_ui=7.0, est=7.501628384557674, details={'was_impossible': False}),\n",
       " Prediction(uid=238120, iid='0394870417', r_ui=8.0, est=7.188658745248034, details={'was_impossible': False}),\n",
       " Prediction(uid=89856, iid='0140620850', r_ui=7.0, est=7.37808165232415, details={'was_impossible': False}),\n",
       " Prediction(uid=189334, iid='0394561619', r_ui=10.0, est=9.320646609020194, details={'was_impossible': False}),\n",
       " Prediction(uid=106845, iid='0142002798', r_ui=8.0, est=7.418655923544246, details={'was_impossible': False}),\n",
       " Prediction(uid=171118, iid='0553238035', r_ui=8.0, est=7.382102431150289, details={'was_impossible': False}),\n",
       " Prediction(uid=139524, iid='1591822971', r_ui=10.0, est=8.878399496186773, details={'was_impossible': False}),\n",
       " Prediction(uid=257204, iid='0786904976', r_ui=10.0, est=9.48422755296855, details={'was_impossible': False}),\n",
       " Prediction(uid=110895, iid='0945257422', r_ui=5.0, est=7.135747278519467, details={'was_impossible': False}),\n",
       " Prediction(uid=156467, iid='0440185327', r_ui=10.0, est=9.294043027221315, details={'was_impossible': False}),\n",
       " Prediction(uid=141493, iid='0836217810', r_ui=10.0, est=8.88311917030349, details={'was_impossible': False}),\n",
       " Prediction(uid=107758, iid='0425179443', r_ui=8.0, est=7.869270556049545, details={'was_impossible': False}),\n",
       " Prediction(uid=6073, iid='0553273914', r_ui=9.0, est=9.023195284920758, details={'was_impossible': False}),\n",
       " Prediction(uid=40943, iid='0312288115', r_ui=1.0, est=6.367760141515782, details={'was_impossible': False}),\n",
       " Prediction(uid=265889, iid='0804119805', r_ui=5.0, est=8.171589626795098, details={'was_impossible': False}),\n",
       " Prediction(uid=93047, iid='1555831184', r_ui=8.0, est=7.451125609611324, details={'was_impossible': False}),\n",
       " Prediction(uid=48579, iid='0385416652', r_ui=5.0, est=7.729536694514164, details={'was_impossible': False}),\n",
       " Prediction(uid=147978, iid='0380978822', r_ui=6.0, est=7.478609913254278, details={'was_impossible': False}),\n",
       " Prediction(uid=98428, iid='8420633194', r_ui=7.0, est=7.929085587639649, details={'was_impossible': False}),\n",
       " Prediction(uid=141937, iid='059035342X', r_ui=10.0, est=9.157351283889533, details={'was_impossible': False}),\n",
       " Prediction(uid=140226, iid='3810523534', r_ui=6.0, est=6.9392064089443295, details={'was_impossible': False}),\n",
       " Prediction(uid=114868, iid='0879015497', r_ui=7.0, est=7.825255646730239, details={'was_impossible': False}),\n",
       " Prediction(uid=191523, iid='0451195493', r_ui=10.0, est=8.135944758843534, details={'was_impossible': False}),\n",
       " Prediction(uid=34465, iid='0375507124', r_ui=5.0, est=5.154527833059793, details={'was_impossible': False}),\n",
       " Prediction(uid=254068, iid='0590189778', r_ui=6.0, est=7.521881812489091, details={'was_impossible': False}),\n",
       " Prediction(uid=80331, iid='0708914586', r_ui=8.0, est=7.6927576731499725, details={'was_impossible': False}),\n",
       " Prediction(uid=24933, iid='0671797476', r_ui=5.0, est=6.547192029633808, details={'was_impossible': False}),\n",
       " Prediction(uid=179165, iid='1882606191', r_ui=8.0, est=7.321481105473014, details={'was_impossible': False}),\n",
       " Prediction(uid=43619, iid='0345446860', r_ui=8.0, est=7.499092114748143, details={'was_impossible': False}),\n",
       " Prediction(uid=235105, iid='0373260466', r_ui=7.0, est=7.880531263182083, details={'was_impossible': False}),\n",
       " Prediction(uid=236283, iid='0786890436', r_ui=10.0, est=8.50773585154039, details={'was_impossible': False}),\n",
       " Prediction(uid=165345, iid='0310585902', r_ui=5.0, est=7.776622876311152, details={'was_impossible': False}),\n",
       " Prediction(uid=42718, iid='1565075404', r_ui=8.0, est=9.237797254910014, details={'was_impossible': False}),\n",
       " Prediction(uid=127080, iid='0679767223', r_ui=10.0, est=8.450273840117458, details={'was_impossible': False}),\n",
       " Prediction(uid=241980, iid='0842329129', r_ui=10.0, est=9.563340102235802, details={'was_impossible': False}),\n",
       " Prediction(uid=167166, iid='3492229417', r_ui=9.0, est=7.6870612743871325, details={'was_impossible': False}),\n",
       " Prediction(uid=193898, iid='0425146197', r_ui=7.0, est=7.478864085605657, details={'was_impossible': False}),\n",
       " Prediction(uid=243236, iid='0140299947', r_ui=7.0, est=7.149710261124943, details={'was_impossible': False}),\n",
       " Prediction(uid=141601, iid='2226116680', r_ui=9.0, est=7.608270535806121, details={'was_impossible': False}),\n",
       " Prediction(uid=82511, iid='006019538X', r_ui=8.0, est=7.03253018107464, details={'was_impossible': False}),\n",
       " Prediction(uid=96115, iid='0316666343', r_ui=8.0, est=8.06389683168282, details={'was_impossible': False}),\n",
       " Prediction(uid=8890, iid='2869305583', r_ui=7.0, est=7.792676927086801, details={'was_impossible': False}),\n",
       " Prediction(uid=199180, iid='2070367606', r_ui=5.0, est=6.831030734393397, details={'was_impossible': False}),\n",
       " Prediction(uid=217106, iid='0553052187', r_ui=8.0, est=7.636414487334468, details={'was_impossible': False}),\n",
       " Prediction(uid=213628, iid='0786801972', r_ui=8.0, est=7.516639824042463, details={'was_impossible': False}),\n",
       " Prediction(uid=195980, iid='0671638106', r_ui=9.0, est=8.534671184552284, details={'was_impossible': False}),\n",
       " Prediction(uid=30147, iid='0440224721', r_ui=5.0, est=7.1507026482265665, details={'was_impossible': False}),\n",
       " Prediction(uid=69945, iid='0671027387', r_ui=8.0, est=7.603732387438869, details={'was_impossible': False}),\n",
       " Prediction(uid=93565, iid='034538072X', r_ui=8.0, est=8.24568751310033, details={'was_impossible': False}),\n",
       " Prediction(uid=124079, iid='0590417843', r_ui=7.0, est=6.5011495904334895, details={'was_impossible': False}),\n",
       " Prediction(uid=49144, iid='8432211427', r_ui=5.0, est=5.326838035799488, details={'was_impossible': False}),\n",
       " Prediction(uid=244359, iid='0060977493', r_ui=9.0, est=7.248222402791338, details={'was_impossible': False}),\n",
       " Prediction(uid=214786, iid='0345353145', r_ui=7.0, est=8.695697498051882, details={'was_impossible': False}),\n",
       " Prediction(uid=86437, iid='0312863551', r_ui=7.0, est=7.803644721517828, details={'was_impossible': False}),\n",
       " Prediction(uid=153662, iid='0446350907', r_ui=10.0, est=8.311729180828864, details={'was_impossible': False}),\n",
       " Prediction(uid=218844, iid='0688162827', r_ui=9.0, est=7.7505297578262144, details={'was_impossible': False}),\n",
       " Prediction(uid=201768, iid='0671016776', r_ui=10.0, est=8.294850926184731, details={'was_impossible': False}),\n",
       " Prediction(uid=68757, iid='0702222550', r_ui=3.0, est=6.089399683753676, details={'was_impossible': False}),\n",
       " Prediction(uid=236340, iid='0312952058', r_ui=7.0, est=7.792971154220258, details={'was_impossible': False}),\n",
       " Prediction(uid=140805, iid='3423780916', r_ui=9.0, est=7.884924313607998, details={'was_impossible': False}),\n",
       " Prediction(uid=249223, iid='0679459626', r_ui=9.0, est=6.991997212230714, details={'was_impossible': False}),\n",
       " Prediction(uid=224342, iid='0446611867', r_ui=1.0, est=7.439521063979428, details={'was_impossible': False}),\n",
       " Prediction(uid=13273, iid='0520057708', r_ui=5.0, est=7.309591403367655, details={'was_impossible': False}),\n",
       " Prediction(uid=53390, iid='0449907481', r_ui=8.0, est=7.761266351146211, details={'was_impossible': False}),\n",
       " Prediction(uid=206635, iid='0060002492', r_ui=10.0, est=8.503942519274416, details={'was_impossible': False}),\n",
       " Prediction(uid=164581, iid='0836217578', r_ui=9.0, est=8.53470714436454, details={'was_impossible': False}),\n",
       " Prediction(uid=81848, iid='0316693235', r_ui=8.0, est=7.115181095714076, details={'was_impossible': False}),\n",
       " Prediction(uid=208406, iid='0449911462', r_ui=8.0, est=8.428681223602362, details={'was_impossible': False}),\n",
       " Prediction(uid=235604, iid='1862045143', r_ui=7.0, est=6.9571447724488, details={'was_impossible': False}),\n",
       " Prediction(uid=242006, iid='0373471564', r_ui=9.0, est=8.981138789138063, details={'was_impossible': False}),\n",
       " Prediction(uid=248749, iid='0609606727', r_ui=9.0, est=8.285978369312305, details={'was_impossible': False}),\n",
       " Prediction(uid=123981, iid='0440106478', r_ui=8.0, est=7.67304668234409, details={'was_impossible': False}),\n",
       " Prediction(uid=109709, iid='0451184963', r_ui=6.0, est=7.071963057012184, details={'was_impossible': False}),\n",
       " Prediction(uid=188951, iid='0764550136', r_ui=7.0, est=8.350959177305729, details={'was_impossible': False}),\n",
       " Prediction(uid=107045, iid='1565847032', r_ui=9.0, est=7.967367456560682, details={'was_impossible': False}),\n",
       " Prediction(uid=51879, iid='0449904067', r_ui=10.0, est=8.202868474043195, details={'was_impossible': False}),\n",
       " Prediction(uid=196024, iid='8804497033', r_ui=7.0, est=7.405667705740797, details={'was_impossible': False}),\n",
       " Prediction(uid=48158, iid='0553212710', r_ui=8.0, est=8.257101324096567, details={'was_impossible': False}),\n",
       " Prediction(uid=513, iid='0553279572', r_ui=9.0, est=7.629864159122032, details={'was_impossible': False}),\n",
       " Prediction(uid=19974, iid='0312199511', r_ui=8.0, est=7.1340349541760455, details={'was_impossible': False}),\n",
       " Prediction(uid=11676, iid='0812571983', r_ui=5.0, est=4.977559503839814, details={'was_impossible': False}),\n",
       " Prediction(uid=138844, iid='0449219364', r_ui=8.0, est=8.61849204276855, details={'was_impossible': False}),\n",
       " Prediction(uid=98391, iid='1893896838', r_ui=9.0, est=9.00015288729822, details={'was_impossible': False}),\n",
       " Prediction(uid=205735, iid='0717282783', r_ui=10.0, est=9.33517870045202, details={'was_impossible': False}),\n",
       " Prediction(uid=149934, iid='0425176118', r_ui=3.0, est=6.278316530696172, details={'was_impossible': False}),\n",
       " Prediction(uid=11601, iid='0375703063', r_ui=10.0, est=8.576987245109692, details={'was_impossible': False}),\n",
       " Prediction(uid=170429, iid='0684848406', r_ui=5.0, est=7.187102820128703, details={'was_impossible': False}),\n",
       " Prediction(uid=54222, iid='0060292458', r_ui=5.0, est=6.7012974361187005, details={'was_impossible': False}),\n",
       " Prediction(uid=259260, iid='0345335236', r_ui=8.0, est=7.958420028333466, details={'was_impossible': False}),\n",
       " Prediction(uid=114085, iid='0064401707', r_ui=10.0, est=9.174408164533896, details={'was_impossible': False}),\n",
       " Prediction(uid=163759, iid='0671568310', r_ui=5.0, est=4.9221769589424165, details={'was_impossible': False}),\n",
       " Prediction(uid=11676, iid='0192835092', r_ui=10.0, est=8.996475596717628, details={'was_impossible': False}),\n",
       " Prediction(uid=84526, iid='0373166931', r_ui=10.0, est=7.9165852556616265, details={'was_impossible': False}),\n",
       " Prediction(uid=189973, iid='055358068X', r_ui=3.0, est=5.6133862072487535, details={'was_impossible': False}),\n",
       " Prediction(uid=144365, iid='0395765315', r_ui=6.0, est=7.330230403314193, details={'was_impossible': False}),\n",
       " Prediction(uid=47929, iid='082175856X', r_ui=5.0, est=6.373359192905259, details={'was_impossible': False}),\n",
       " Prediction(uid=7033, iid='0060928336', r_ui=9.0, est=7.722903603316135, details={'was_impossible': False}),\n",
       " Prediction(uid=208907, iid='0517642905', r_ui=10.0, est=8.78177051177539, details={'was_impossible': False}),\n",
       " Prediction(uid=16036, iid='0385319037', r_ui=10.0, est=7.0447966105763795, details={'was_impossible': False}),\n",
       " Prediction(uid=63714, iid='0805048715', r_ui=9.0, est=9.369332706885649, details={'was_impossible': False}),\n",
       " Prediction(uid=116327, iid='0671891081', r_ui=7.0, est=7.5333757915930795, details={'was_impossible': False}),\n",
       " Prediction(uid=171970, iid='0393952835', r_ui=7.0, est=7.978820131921554, details={'was_impossible': False}),\n",
       " Prediction(uid=129489, iid='0345386132', r_ui=10.0, est=9.878146534269483, details={'was_impossible': False}),\n",
       " Prediction(uid=170724, iid='0316781266', r_ui=5.0, est=7.686439279970209, details={'was_impossible': False}),\n",
       " Prediction(uid=11676, iid='0020519001', r_ui=7.0, est=6.617343530968515, details={'was_impossible': False}),\n",
       " Prediction(uid=94744, iid='0914845462', r_ui=8.0, est=6.371040023782355, details={'was_impossible': False}),\n",
       " Prediction(uid=171846, iid='0330330004', r_ui=10.0, est=8.546402134128128, details={'was_impossible': False}),\n",
       " Prediction(uid=175003, iid='155874262X', r_ui=10.0, est=9.700903746363586, details={'was_impossible': False}),\n",
       " Prediction(uid=170415, iid='059043828X', r_ui=2.0, est=5.574849603143189, details={'was_impossible': False}),\n",
       " Prediction(uid=250925, iid='0425175405', r_ui=5.0, est=8.494319775587984, details={'was_impossible': False}),\n",
       " Prediction(uid=172676, iid='0066211220', r_ui=7.0, est=7.914138320244658, details={'was_impossible': False}),\n",
       " Prediction(uid=41084, iid='0399501487', r_ui=9.0, est=8.237983415112868, details={'was_impossible': False}),\n",
       " Prediction(uid=131202, iid='0671534742', r_ui=9.0, est=7.096682255071959, details={'was_impossible': False}),\n",
       " Prediction(uid=58167, iid='0553583859', r_ui=7.0, est=7.6516765241305205, details={'was_impossible': False}),\n",
       " Prediction(uid=96128, iid='0140100199', r_ui=8.0, est=7.587791749507141, details={'was_impossible': False}),\n",
       " Prediction(uid=21370, iid='0451525140', r_ui=7.0, est=6.740161273366009, details={'was_impossible': False}),\n",
       " Prediction(uid=123249, iid='0892966904', r_ui=5.0, est=6.310219597026065, details={'was_impossible': False}),\n",
       " Prediction(uid=52584, iid='0425059995', r_ui=8.0, est=7.336564827112055, details={'was_impossible': False}),\n",
       " Prediction(uid=93047, iid='0553109588', r_ui=7.0, est=7.492984781806857, details={'was_impossible': False}),\n",
       " Prediction(uid=245934, iid='0373036159', r_ui=5.0, est=7.025038889273368, details={'was_impossible': False}),\n",
       " Prediction(uid=35704, iid='0385504209', r_ui=9.0, est=8.611639154193922, details={'was_impossible': False}),\n",
       " Prediction(uid=267304, iid='0345435249', r_ui=7.0, est=7.6486764861818, details={'was_impossible': False}),\n",
       " Prediction(uid=172539, iid='0553234811', r_ui=8.0, est=8.429051158272415, details={'was_impossible': False}),\n",
       " Prediction(uid=272482, iid='0028604199', r_ui=10.0, est=8.48623760803988, details={'was_impossible': False}),\n",
       " Prediction(uid=87579, iid='0441317502', r_ui=4.0, est=6.369168399323237, details={'was_impossible': False}),\n",
       " Prediction(uid=161467, iid='0316693286', r_ui=8.0, est=7.999774277438825, details={'was_impossible': False}),\n",
       " Prediction(uid=87141, iid='1572316381', r_ui=8.0, est=7.763694936462019, details={'was_impossible': False}),\n",
       " Prediction(uid=208907, iid='0440180295', r_ui=10.0, est=9.25604227308614, details={'was_impossible': False}),\n",
       " Prediction(uid=81157, iid='0385492081', r_ui=9.0, est=8.365264064567546, details={'was_impossible': False}),\n",
       " Prediction(uid=217566, iid='0870404881', r_ui=6.0, est=7.156302832549103, details={'was_impossible': False}),\n",
       " Prediction(uid=59197, iid='0449912639', r_ui=7.0, est=7.2614528900328175, details={'was_impossible': False}),\n",
       " Prediction(uid=23902, iid='0575041773', r_ui=7.0, est=7.447065841607939, details={'was_impossible': False}),\n",
       " Prediction(uid=78834, iid='0449911519', r_ui=10.0, est=9.909137531807637, details={'was_impossible': False}),\n",
       " Prediction(uid=54283, iid='0385720106', r_ui=10.0, est=6.751451055325392, details={'was_impossible': False}),\n",
       " Prediction(uid=212265, iid='0312195516', r_ui=10.0, est=8.490207177317135, details={'was_impossible': False}),\n",
       " Prediction(uid=1660, iid='089480829X', r_ui=7.0, est=7.275345534616845, details={'was_impossible': False}),\n",
       " Prediction(uid=71490, iid='0451458540', r_ui=6.0, est=6.439906994052293, details={'was_impossible': False}),\n",
       " Prediction(uid=119706, iid='0140431543', r_ui=10.0, est=8.316852563137452, details={'was_impossible': False}),\n",
       " Prediction(uid=59172, iid='0743249305', r_ui=8.0, est=9.021319500207966, details={'was_impossible': False}),\n",
       " Prediction(uid=71853, iid='0851703003', r_ui=9.0, est=7.913421174519519, details={'was_impossible': False}),\n",
       " Prediction(uid=217740, iid='1400034957', r_ui=3.0, est=5.923697906810406, details={'was_impossible': False}),\n",
       " Prediction(uid=28594, iid='0553578820', r_ui=7.0, est=7.029355867675433, details={'was_impossible': False}),\n",
       " Prediction(uid=235105, iid='089296801X', r_ui=8.0, est=7.9909283490978025, details={'was_impossible': False}),\n",
       " Prediction(uid=189973, iid='0836220854', r_ui=7.0, est=6.948019261417466, details={'was_impossible': False}),\n",
       " Prediction(uid=32802, iid='0446613266', r_ui=9.0, est=6.600607055601627, details={'was_impossible': False}),\n",
       " Prediction(uid=184493, iid='0060977493', r_ui=8.0, est=7.681427620665843, details={'was_impossible': False}),\n",
       " Prediction(uid=79952, iid='0450547434', r_ui=6.0, est=7.294932513212612, details={'was_impossible': False}),\n",
       " Prediction(uid=147686, iid='067974066X', r_ui=10.0, est=8.77219469094882, details={'was_impossible': False}),\n",
       " Prediction(uid=133225, iid='0743455967', r_ui=10.0, est=9.07056153737345, details={'was_impossible': False}),\n",
       " Prediction(uid=205735, iid='080662499X', r_ui=8.0, est=9.095722259237563, details={'was_impossible': False}),\n",
       " Prediction(uid=69078, iid='0679442324', r_ui=8.0, est=7.89626767909433, details={'was_impossible': False}),\n",
       " Prediction(uid=69627, iid='0876858183', r_ui=6.0, est=7.297734720141392, details={'was_impossible': False}),\n",
       " Prediction(uid=11676, iid='0449144925', r_ui=3.0, est=3.502915287266336, details={'was_impossible': False}),\n",
       " Prediction(uid=269714, iid='0451454375', r_ui=7.0, est=7.16819398083505, details={'was_impossible': False}),\n",
       " Prediction(uid=69211, iid='0312971397', r_ui=8.0, est=7.544725218540999, details={'was_impossible': False}),\n",
       " Prediction(uid=225199, iid='0671774832', r_ui=9.0, est=8.391706740611523, details={'was_impossible': False}),\n",
       " Prediction(uid=178667, iid='0451155068', r_ui=8.0, est=6.558095537128117, details={'was_impossible': False}),\n",
       " Prediction(uid=16601, iid='0786819146', r_ui=9.0, est=9.04205173446842, details={'was_impossible': False}),\n",
       " Prediction(uid=35592, iid='0670894184', r_ui=4.0, est=6.90503658607672, details={'was_impossible': False}),\n",
       " Prediction(uid=240541, iid='0794601464', r_ui=5.0, est=6.977426065524389, details={'was_impossible': False}),\n",
       " Prediction(uid=5260, iid='3772516580', r_ui=2.0, est=6.578484553876986, details={'was_impossible': False}),\n",
       " Prediction(uid=85526, iid='3822814962', r_ui=8.0, est=7.884153303937357, details={'was_impossible': False}),\n",
       " Prediction(uid=268065, iid='0140443487', r_ui=1.0, est=6.416665116406199, details={'was_impossible': False}),\n",
       " Prediction(uid=80357, iid='0440235162', r_ui=9.0, est=7.967557374693518, details={'was_impossible': False}),\n",
       " Prediction(uid=104429, iid='0380719185', r_ui=10.0, est=9.43515553627623, details={'was_impossible': False}),\n",
       " Prediction(uid=129494, iid='0394800028', r_ui=7.0, est=7.194566669456801, details={'was_impossible': False}),\n",
       " Prediction(uid=67085, iid='0425180042', r_ui=6.0, est=7.149382603013637, details={'was_impossible': False}),\n",
       " Prediction(uid=35859, iid='0425140989', r_ui=6.0, est=6.48773751327728, details={'was_impossible': False}),\n",
       " Prediction(uid=224904, iid='0373168438', r_ui=3.0, est=4.981885872398984, details={'was_impossible': False}),\n",
       " Prediction(uid=69697, iid='0451411137', r_ui=7.0, est=8.757154099431991, details={'was_impossible': False}),\n",
       " Prediction(uid=274808, iid='0671787918', r_ui=8.0, est=8.079893716180413, details={'was_impossible': False}),\n",
       " Prediction(uid=278221, iid='0671027441', r_ui=10.0, est=9.158299008613405, details={'was_impossible': False}),\n",
       " Prediction(uid=93092, iid='0192833731', r_ui=10.0, est=8.734090762120879, details={'was_impossible': False}),\n",
       " Prediction(uid=214786, iid='0553580930', r_ui=10.0, est=8.755979465551217, details={'was_impossible': False}),\n",
       " Prediction(uid=129851, iid='0671690221', r_ui=8.0, est=7.5327591006855545, details={'was_impossible': False}),\n",
       " Prediction(uid=37597, iid='044023669X', r_ui=10.0, est=9.22879123720732, details={'was_impossible': False}),\n",
       " Prediction(uid=123608, iid='0440237165', r_ui=8.0, est=6.690421574366312, details={'was_impossible': False}),\n",
       " Prediction(uid=142524, iid='0394578759', r_ui=8.0, est=7.782167584102613, details={'was_impossible': False}),\n",
       " Prediction(uid=23872, iid='0700609369', r_ui=7.0, est=7.400386184774984, details={'was_impossible': False}),\n",
       " Prediction(uid=62688, iid='1560761180', r_ui=7.0, est=7.1336110727084, details={'was_impossible': False}),\n",
       " Prediction(uid=45641, iid='0440235774', r_ui=8.0, est=6.656128990153794, details={'was_impossible': False}),\n",
       " Prediction(uid=174304, iid='8401462231', r_ui=7.0, est=7.674565710693157, details={'was_impossible': False}),\n",
       " Prediction(uid=218596, iid='8476690495', r_ui=8.0, est=7.633229724870193, details={'was_impossible': False}),\n",
       " Prediction(uid=139742, iid='0375724850', r_ui=9.0, est=7.760815817553823, details={'was_impossible': False}),\n",
       " Prediction(uid=165293, iid='0380791412', r_ui=6.0, est=7.468384888040586, details={'was_impossible': False}),\n",
       " Prediction(uid=13273, iid='0064407675', r_ui=8.0, est=7.917813010064327, details={'was_impossible': False}),\n",
       " Prediction(uid=23902, iid='0224022121', r_ui=6.0, est=7.059139107383082, details={'was_impossible': False}),\n",
       " Prediction(uid=149400, iid='1564408590', r_ui=5.0, est=7.142868417254788, details={'was_impossible': False}),\n",
       " Prediction(uid=217106, iid='0517573822', r_ui=9.0, est=7.78432468400415, details={'was_impossible': False}),\n",
       " Prediction(uid=210485, iid='0812570812', r_ui=8.0, est=7.9835625011470706, details={'was_impossible': False}),\n",
       " Prediction(uid=166569, iid='0373709331', r_ui=5.0, est=6.981565304057377, details={'was_impossible': False}),\n",
       " Prediction(uid=95923, iid='0590434128', r_ui=9.0, est=7.076426118495081, details={'was_impossible': False}),\n",
       " Prediction(uid=31826, iid='1880559048', r_ui=10.0, est=9.743919518638513, details={'was_impossible': False}),\n",
       " Prediction(uid=216012, iid='0373835841', r_ui=8.0, est=7.596001815469998, details={'was_impossible': False}),\n",
       " Prediction(uid=115572, iid='0688066321', r_ui=7.0, est=8.186062010727397, details={'was_impossible': False}),\n",
       " Prediction(uid=192453, iid='0803709773', r_ui=10.0, est=7.839681940361189, details={'was_impossible': False}),\n",
       " Prediction(uid=157273, iid='0060987529', r_ui=6.0, est=7.571241652258959, details={'was_impossible': False}),\n",
       " Prediction(uid=25409, iid='0425193292', r_ui=9.0, est=8.340427891747662, details={'was_impossible': False}),\n",
       " Prediction(uid=200993, iid='0135197295', r_ui=10.0, est=8.171248194339558, details={'was_impossible': False}),\n",
       " Prediction(uid=250359, iid='0671028162', r_ui=5.0, est=6.572619499434044, details={'was_impossible': False}),\n",
       " Prediction(uid=127895, iid='0609804669', r_ui=8.0, est=7.459844627185345, details={'was_impossible': False}),\n",
       " Prediction(uid=22818, iid='1879706938', r_ui=7.0, est=7.486966799301588, details={'was_impossible': False}),\n",
       " Prediction(uid=47779, iid='0140502068', r_ui=9.0, est=8.64937876994317, details={'was_impossible': False}),\n",
       " Prediction(uid=168006, iid='0743422910', r_ui=6.0, est=7.172957019250089, details={'was_impossible': False}),\n",
       " Prediction(uid=86219, iid='3548255116', r_ui=7.0, est=7.734654938719764, details={'was_impossible': False}),\n",
       " Prediction(uid=177432, iid='5553861977', r_ui=6.0, est=7.6399358559635955, details={'was_impossible': False}),\n",
       " Prediction(uid=194124, iid='0836220889', r_ui=10.0, est=9.193087278721903, details={'was_impossible': False}),\n",
       " Prediction(uid=169233, iid='0732909740', r_ui=7.0, est=7.471001067720957, details={'was_impossible': False}),\n",
       " Prediction(uid=142524, iid='0146000358', r_ui=9.0, est=8.00079529249137, details={'was_impossible': False}),\n",
       " Prediction(uid=265720, iid='034542705X', r_ui=9.0, est=7.756858664649145, details={'was_impossible': False}),\n",
       " Prediction(uid=141387, iid='0773761403', r_ui=10.0, est=8.04622290921779, details={'was_impossible': False}),\n",
       " Prediction(uid=126360, iid='0804115613', r_ui=5.0, est=7.975936119723582, details={'was_impossible': False}),\n",
       " Prediction(uid=11676, iid='0684855984', r_ui=6.0, est=5.936624722121756, details={'was_impossible': False}),\n",
       " Prediction(uid=99102, iid='0312976275', r_ui=3.0, est=7.2458236676931005, details={'was_impossible': False}),\n",
       " Prediction(uid=125892, iid='0064470482', r_ui=9.0, est=8.23584809740635, details={'was_impossible': False}),\n",
       " Prediction(uid=241523, iid='3453045874', r_ui=10.0, est=7.902934834205137, details={'was_impossible': False}),\n",
       " Prediction(uid=18384, iid='8433969978', r_ui=9.0, est=8.342129297229198, details={'was_impossible': False}),\n",
       " Prediction(uid=171819, iid='1573221090', r_ui=9.0, est=7.80156499511109, details={'was_impossible': False}),\n",
       " Prediction(uid=37644, iid='0345362861', r_ui=8.0, est=7.873131551579563, details={'was_impossible': False}),\n",
       " Prediction(uid=101214, iid='0399505318', r_ui=7.0, est=7.13605134130394, details={'was_impossible': False}),\n",
       " Prediction(uid=256072, iid='0312266065', r_ui=7.0, est=7.045085477209375, details={'was_impossible': False}),\n",
       " Prediction(uid=15408, iid='0802116698', r_ui=8.0, est=7.941154187076051, details={'was_impossible': False}),\n",
       " Prediction(uid=66211, iid='014037454X', r_ui=10.0, est=7.893778584722293, details={'was_impossible': False}),\n",
       " Prediction(uid=130438, iid='0312155638', r_ui=8.0, est=7.806839501810539, details={'was_impossible': False}),\n",
       " Prediction(uid=16966, iid='055358443X', r_ui=3.0, est=6.25080972596065, details={'was_impossible': False}),\n",
       " Prediction(uid=25981, iid='0785315926', r_ui=5.0, est=5.6922637085664105, details={'was_impossible': False}),\n",
       " Prediction(uid=220484, iid='0590371258', r_ui=9.0, est=7.765090041691858, details={'was_impossible': False}),\n",
       " Prediction(uid=186628, iid='3442448867', r_ui=8.0, est=7.019554854383296, details={'was_impossible': False}),\n",
       " Prediction(uid=36299, iid='0609807374', r_ui=8.0, est=7.337882785410268, details={'was_impossible': False}),\n",
       " Prediction(uid=273217, iid='0689319347', r_ui=7.0, est=6.936964179509473, details={'was_impossible': False}),\n",
       " Prediction(uid=206534, iid='0836250877', r_ui=6.0, est=7.409063963736024, details={'was_impossible': False}),\n",
       " Prediction(uid=73651, iid='0373218486', r_ui=5.0, est=6.037608553105949, details={'was_impossible': False}),\n",
       " Prediction(uid=239407, iid='0312278306', r_ui=8.0, est=7.497543922265602, details={'was_impossible': False}),\n",
       " Prediction(uid=54293, iid='0671042858', r_ui=9.0, est=7.30257830557263, details={'was_impossible': False}),\n",
       " Prediction(uid=231132, iid='0553571818', r_ui=6.0, est=6.547018970813658, details={'was_impossible': False}),\n",
       " Prediction(uid=126296, iid='0425192733', r_ui=7.0, est=6.589539033874143, details={'was_impossible': False}),\n",
       " Prediction(uid=45107, iid='0440126894', r_ui=9.0, est=8.501571881967145, details={'was_impossible': False}),\n",
       " Prediction(uid=119749, iid='0746030517', r_ui=8.0, est=7.737184798127158, details={'was_impossible': False}),\n",
       " Prediction(uid=138060, iid='0064404994', r_ui=7.0, est=8.241156610021807, details={'was_impossible': False}),\n",
       " Prediction(uid=37699, iid='0345443284', r_ui=9.0, est=7.318672359317087, details={'was_impossible': False}),\n",
       " Prediction(uid=235935, iid='0743206045', r_ui=8.0, est=8.609172969443083, details={'was_impossible': False}),\n",
       " Prediction(uid=55548, iid='0345431057', r_ui=10.0, est=9.49947467309149, details={'was_impossible': False}),\n",
       " Prediction(uid=104399, iid='0785746277', r_ui=10.0, est=9.65140476648035, details={'was_impossible': False}),\n",
       " Prediction(uid=153662, iid='0373440456', r_ui=6.0, est=7.995801454684674, details={'was_impossible': False}),\n",
       " Prediction(uid=244627, iid='0553581929', r_ui=7.0, est=8.631788365972433, details={'was_impossible': False}),\n",
       " Prediction(uid=190885, iid='0804105820', r_ui=8.0, est=7.517900677262044, details={'was_impossible': False}),\n",
       " Prediction(uid=201674, iid='0373520859', r_ui=5.0, est=7.039215658657169, details={'was_impossible': False}),\n",
       " Prediction(uid=164581, iid='0804001480', r_ui=8.0, est=8.272316576049606, details={'was_impossible': False}),\n",
       " Prediction(uid=13503, iid='0452282268', r_ui=10.0, est=8.083299288533823, details={'was_impossible': False}),\n",
       " Prediction(uid=43246, iid='0140113428', r_ui=7.0, est=8.388255223293674, details={'was_impossible': False}),\n",
       " Prediction(uid=87141, iid='0312966555', r_ui=8.0, est=8.24832027083212, details={'was_impossible': False}),\n",
       " Prediction(uid=261397, iid='0813911095', r_ui=8.0, est=7.721304127000493, details={'was_impossible': False}),\n",
       " Prediction(uid=173481, iid='0451183665', r_ui=7.0, est=6.041555116716965, details={'was_impossible': False}),\n",
       " Prediction(uid=156467, iid='0380757966', r_ui=10.0, est=10, details={'was_impossible': False}),\n",
       " Prediction(uid=29869, iid='8420428655', r_ui=9.0, est=8.009756358039208, details={'was_impossible': False}),\n",
       " Prediction(uid=231294, iid='3492238696', r_ui=8.0, est=7.9060527704972525, details={'was_impossible': False}),\n",
       " Prediction(uid=255218, iid='0399238786', r_ui=8.0, est=8.922962107947203, details={'was_impossible': False}),\n",
       " Prediction(uid=35845, iid='0684195984', r_ui=6.0, est=6.832873431764208, details={'was_impossible': False}),\n",
       " Prediction(uid=235105, iid='0380676524', r_ui=10.0, est=8.268476055764708, details={'was_impossible': False}),\n",
       " Prediction(uid=170513, iid='0345353145', r_ui=7.0, est=7.0840351332297455, details={'was_impossible': False}),\n",
       " Prediction(uid=135360, iid='0375708111', r_ui=7.0, est=8.17563275135394, details={'was_impossible': False}),\n",
       " Prediction(uid=11676, iid='0002005018', r_ui=8.0, est=7.569350103871872, details={'was_impossible': False}),\n",
       " Prediction(uid=40748, iid='0812566785', r_ui=6.0, est=7.4033269281699585, details={'was_impossible': False}),\n",
       " Prediction(uid=262298, iid='0140119809', r_ui=7.0, est=7.012953757566606, details={'was_impossible': False}),\n",
       " Prediction(uid=260388, iid='0674766911', r_ui=9.0, est=8.270860083722468, details={'was_impossible': False}),\n",
       " Prediction(uid=20799, iid='039915079X', r_ui=7.0, est=7.373365831348211, details={'was_impossible': False}),\n",
       " Prediction(uid=51665, iid='0767913795', r_ui=8.0, est=7.225195305611137, details={'was_impossible': False}),\n",
       " Prediction(uid=48743, iid='0553586122', r_ui=2.0, est=6.6373205047183355, details={'was_impossible': False}),\n",
       " Prediction(uid=192211, iid='0836270061', r_ui=10.0, est=8.146353497690752, details={'was_impossible': False}),\n",
       " Prediction(uid=108336, iid='156592469X', r_ui=7.0, est=6.985054836878137, details={'was_impossible': False}),\n",
       " Prediction(uid=7158, iid='0843949783', r_ui=10.0, est=7.85388189863314, details={'was_impossible': False}),\n",
       " Prediction(uid=115998, iid='0679401431', r_ui=7.0, est=7.3477120750709695, details={'was_impossible': False}),\n",
       " Prediction(uid=76499, iid='0813428955', r_ui=10.0, est=9.783429840365942, details={'was_impossible': False}),\n",
       " Prediction(uid=113519, iid='0375412115', r_ui=8.0, est=7.776627176843149, details={'was_impossible': False}),\n",
       " Prediction(uid=29608, iid='0395083567', r_ui=10.0, est=8.744754849796921, details={'was_impossible': False}),\n",
       " Prediction(uid=43633, iid='0441783589', r_ui=9.0, est=7.817245602840376, details={'was_impossible': False}),\n",
       " Prediction(uid=259596, iid='3888970504', r_ui=8.0, est=7.7067292731799855, details={'was_impossible': False}),\n",
       " Prediction(uid=98391, iid='0312326173', r_ui=9.0, est=9.011320752754553, details={'was_impossible': False}),\n",
       " Prediction(uid=51803, iid='0971880107', r_ui=1.0, est=3.0522331854015787, details={'was_impossible': False}),\n",
       " Prediction(uid=33830, iid='3499108356', r_ui=7.0, est=7.6994351145517035, details={'was_impossible': False}),\n",
       " Prediction(uid=259378, iid='0207189412', r_ui=5.0, est=6.565928248946598, details={'was_impossible': False}),\n",
       " Prediction(uid=3346, iid='0312890044', r_ui=9.0, est=7.950216774824199, details={'was_impossible': False}),\n",
       " Prediction(uid=22774, iid='0698116852', r_ui=7.0, est=7.49818841972955, details={'was_impossible': False}),\n",
       " Prediction(uid=170229, iid='0688171958', r_ui=10.0, est=8.43567872439698, details={'was_impossible': False}),\n",
       " Prediction(uid=152483, iid='0963270702', r_ui=6.0, est=7.521462408827114, details={'was_impossible': False}),\n",
       " Prediction(uid=204864, iid='0947533729', r_ui=10.0, est=8.76196319161094, details={'was_impossible': False}),\n",
       " Prediction(uid=11676, iid='0440180295', r_ui=8.0, est=7.435788290406948, details={'was_impossible': False}),\n",
       " Prediction(uid=164905, iid='0373760272', r_ui=5.0, est=6.264576983661846, details={'was_impossible': False}),\n",
       " Prediction(uid=208406, iid='0618002235', r_ui=10.0, est=9.95628297885295, details={'was_impossible': False}),\n",
       " Prediction(uid=113989, iid='0684859718', r_ui=8.0, est=7.2607974002337405, details={'was_impossible': False}),\n",
       " Prediction(uid=105881, iid='0140065504', r_ui=7.0, est=7.132250770195319, details={'was_impossible': False}),\n",
       " Prediction(uid=98391, iid='0843952296', r_ui=8.0, est=9.047694769929855, details={'was_impossible': False}),\n",
       " Prediction(uid=87964, iid='0061020648', r_ui=8.0, est=6.223494299713944, details={'was_impossible': False}),\n",
       " Prediction(uid=169057, iid='0446609323', r_ui=5.0, est=7.867759094340992, details={'was_impossible': False}),\n",
       " Prediction(uid=98391, iid='037371095X', r_ui=8.0, est=8.736565910019717, details={'was_impossible': False}),\n",
       " Prediction(uid=242528, iid='0440223202', r_ui=8.0, est=8.437220325839322, details={'was_impossible': False}),\n",
       " Prediction(uid=59209, iid='0743436210', r_ui=9.0, est=7.721193172547237, details={'was_impossible': False}),\n",
       " Prediction(uid=143211, iid='055357292X', r_ui=7.0, est=6.781854960817456, details={'was_impossible': False}),\n",
       " Prediction(uid=212275, iid='0689716044', r_ui=5.0, est=6.146948319388209, details={'was_impossible': False}),\n",
       " Prediction(uid=187256, iid='0812550706', r_ui=10.0, est=9.781819117702558, details={'was_impossible': False}),\n",
       " Prediction(uid=95084, iid='0064471837', r_ui=10.0, est=8.601876630706727, details={'was_impossible': False}),\n",
       " Prediction(uid=123196, iid='0061000043', r_ui=9.0, est=7.8162567101231, details={'was_impossible': False}),\n",
       " Prediction(uid=164465, iid='0394892178', r_ui=8.0, est=9.014245435857383, details={'was_impossible': False}),\n",
       " Prediction(uid=236418, iid='0375705856', r_ui=5.0, est=7.471496009512801, details={'was_impossible': False}),\n",
       " Prediction(uid=245328, iid='0743418174', r_ui=8.0, est=9.125306832119245, details={'was_impossible': False}),\n",
       " Prediction(uid=213641, iid='0449003981', r_ui=8.0, est=8.699387605729186, details={'was_impossible': False}),\n",
       " Prediction(uid=229551, iid='0380820447', r_ui=10.0, est=7.517964978367917, details={'was_impossible': False}),\n",
       " Prediction(uid=153475, iid='0451519841', r_ui=10.0, est=8.778485954027918, details={'was_impossible': False}),\n",
       " Prediction(uid=231395, iid='080213825X', r_ui=1.0, est=5.109762782440731, details={'was_impossible': False}),\n",
       " Prediction(uid=31392, iid='0066620724', r_ui=7.0, est=7.8287833739971875, details={'was_impossible': False}),\n",
       " Prediction(uid=131837, iid='0345368924', r_ui=9.0, est=7.32080038022958, details={'was_impossible': False}),\n",
       " Prediction(uid=39616, iid='0848741501', r_ui=9.0, est=8.104300782321216, details={'was_impossible': False}),\n",
       " Prediction(uid=66952, iid='3423113456', r_ui=6.0, est=7.47246000982832, details={'was_impossible': False}),\n",
       " Prediction(uid=7887, iid='1592231381', r_ui=4.0, est=8.267240677995906, details={'was_impossible': False}),\n",
       " Prediction(uid=112986, iid='1931742200', r_ui=8.0, est=8.037042382003927, details={'was_impossible': False}),\n",
       " Prediction(uid=174326, iid='0375727345', r_ui=8.0, est=8.31985652570735, details={'was_impossible': False}),\n",
       " Prediction(uid=114368, iid='0553576003', r_ui=5.0, est=5.188700538614609, details={'was_impossible': False}),\n",
       " Prediction(uid=76499, iid='0130409529', r_ui=5.0, est=7.198223691288468, details={'was_impossible': False}),\n",
       " Prediction(uid=55006, iid='0553293176', r_ui=9.0, est=7.785693795901107, details={'was_impossible': False}),\n",
       " Prediction(uid=138100, iid='0375502947', r_ui=10.0, est=8.95147303303586, details={'was_impossible': False}),\n",
       " Prediction(uid=35859, iid='051513449X', r_ui=8.0, est=8.254944074450446, details={'was_impossible': False}),\n",
       " Prediction(uid=230496, iid='0394820371', r_ui=9.0, est=8.87141809067079, details={'was_impossible': False}),\n",
       " Prediction(uid=101851, iid='0553212788', r_ui=10.0, est=8.40544006052996, details={'was_impossible': False}),\n",
       " Prediction(uid=246114, iid='3426195992', r_ui=3.0, est=5.499028430381671, details={'was_impossible': False}),\n",
       " Prediction(uid=181411, iid='0743405927', r_ui=8.0, est=8.18855352212804, details={'was_impossible': False}),\n",
       " Prediction(uid=33650, iid='0866119752', r_ui=9.0, est=7.875110005324376, details={'was_impossible': False}),\n",
       " Prediction(uid=52614, iid='0553295977', r_ui=10.0, est=9.529424504823352, details={'was_impossible': False}),\n",
       " Prediction(uid=156972, iid='2253145696', r_ui=9.0, est=8.16843392465457, details={'was_impossible': False}),\n",
       " Prediction(uid=216012, iid='1583141138', r_ui=7.0, est=7.522012365331724, details={'was_impossible': False}),\n",
       " Prediction(uid=46398, iid='0671024434', r_ui=9.0, est=7.215699151335203, details={'was_impossible': False}),\n",
       " Prediction(uid=251391, iid='0553297600', r_ui=6.0, est=7.074080861699209, details={'was_impossible': False}),\n",
       " Prediction(uid=206652, iid='0862411793', r_ui=9.0, est=7.8276678818810375, details={'was_impossible': False}),\n",
       " Prediction(uid=48046, iid='0743467523', r_ui=9.0, est=7.075059832882156, details={'was_impossible': False}),\n",
       " Prediction(uid=121275, iid='073886112X', r_ui=5.0, est=6.580941246705635, details={'was_impossible': False}),\n",
       " Prediction(uid=68128, iid='0812510836', r_ui=7.0, est=7.352604033738549, details={'was_impossible': False}),\n",
       " Prediction(uid=243929, iid='1569471207', r_ui=8.0, est=6.443925242013022, details={'was_impossible': False}),\n",
       " Prediction(uid=136010, iid='0670826391', r_ui=10.0, est=8.150334876234446, details={'was_impossible': False}),\n",
       " Prediction(uid=264861, iid='042511984X', r_ui=5.0, est=6.844066849235431, details={'was_impossible': False}),\n",
       " Prediction(uid=104636, iid='0446606189', r_ui=8.0, est=8.758355200133563, details={'was_impossible': False}),\n",
       " Prediction(uid=276579, iid='0375802819', r_ui=7.0, est=6.979672484656501, details={'was_impossible': False}),\n",
       " Prediction(uid=239736, iid='2266046500', r_ui=10.0, est=8.277062692308835, details={'was_impossible': False}),\n",
       " Prediction(uid=203910, iid='0440220459', r_ui=10.0, est=9.111086228040104, details={'was_impossible': False}),\n",
       " Prediction(uid=43925, iid='067088006X', r_ui=5.0, est=6.350651511549906, details={'was_impossible': False}),\n",
       " Prediction(uid=204909, iid='0140293248', r_ui=7.0, est=5.3768661217085985, details={'was_impossible': False}),\n",
       " Prediction(uid=70594, iid='0671567829', r_ui=7.0, est=8.826632631762136, details={'was_impossible': False}),\n",
       " Prediction(uid=59008, iid='0140042520', r_ui=8.0, est=8.231690072872993, details={'was_impossible': False}),\n",
       " Prediction(uid=129665, iid='0061054909', r_ui=6.0, est=6.000896435696961, details={'was_impossible': False}),\n",
       " Prediction(uid=163316, iid='1568362269', r_ui=8.0, est=7.689672132651193, details={'was_impossible': False}),\n",
       " Prediction(uid=277884, iid='0380789019', r_ui=7.0, est=7.960313794930896, details={'was_impossible': False}),\n",
       " Prediction(uid=190791, iid='074343627X', r_ui=8.0, est=7.309945303012376, details={'was_impossible': False}),\n",
       " Prediction(uid=59269, iid='0448095025', r_ui=9.0, est=8.467891920554104, details={'was_impossible': False}),\n",
       " Prediction(uid=189835, iid='0812966783', r_ui=5.0, est=5.208989954185888, details={'was_impossible': False}),\n",
       " Prediction(uid=110519, iid='0140168389', r_ui=6.0, est=7.293273057314474, details={'was_impossible': False}),\n",
       " Prediction(uid=146932, iid='0060929782', r_ui=9.0, est=8.261702019617465, details={'was_impossible': False}),\n",
       " Prediction(uid=169682, iid='0553581570', r_ui=6.0, est=6.401249633673789, details={'was_impossible': False}),\n",
       " Prediction(uid=151122, iid='067976402X', r_ui=8.0, est=7.414434831519789, details={'was_impossible': False}),\n",
       " Prediction(uid=130449, iid='0553265334', r_ui=10.0, est=8.102137108401529, details={'was_impossible': False}),\n",
       " Prediction(uid=76499, iid='0571177387', r_ui=10.0, est=9.150788998693288, details={'was_impossible': False}),\n",
       " Prediction(uid=275020, iid='044809553X', r_ui=5.0, est=6.439229419538, details={'was_impossible': False}),\n",
       " Prediction(uid=94519, iid='067102423X', r_ui=5.0, est=6.834688801544291, details={'was_impossible': False}),\n",
       " Prediction(uid=11676, iid='0618002227', r_ui=8.0, est=7.6911920957780415, details={'was_impossible': False}),\n",
       " Prediction(uid=25436, iid='2290327662', r_ui=8.0, est=8.10874364424032, details={'was_impossible': False}),\n",
       " Prediction(uid=169326, iid='0440343194', r_ui=10.0, est=9.202765105647357, details={'was_impossible': False}),\n",
       " Prediction(uid=44297, iid='0670865796', r_ui=7.0, est=7.34093610760045, details={'was_impossible': False}),\n",
       " Prediction(uid=128122, iid='0446608653', r_ui=8.0, est=9.578992902683737, details={'was_impossible': False}),\n",
       " Prediction(uid=273110, iid='0373242174', r_ui=5.0, est=7.454910053078054, details={'was_impossible': False}),\n",
       " Prediction(uid=209817, iid='0060916508', r_ui=10.0, est=9.310275009605348, details={'was_impossible': False}),\n",
       " Prediction(uid=2033, iid='0671676253', r_ui=10.0, est=8.623320545340153, details={'was_impossible': False}),\n",
       " Prediction(uid=215078, iid='0671035339', r_ui=5.0, est=6.515356438599451, details={'was_impossible': False}),\n",
       " Prediction(uid=53241, iid='0684833573', r_ui=5.0, est=7.595884521958284, details={'was_impossible': False}),\n",
       " Prediction(uid=98391, iid='0842382658', r_ui=9.0, est=8.979635076980783, details={'was_impossible': False}),\n",
       " Prediction(uid=250832, iid='1573228214', r_ui=8.0, est=7.291195076132445, details={'was_impossible': False}),\n",
       " Prediction(uid=224110, iid='0345428196', r_ui=6.0, est=7.060928120896636, details={'was_impossible': False}),\n",
       " Prediction(uid=198483, iid='0425142485', r_ui=9.0, est=7.297566454166258, details={'was_impossible': False}),\n",
       " Prediction(uid=208112, iid='0375501851', r_ui=4.0, est=6.465080207437203, details={'was_impossible': False}),\n",
       " Prediction(uid=187822, iid='0812565959', r_ui=9.0, est=8.409788880681134, details={'was_impossible': False}),\n",
       " Prediction(uid=104278, iid='0425194582', r_ui=10.0, est=9.362602398800627, details={'was_impossible': False}),\n",
       " Prediction(uid=68555, iid='0449219380', r_ui=5.0, est=7.040134580908726, details={'was_impossible': False}),\n",
       " Prediction(uid=102772, iid='038081479X', r_ui=9.0, est=6.807791427278952, details={'was_impossible': False}),\n",
       " Prediction(uid=257714, iid='0812555171', r_ui=5.0, est=6.841794449813908, details={'was_impossible': False}),\n",
       " Prediction(uid=1155, iid='0440217806', r_ui=7.0, est=7.736124456713923, details={'was_impossible': False}),\n",
       " Prediction(uid=94952, iid='0380750252', r_ui=6.0, est=5.96479078151933, details={'was_impossible': False}),\n",
       " Prediction(uid=211761, iid='0375725784', r_ui=6.0, est=6.394707567908771, details={'was_impossible': False}),\n",
       " Prediction(uid=273932, iid='0140154760', r_ui=8.0, est=7.297285903968677, details={'was_impossible': False}),\n",
       " Prediction(uid=208983, iid='1931742375', r_ui=9.0, est=7.987088385124419, details={'was_impossible': False}),\n",
       " Prediction(uid=177073, iid='0753450615', r_ui=8.0, est=7.925059104003978, details={'was_impossible': False}),\n",
       " Prediction(uid=206020, iid='0345348656', r_ui=8.0, est=7.850648461575184, details={'was_impossible': False}),\n",
       " Prediction(uid=236340, iid='006016848X', r_ui=8.0, est=7.050178864604038, details={'was_impossible': False}),\n",
       " Prediction(uid=211426, iid='0553213512', r_ui=9.0, est=7.794964131238588, details={'was_impossible': False}),\n",
       " Prediction(uid=191439, iid='0060084332', r_ui=9.0, est=7.821138994972858, details={'was_impossible': False}),\n",
       " Prediction(uid=156395, iid='0801857333', r_ui=10.0, est=7.864109271581602, details={'was_impossible': False}),\n",
       " Prediction(uid=30511, iid='0395171199', r_ui=7.0, est=7.086506114431836, details={'was_impossible': False}),\n",
       " Prediction(uid=230427, iid='3453170873', r_ui=10.0, est=8.648612108463846, details={'was_impossible': False}),\n",
       " Prediction(uid=16383, iid='0140620206', r_ui=3.0, est=7.138503714213133, details={'was_impossible': False}),\n",
       " Prediction(uid=102029, iid='0425186199', r_ui=9.0, est=7.5380332778703965, details={'was_impossible': False}),\n",
       " Prediction(uid=78553, iid='0553258524', r_ui=10.0, est=10, details={'was_impossible': False}),\n",
       " Prediction(uid=89602, iid='076790382X', r_ui=5.0, est=6.677670506507868, details={'was_impossible': False}),\n",
       " Prediction(uid=117210, iid='0765303418', r_ui=10.0, est=8.254267521577237, details={'was_impossible': False}),\n",
       " Prediction(uid=78515, iid='1584850248', r_ui=8.0, est=7.814711012684603, details={'was_impossible': False}),\n",
       " Prediction(uid=107784, iid='0373030061', r_ui=5.0, est=5.5487705151263995, details={'was_impossible': False}),\n",
       " Prediction(uid=221732, iid='0881030198', r_ui=10.0, est=7.958006641190717, details={'was_impossible': False}),\n",
       " Prediction(uid=17233, iid='0786889551', r_ui=9.0, est=8.029938199729493, details={'was_impossible': False}),\n",
       " Prediction(uid=93047, iid='0961035269', r_ui=8.0, est=7.852406479836422, details={'was_impossible': False}),\n",
       " Prediction(uid=105956, iid='0792274989', r_ui=8.0, est=7.921936931733768, details={'was_impossible': False}),\n",
       " Prediction(uid=271002, iid='055334949X', r_ui=6.0, est=7.112753886445643, details={'was_impossible': False}),\n",
       " Prediction(uid=73895, iid='0571081789', r_ui=6.0, est=7.8308255428265054, details={'was_impossible': False}),\n",
       " Prediction(uid=158361, iid='1852302208', r_ui=5.0, est=6.143348284468209, details={'was_impossible': False}),\n",
       " Prediction(uid=166492, iid='0231116098', r_ui=8.0, est=7.00123233754559, details={'was_impossible': False}),\n",
       " Prediction(uid=138515, iid='0446603929', r_ui=9.0, est=6.343674299505861, details={'was_impossible': False}),\n",
       " Prediction(uid=160200, iid='0812550757', r_ui=8.0, est=8.205166968251026, details={'was_impossible': False}),\n",
       " Prediction(uid=171007, iid='0060096209', r_ui=8.0, est=7.705439685894092, details={'was_impossible': False}),\n",
       " Prediction(uid=128543, iid='0312051034', r_ui=4.0, est=6.011556532156019, details={'was_impossible': False}),\n",
       " Prediction(uid=41088, iid='0553278592', r_ui=10.0, est=9.445955129132923, details={'was_impossible': False}),\n",
       " Prediction(uid=60050, iid='0312974159', r_ui=6.0, est=6.905273658814205, details={'was_impossible': False}),\n",
       " Prediction(uid=213915, iid='188285604X', r_ui=4.0, est=7.606249999413304, details={'was_impossible': False}),\n",
       " Prediction(uid=213150, iid='0553264079', r_ui=7.0, est=6.171747825341629, details={'was_impossible': False}),\n",
       " Prediction(uid=186857, iid='0446672211', r_ui=8.0, est=8.157503366742109, details={'was_impossible': False}),\n",
       " Prediction(uid=101141, iid='0425190730', r_ui=7.0, est=6.726707623041262, details={'was_impossible': False}),\n",
       " Prediction(uid=251843, iid='0670885142', r_ui=10.0, est=9.321102365984984, details={'was_impossible': False}),\n",
       " Prediction(uid=200618, iid='0812564642', r_ui=6.0, est=6.4984202075747435, details={'was_impossible': False}),\n",
       " Prediction(uid=181176, iid='0847815196', r_ui=8.0, est=7.444077386465144, details={'was_impossible': False}),\n",
       " Prediction(uid=196160, iid='0446340952', r_ui=8.0, est=7.9864660080036805, details={'was_impossible': False}),\n",
       " Prediction(uid=171295, iid='0930323343', r_ui=10.0, est=8.31913618595432, details={'was_impossible': False}),\n",
       " Prediction(uid=226965, iid='0446519081', r_ui=6.0, est=6.8873633762840045, details={'was_impossible': False}),\n",
       " Prediction(uid=98391, iid='0380978865', r_ui=9.0, est=8.8458505376528, details={'was_impossible': False}),\n",
       " Prediction(uid=143218, iid='0553296981', r_ui=5.0, est=8.243351107887028, details={'was_impossible': False}),\n",
       " Prediction(uid=154465, iid='0684718081', r_ui=10.0, est=8.60356275043113, details={'was_impossible': False}),\n",
       " Prediction(uid=266283, iid='078688598X', r_ui=9.0, est=8.43945137356108, details={'was_impossible': False}),\n",
       " Prediction(uid=100906, iid='0440439884', r_ui=9.0, est=8.654728542074128, details={'was_impossible': False}),\n",
       " Prediction(uid=160614, iid='0375703055', r_ui=7.0, est=7.301491116562635, details={'was_impossible': False}),\n",
       " Prediction(uid=241432, iid='0971880107', r_ui=6.0, est=4.629368129059808, details={'was_impossible': False}),\n",
       " Prediction(uid=249092, iid='084234716X', r_ui=4.0, est=6.95144163008056, details={'was_impossible': False}),\n",
       " Prediction(uid=149498, iid='3492107001', r_ui=8.0, est=8.111068768219486, details={'was_impossible': False}),\n",
       " Prediction(uid=38335, iid='0440235162', r_ui=8.0, est=7.902828858733533, details={'was_impossible': False}),\n",
       " Prediction(uid=180378, iid='0812549058', r_ui=6.0, est=8.185124151454072, details={'was_impossible': False}),\n",
       " Prediction(uid=69684, iid='0451180755', r_ui=7.0, est=6.869339790768304, details={'was_impossible': False}),\n",
       " Prediction(uid=255775, iid='0345441109', r_ui=8.0, est=7.607636835252176, details={'was_impossible': False}),\n",
       " Prediction(uid=185275, iid='0316607630', r_ui=7.0, est=6.419797323863206, details={'was_impossible': False}),\n",
       " Prediction(uid=126604, iid='0060391626', r_ui=6.0, est=7.774874057710161, details={'was_impossible': False}),\n",
       " Prediction(uid=196031, iid='0441007554', r_ui=7.0, est=7.05710403791793, details={'was_impossible': False}),\n",
       " Prediction(uid=275676, iid='0670033006', r_ui=8.0, est=7.753482218533402, details={'was_impossible': False}),\n",
       " Prediction(uid=72028, iid='1558743669', r_ui=10.0, est=6.354112706299256, details={'was_impossible': False}),\n",
       " Prediction(uid=195374, iid='0684842319', r_ui=10.0, est=8.476876431483669, details={'was_impossible': False}),\n",
       " Prediction(uid=248718, iid='0811824462', r_ui=9.0, est=8.154201539415547, details={'was_impossible': False}),\n",
       " Prediction(uid=44190, iid='0939680637', r_ui=8.0, est=8.454037125965192, details={'was_impossible': False}),\n",
       " Prediction(uid=89307, iid='0373246013', r_ui=8.0, est=8.223037168125703, details={'was_impossible': False}),\n",
       " Prediction(uid=76013, iid='8807812193', r_ui=7.0, est=7.6022177680451, details={'was_impossible': False}),\n",
       " Prediction(uid=204363, iid='0312983867', r_ui=10.0, est=9.26641356387458, details={'was_impossible': False}),\n",
       " Prediction(uid=114868, iid='0446692298', r_ui=10.0, est=8.145077950685478, details={'was_impossible': False}),\n",
       " Prediction(uid=194644, iid='0373218400', r_ui=4.0, est=6.781245931623485, details={'was_impossible': False}),\n",
       " Prediction(uid=69252, iid='0440220602', r_ui=8.0, est=7.337723957216458, details={'was_impossible': False}),\n",
       " Prediction(uid=197659, iid='0374157065', r_ui=9.0, est=8.38289708648537, details={'was_impossible': False}),\n",
       " Prediction(uid=96936, iid='0553214500', r_ui=7.0, est=6.767658403068417, details={'was_impossible': False}),\n",
       " Prediction(uid=130554, iid='0440423376', r_ui=6.0, est=5.8702288649390955, details={'was_impossible': False}),\n",
       " Prediction(uid=227705, iid='0446359866', r_ui=6.0, est=7.8296556859365145, details={'was_impossible': False}),\n",
       " Prediction(uid=243895, iid='0763609099', r_ui=6.0, est=7.098161181157019, details={'was_impossible': False}),\n",
       " Prediction(uid=41364, iid='1564142965', r_ui=2.0, est=5.932177948660783, details={'was_impossible': False}),\n",
       " Prediction(uid=92901, iid='1883792126', r_ui=9.0, est=7.391890915437455, details={'was_impossible': False}),\n",
       " Prediction(uid=41589, iid='0425171884', r_ui=6.0, est=7.200690411710465, details={'was_impossible': False}),\n",
       " Prediction(uid=184299, iid='0425115801', r_ui=9.0, est=8.628335192688832, details={'was_impossible': False}),\n",
       " Prediction(uid=13347, iid='8420481289', r_ui=9.0, est=8.436809998362826, details={'was_impossible': False}),\n",
       " Prediction(uid=273906, iid='3446173471', r_ui=9.0, est=8.805394054809707, details={'was_impossible': False}),\n",
       " Prediction(uid=187904, iid='067942007X', r_ui=7.0, est=7.928860819135241, details={'was_impossible': False}),\n",
       " Prediction(uid=78617, iid='0743463544', r_ui=8.0, est=7.4194358380623235, details={'was_impossible': False}),\n",
       " Prediction(uid=148744, iid='0140131612', r_ui=9.0, est=8.109271444849487, details={'was_impossible': False}),\n",
       " Prediction(uid=155147, iid='0451115031', r_ui=7.0, est=7.010083109140671, details={'was_impossible': False}),\n",
       " Prediction(uid=198564, iid='0553292722', r_ui=8.0, est=6.779639974761847, details={'was_impossible': False}),\n",
       " Prediction(uid=184266, iid='0394749650', r_ui=10.0, est=8.049508989442385, details={'was_impossible': False}),\n",
       " Prediction(uid=225763, iid='0903505436', r_ui=5.0, est=5.5722341672097935, details={'was_impossible': False}),\n",
       " Prediction(uid=33124, iid='0446610100', r_ui=8.0, est=8.246836148604332, details={'was_impossible': False}),\n",
       " Prediction(uid=69078, iid='0814806406', r_ui=8.0, est=7.916736121841029, details={'was_impossible': False}),\n",
       " Prediction(uid=31308, iid='0449208397', r_ui=8.0, est=7.701037725176943, details={'was_impossible': False}),\n",
       " Prediction(uid=88733, iid='0060177721', r_ui=10.0, est=9.006603736918944, details={'was_impossible': False}),\n",
       " Prediction(uid=81661, iid='0060952423', r_ui=5.0, est=7.72604095199669, details={'was_impossible': False}),\n",
       " Prediction(uid=110973, iid='0385156049', r_ui=9.0, est=8.326774274088613, details={'was_impossible': False}),\n",
       " Prediction(uid=180915, iid='0613225937', r_ui=4.0, est=6.6492396144055474, details={'was_impossible': False}),\n",
       " Prediction(uid=129835, iid='0375756981', r_ui=7.0, est=7.984132918900197, details={'was_impossible': False}),\n",
       " Prediction(uid=97833, iid='0198710445', r_ui=7.0, est=7.681762138567562, details={'was_impossible': False}),\n",
       " Prediction(uid=266133, iid='0375727566', r_ui=10.0, est=7.34628185817977, details={'was_impossible': False}),\n",
       " Prediction(uid=142671, iid='0394825691', r_ui=7.0, est=8.203979385808287, details={'was_impossible': False}),\n",
       " Prediction(uid=244375, iid='0877852480', r_ui=9.0, est=8.260845141276118, details={'was_impossible': False}),\n",
       " Prediction(uid=139480, iid='2020146304', r_ui=7.0, est=7.406284949843803, details={'was_impossible': False}),\n",
       " Prediction(uid=156150, iid='0385336764', r_ui=6.0, est=7.66707081066191, details={'was_impossible': False}),\n",
       " Prediction(uid=240370, iid='0805063323', r_ui=10.0, est=7.322018772924437, details={'was_impossible': False}),\n",
       " Prediction(uid=107784, iid='0842338454', r_ui=5.0, est=5.602246731354876, details={'was_impossible': False}),\n",
       " Prediction(uid=56959, iid='0688062164', r_ui=10.0, est=9.569794519225965, details={'was_impossible': False}),\n",
       " Prediction(uid=214315, iid='0684853515', r_ui=10.0, est=8.674694701987134, details={'was_impossible': False}),\n",
       " Prediction(uid=78973, iid='0671004573', r_ui=8.0, est=7.654279350710726, details={'was_impossible': False}),\n",
       " Prediction(uid=48213, iid='0385337477', r_ui=8.0, est=6.8326768123176285, details={'was_impossible': False}),\n",
       " Prediction(uid=178484, iid='0060267046', r_ui=7.0, est=7.492493723447135, details={'was_impossible': False}),\n",
       " Prediction(uid=113292, iid='0553562495', r_ui=4.0, est=6.290157329242985, details={'was_impossible': False}),\n",
       " Prediction(uid=148586, iid='0380778777', r_ui=8.0, est=7.7268298048069655, details={'was_impossible': False}),\n",
       " Prediction(uid=189835, iid='0679642595', r_ui=5.0, est=5.202312487310118, details={'was_impossible': False}),\n",
       " Prediction(uid=170595, iid='0671737929', r_ui=10.0, est=5.641713731119828, details={'was_impossible': False}),\n",
       " Prediction(uid=146057, iid='042518045X', r_ui=10.0, est=9.180001719363483, details={'was_impossible': False}),\n",
       " Prediction(uid=263357, iid='0231113234', r_ui=9.0, est=8.65932754209743, details={'was_impossible': False}),\n",
       " Prediction(uid=11676, iid='0345389417', r_ui=7.0, est=6.254958263407357, details={'was_impossible': False}),\n",
       " Prediction(uid=272225, iid='0451408764', r_ui=5.0, est=7.202081956408487, details={'was_impossible': False}),\n",
       " Prediction(uid=93130, iid='0345259599', r_ui=8.0, est=7.841794770068493, details={'was_impossible': False}),\n",
       " Prediction(uid=12100, iid='0812881176', r_ui=6.0, est=7.180764071909861, details={'was_impossible': False}),\n",
       " Prediction(uid=193935, iid='1932128069', r_ui=10.0, est=8.436620452718183, details={'was_impossible': False}),\n",
       " Prediction(uid=240144, iid='0811825558', r_ui=9.0, est=8.306343302431976, details={'was_impossible': False}),\n",
       " Prediction(uid=23571, iid='0064405036', r_ui=10.0, est=9.657898257571686, details={'was_impossible': False}),\n",
       " Prediction(uid=93047, iid='0586060545', r_ui=8.0, est=7.498794429466852, details={'was_impossible': False}),\n",
       " Prediction(uid=122656, iid='0821742841', r_ui=10.0, est=7.751267740742891, details={'was_impossible': False}),\n",
       " Prediction(uid=234721, iid='0441007228', r_ui=8.0, est=7.97056017335041, details={'was_impossible': False}),\n",
       " Prediction(uid=89851, iid='0671691775', r_ui=6.0, est=7.466339084596054, details={'was_impossible': False}),\n",
       " Prediction(uid=170513, iid='038529929X', r_ui=9.0, est=6.720550247063245, details={'was_impossible': False}),\n",
       " Prediction(uid=271705, iid='033039715X', r_ui=8.0, est=8.303145975174786, details={'was_impossible': False}),\n",
       " Prediction(uid=144478, iid='0345353145', r_ui=5.0, est=7.017821962586079, details={'was_impossible': False}),\n",
       " Prediction(uid=55927, iid='1566195519', r_ui=9.0, est=8.392669576715047, details={'was_impossible': False}),\n",
       " Prediction(uid=165308, iid='014029628X', r_ui=8.0, est=8.302666064993646, details={'was_impossible': False}),\n",
       " Prediction(uid=225595, iid='0671042262', r_ui=7.0, est=10, details={'was_impossible': False}),\n",
       " Prediction(uid=110308, iid='0553572377', r_ui=7.0, est=6.5581996127831035, details={'was_impossible': False}),\n",
       " Prediction(uid=228206, iid='0874779766', r_ui=10.0, est=8.358170927307597, details={'was_impossible': False}),\n",
       " Prediction(uid=179744, iid='1878580965', r_ui=7.0, est=7.531972428076694, details={'was_impossible': False}),\n",
       " Prediction(uid=233193, iid='0140287442', r_ui=5.0, est=6.752208067257514, details={'was_impossible': False}),\n",
       " Prediction(uid=190925, iid='0449223833', r_ui=9.0, est=7.678582694312943, details={'was_impossible': False}),\n",
       " Prediction(uid=113277, iid='037319711X', r_ui=10.0, est=9.38464990793862, details={'was_impossible': False}),\n",
       " Prediction(uid=207616, iid='0399150439', r_ui=8.0, est=7.873394567790139, details={'was_impossible': False}),\n",
       " Prediction(uid=266522, iid='0671777017', r_ui=4.0, est=6.3590232044815505, details={'was_impossible': False}),\n",
       " Prediction(uid=140087, iid='9722016563', r_ui=9.0, est=7.620774344567721, details={'was_impossible': False}),\n",
       " Prediction(uid=81901, iid='0385721838', r_ui=8.0, est=7.005619293498975, details={'was_impossible': False}),\n",
       " Prediction(uid=223201, iid='0312265867', r_ui=10.0, est=8.556775531556804, details={'was_impossible': False}),\n",
       " Prediction(uid=180280, iid='3446180710', r_ui=10.0, est=9.210078213704927, details={'was_impossible': False}),\n",
       " Prediction(uid=227250, iid='0373790481', r_ui=10.0, est=8.757430476775564, details={'was_impossible': False}),\n",
       " Prediction(uid=251843, iid='0399149325', r_ui=1.0, est=7.809626612291298, details={'was_impossible': False}),\n",
       " Prediction(uid=169663, iid='0679439382', r_ui=3.0, est=5.696214956580845, details={'was_impossible': False}),\n",
       " Prediction(uid=237898, iid='044023512X', r_ui=8.0, est=7.306714445392047, details={'was_impossible': False}),\n",
       " Prediction(uid=60067, iid='0971880107', r_ui=6.0, est=4.503448577425657, details={'was_impossible': False}),\n",
       " Prediction(uid=76352, iid='1558744150', r_ui=9.0, est=7.73339715034442, details={'was_impossible': False}),\n",
       " Prediction(uid=266229, iid='0345354613', r_ui=8.0, est=8.235489416090699, details={'was_impossible': False}),\n",
       " Prediction(uid=156765, iid='8437600898', r_ui=10.0, est=7.854317570583352, details={'was_impossible': False}),\n",
       " Prediction(uid=76499, iid='0618249060', r_ui=10.0, est=9.121406559429655, details={'was_impossible': False}),\n",
       " Prediction(uid=44297, iid='1888363657', r_ui=10.0, est=7.84523138377693, details={'was_impossible': False}),\n",
       " Prediction(uid=241565, iid='0373270976', r_ui=9.0, est=5.720549335760964, details={'was_impossible': False}),\n",
       " Prediction(uid=32223, iid='0767903927', r_ui=2.0, est=6.237132998058916, details={'was_impossible': False}),\n",
       " Prediction(uid=272412, iid='0964631601', r_ui=10.0, est=8.357880703608012, details={'was_impossible': False}),\n",
       " Prediction(uid=49582, iid='2729808523', r_ui=7.0, est=7.255907719002055, details={'was_impossible': False}),\n",
       " Prediction(uid=30144, iid='0385508026', r_ui=9.0, est=7.613440281518473, details={'was_impossible': False}),\n",
       " Prediction(uid=163202, iid='0395291305', r_ui=10.0, est=9.574801614067125, details={'was_impossible': False}),\n",
       " Prediction(uid=129289, iid='0679724885', r_ui=3.0, est=6.475882808936871, details={'was_impossible': False}),\n",
       " Prediction(uid=46359, iid='0345443284', r_ui=5.0, est=6.9454423044115625, details={'was_impossible': False}),\n",
       " Prediction(uid=193529, iid='0671563122', r_ui=8.0, est=7.399519048158534, details={'was_impossible': False}),\n",
       " Prediction(uid=203550, iid='0671727796', r_ui=10.0, est=8.745471682743732, details={'was_impossible': False}),\n",
       " Prediction(uid=90614, iid='0446603929', r_ui=6.0, est=6.582442741064595, details={'was_impossible': False}),\n",
       " Prediction(uid=19573, iid='0446679593', r_ui=8.0, est=7.369103544402692, details={'was_impossible': False}),\n",
       " Prediction(uid=10447, iid='0786868716', r_ui=7.0, est=6.851069873632462, details={'was_impossible': False}),\n",
       " Prediction(uid=114444, iid='0440236819', r_ui=7.0, est=6.802350089305725, details={'was_impossible': False}),\n",
       " Prediction(uid=185634, iid='0786864400', r_ui=10.0, est=8.103290844429546, details={'was_impossible': False}),\n",
       " Prediction(uid=140167, iid='0380821214', r_ui=10.0, est=7.644114497285127, details={'was_impossible': False}),\n",
       " Prediction(uid=274004, iid='1843910500', r_ui=8.0, est=8.085617643059594, details={'was_impossible': False}),\n",
       " Prediction(uid=136255, iid='0842329153', r_ui=7.0, est=6.644034906840717, details={'was_impossible': False}),\n",
       " Prediction(uid=165308, iid='1572972076', r_ui=9.0, est=8.160467058310347, details={'was_impossible': False}),\n",
       " Prediction(uid=110974, iid='0679751521', r_ui=8.0, est=7.587066649593681, details={'was_impossible': False}),\n",
       " Prediction(uid=69078, iid='0151002517', r_ui=9.0, est=8.375962618097217, details={'was_impossible': False}),\n",
       " Prediction(uid=180772, iid='006019443X', r_ui=6.0, est=7.1126354857338185, details={'was_impossible': False}),\n",
       " Prediction(uid=95359, iid='0743418735', r_ui=7.0, est=7.915478768823288, details={'was_impossible': False}),\n",
       " Prediction(uid=51742, iid='0449213730', r_ui=7.0, est=7.258260258758823, details={'was_impossible': False}),\n",
       " Prediction(uid=58363, iid='0060119039', r_ui=5.0, est=5.3137214439636855, details={'was_impossible': False}),\n",
       " Prediction(uid=31556, iid='0553205196', r_ui=10.0, est=7.392242371346253, details={'was_impossible': False}),\n",
       " Prediction(uid=119902, iid='0590449648', r_ui=6.0, est=7.121670142373262, details={'was_impossible': False}),\n",
       " Prediction(uid=177458, iid='0060164662', r_ui=9.0, est=7.531694282454769, details={'was_impossible': False}),\n",
       " Prediction(uid=252695, iid='0553571656', r_ui=9.0, est=8.260078990263688, details={'was_impossible': False}),\n",
       " Prediction(uid=177458, iid='0960603034', r_ui=8.0, est=7.061057202615235, details={'was_impossible': False}),\n",
       " Prediction(uid=170595, iid='0553802488', r_ui=4.0, est=5.217370967728131, details={'was_impossible': False}),\n",
       " Prediction(uid=63956, iid='0061316776', r_ui=7.0, est=8.247224318125172, details={'was_impossible': False}),\n",
       " Prediction(uid=153662, iid='0812510992', r_ui=10.0, est=8.339932534332393, details={'was_impossible': False}),\n",
       " Prediction(uid=38556, iid='044021145X', r_ui=5.0, est=5.774393538867595, details={'was_impossible': False}),\n",
       " Prediction(uid=115002, iid='0451407717', r_ui=2.0, est=5.795287389590767, details={'was_impossible': False}),\n",
       " Prediction(uid=205957, iid='0393325237', r_ui=10.0, est=8.246368831763792, details={'was_impossible': False}),\n",
       " Prediction(uid=189835, iid='1569564914', r_ui=5.0, est=5.198156874721502, details={'was_impossible': False}),\n",
       " Prediction(uid=139480, iid='2846260036', r_ui=8.0, est=7.48891247042976, details={'was_impossible': False}),\n",
       " Prediction(uid=41985, iid='0425129586', r_ui=5.0, est=7.501195411142639, details={'was_impossible': False}),\n",
       " Prediction(uid=192995, iid='158348616X', r_ui=2.0, est=6.446909396014907, details={'was_impossible': False}),\n",
       " Prediction(uid=168691, iid='0330332775', r_ui=5.0, est=7.063408389145056, details={'was_impossible': False}),\n",
       " Prediction(uid=149907, iid='0451526031', r_ui=10.0, est=8.927094883485028, details={'was_impossible': False}),\n",
       " Prediction(uid=102154, iid='0894801996', r_ui=10.0, est=9.983512310536097, details={'was_impossible': False}),\n",
       " Prediction(uid=38660, iid='0451403460', r_ui=7.0, est=8.227693495139487, details={'was_impossible': False}),\n",
       " Prediction(uid=177220, iid='0425188930', r_ui=6.0, est=7.333509382073562, details={'was_impossible': False}),\n",
       " Prediction(uid=27140, iid='0812577701', r_ui=10.0, est=9.50479993308185, details={'was_impossible': False}),\n",
       " Prediction(uid=186831, iid='0806618868', r_ui=10.0, est=7.059699182937464, details={'was_impossible': False}),\n",
       " Prediction(uid=223253, iid='0394873335', r_ui=10.0, est=6.218773612299003, details={'was_impossible': False}),\n",
       " Prediction(uid=206074, iid='0451210875', r_ui=7.0, est=7.298544857395726, details={'was_impossible': False}),\n",
       " Prediction(uid=209440, iid='0743435338', r_ui=7.0, est=7.798313799185255, details={'was_impossible': False}),\n",
       " Prediction(uid=55438, iid='0842329129', r_ui=10.0, est=8.882107618186243, details={'was_impossible': False}),\n",
       " Prediction(uid=189139, iid='0345303520', r_ui=5.0, est=6.748470012453213, details={'was_impossible': False}),\n",
       " Prediction(uid=135149, iid='0373291256', r_ui=7.0, est=7.51176173095603, details={'was_impossible': False}),\n",
       " Prediction(uid=164533, iid='0413670902', r_ui=7.0, est=6.823344469381613, details={'was_impossible': False}),\n",
       " Prediction(uid=229409, iid='3442453305', r_ui=7.0, est=7.844680173034568, details={'was_impossible': False}),\n",
       " Prediction(uid=121408, iid='0440241073', r_ui=6.0, est=7.135760207525423, details={'was_impossible': False}),\n",
       " Prediction(uid=136965, iid='0671741039', r_ui=9.0, est=8.375477084935264, details={'was_impossible': False}),\n",
       " Prediction(uid=127970, iid='0345444892', r_ui=10.0, est=8.50679975919724, details={'was_impossible': False}),\n",
       " Prediction(uid=95359, iid='0449209377', r_ui=6.0, est=7.016330252404185, details={'was_impossible': False}),\n",
       " Prediction(uid=132942, iid='0399150897', r_ui=3.0, est=6.7699241534764445, details={'was_impossible': False}),\n",
       " Prediction(uid=224525, iid='0875426638', r_ui=10.0, est=9.804022540556772, details={'was_impossible': False}),\n",
       " Prediction(uid=16009, iid='0440235596', r_ui=8.0, est=6.371953549421666, details={'was_impossible': False}),\n",
       " Prediction(uid=98391, iid='0505525410', r_ui=10.0, est=9.021657269019288, details={'was_impossible': False}),\n",
       " Prediction(uid=277203, iid='059044297X', r_ui=9.0, est=8.29018344497561, details={'was_impossible': False}),\n",
       " Prediction(uid=150280, iid='0446525243', r_ui=5.0, est=7.091875497958001, details={'was_impossible': False}),\n",
       " Prediction(uid=35859, iid='0440445450', r_ui=10.0, est=8.338555229897233, details={'was_impossible': False}),\n",
       " Prediction(uid=203531, iid='0684830337', r_ui=5.0, est=6.535182628569042, details={'was_impossible': False}),\n",
       " Prediction(uid=47275, iid='1888306149', r_ui=8.0, est=7.560392512245122, details={'was_impossible': False}),\n",
       " Prediction(uid=11676, iid='0553269739', r_ui=9.0, est=8.257401036721145, details={'was_impossible': False}),\n",
       " Prediction(uid=11676, iid='0590471570', r_ui=8.0, est=7.395492509493682, details={'was_impossible': False}),\n",
       " Prediction(uid=129851, iid='0684874385', r_ui=8.0, est=7.274458400468966, details={'was_impossible': False}),\n",
       " Prediction(uid=254528, iid='0312983301', r_ui=10.0, est=8.007209146728714, details={'was_impossible': False}),\n",
       " Prediction(uid=172030, iid='0425140601', r_ui=9.0, est=8.564874454616286, details={'was_impossible': False}),\n",
       " Prediction(uid=196474, iid='0449221180', r_ui=7.0, est=7.75498198421817, details={'was_impossible': False}),\n",
       " Prediction(uid=34727, iid='0679727833', r_ui=8.0, est=7.488908680777425, details={'was_impossible': False}),\n",
       " Prediction(uid=204864, iid='0020427859', r_ui=10.0, est=8.505547577797454, details={'was_impossible': False}),\n",
       " Prediction(uid=26593, iid='0761109196', r_ui=10.0, est=8.779968727422213, details={'was_impossible': False}),\n",
       " Prediction(uid=84866, iid='0752853694', r_ui=6.0, est=6.382032355307617, details={'was_impossible': False}),\n",
       " Prediction(uid=88567, iid='0385311257', r_ui=8.0, est=7.798686520850107, details={'was_impossible': False}),\n",
       " Prediction(uid=62997, iid='0942257251', r_ui=7.0, est=6.758590657191728, details={'was_impossible': False}),\n",
       " Prediction(uid=31391, iid='0441004520', r_ui=10.0, est=9.35354378905556, details={'was_impossible': False}),\n",
       " Prediction(uid=51526, iid='0451191013', r_ui=4.0, est=6.208187401830969, details={'was_impossible': False}),\n",
       " Prediction(uid=58458, iid='0486270629', r_ui=6.0, est=7.018245082291349, details={'was_impossible': False}),\n",
       " Prediction(uid=120080, iid='0192833383', r_ui=10.0, est=8.485264074453143, details={'was_impossible': False}),\n",
       " Prediction(uid=256926, iid='0515119652', r_ui=5.0, est=7.231481576614889, details={'was_impossible': False}),\n",
       " Prediction(uid=224138, iid='038533334X', r_ui=9.0, est=7.916092892798623, details={'was_impossible': False}),\n",
       " Prediction(uid=248821, iid='0060922532', r_ui=9.0, est=7.493144317084922, details={'was_impossible': False}),\n",
       " Prediction(uid=117873, iid='0671761927', r_ui=6.0, est=7.334201778688575, details={'was_impossible': False}),\n",
       " Prediction(uid=36609, iid='0064405052', r_ui=10.0, est=8.399409299305946, details={'was_impossible': False}),\n",
       " Prediction(uid=248259, iid='0553566032', r_ui=10.0, est=8.529406392823997, details={'was_impossible': False}),\n",
       " Prediction(uid=11676, iid='0140258795', r_ui=7.0, est=6.413840248388695, details={'was_impossible': False}),\n",
       " Prediction(uid=213312, iid='0375705090', r_ui=10.0, est=9.583480462489428, details={'was_impossible': False}),\n",
       " Prediction(uid=54206, iid='0312281773', r_ui=7.0, est=7.423366603548949, details={'was_impossible': False}),\n",
       " Prediction(uid=48999, iid='0060809833', r_ui=6.0, est=7.861004599329584, details={'was_impossible': False}),\n",
       " Prediction(uid=228432, iid='0449911004', r_ui=8.0, est=7.899952595801394, details={'was_impossible': False}),\n",
       " Prediction(uid=169860, iid='0140131558', r_ui=8.0, est=7.804557598905113, details={'was_impossible': False}),\n",
       " Prediction(uid=228768, iid='0064472876', r_ui=8.0, est=7.868939380131832, details={'was_impossible': False}),\n",
       " Prediction(uid=182101, iid='187805886X', r_ui=8.0, est=8.958837254172334, details={'was_impossible': False}),\n",
       " Prediction(uid=210822, iid='044661095X', r_ui=4.0, est=5.043233008679354, details={'was_impossible': False}),\n",
       " Prediction(uid=257327, iid='0553378147', r_ui=6.0, est=7.088743712687691, details={'was_impossible': False}),\n",
       " Prediction(uid=6280, iid='8420633127', r_ui=7.0, est=7.561039665298198, details={'was_impossible': False}),\n",
       " Prediction(uid=125692, iid='0425162443', r_ui=9.0, est=7.989123562815691, details={'was_impossible': False}),\n",
       " Prediction(uid=242007, iid='0140317163', r_ui=6.0, est=7.611776479930493, details={'was_impossible': False}),\n",
       " Prediction(uid=53477, iid='0689846673', r_ui=7.0, est=7.878758937950028, details={'was_impossible': False}),\n",
       " Prediction(uid=219311, iid='076791340x', r_ui=10.0, est=8.063617755080264, details={'was_impossible': False}),\n",
       " Prediction(uid=104665, iid='0380718340', r_ui=8.0, est=7.275376996943746, details={'was_impossible': False}),\n",
       " Prediction(uid=235818, iid='8466304886', r_ui=7.0, est=7.473912705882161, details={'was_impossible': False}),\n",
       " Prediction(uid=23835, iid='087584801X', r_ui=7.0, est=7.115066087896216, details={'was_impossible': False}),\n",
       " Prediction(uid=138010, iid='0451409256', r_ui=8.0, est=7.280786998243408, details={'was_impossible': False}),\n",
       " Prediction(uid=30487, iid='038550117X', r_ui=7.0, est=6.982201406193002, details={'was_impossible': False}),\n",
       " Prediction(uid=147800, iid='0671525832', r_ui=10.0, est=8.305121702525248, details={'was_impossible': False}),\n",
       " Prediction(uid=182527, iid='155166531X', r_ui=6.0, est=6.8520131874844425, details={'was_impossible': False}),\n",
       " Prediction(uid=68041, iid='0316780375', r_ui=8.0, est=7.305947970643909, details={'was_impossible': False}),\n",
       " Prediction(uid=132065, iid='0060264306', r_ui=9.0, est=8.143897176235214, details={'was_impossible': False}),\n",
       " Prediction(uid=246246, iid='1567181457', r_ui=7.0, est=6.854277080934174, details={'was_impossible': False}),\n",
       " Prediction(uid=107784, iid='0380703130', r_ui=5.0, est=5.342150293281319, details={'was_impossible': False}),\n",
       " Prediction(uid=56661, iid='0140283315', r_ui=5.0, est=7.863817110994124, details={'was_impossible': False}),\n",
       " Prediction(uid=153662, iid='0451181964', r_ui=8.0, est=7.8408007897542715, details={'was_impossible': False}),\n",
       " Prediction(uid=16795, iid='1565890310', r_ui=7.0, est=7.23987057687329, details={'was_impossible': False}),\n",
       " Prediction(uid=212923, iid='0446672211', r_ui=10.0, est=9.462073586496466, details={'was_impossible': False}),\n",
       " Prediction(uid=115002, iid='0843952776', r_ui=8.0, est=6.382872450394875, details={'was_impossible': False}),\n",
       " Prediction(uid=98391, iid='0441011527', r_ui=9.0, est=8.940519554072775, details={'was_impossible': False}),\n",
       " Prediction(uid=88416, iid='0060921145', r_ui=5.0, est=6.258750879842285, details={'was_impossible': False}),\n",
       " Prediction(uid=148191, iid='0684842696', r_ui=8.0, est=7.172191344936016, details={'was_impossible': False}),\n",
       " Prediction(uid=58961, iid='0671746065', r_ui=10.0, est=9.599493284834214, details={'was_impossible': False}),\n",
       " Prediction(uid=28667, iid='0679746048', r_ui=2.0, est=5.125150008845598, details={'was_impossible': False}),\n",
       " Prediction(uid=129393, iid='0812548051', r_ui=10.0, est=8.997765783226669, details={'was_impossible': False}),\n",
       " Prediction(uid=8323, iid='0684810395', r_ui=7.0, est=6.678440984576354, details={'was_impossible': False}),\n",
       " Prediction(uid=1674, iid='0451162463', r_ui=8.0, est=7.822866111694685, details={'was_impossible': False}),\n",
       " Prediction(uid=164675, iid='0670891770', r_ui=7.0, est=6.852722161953147, details={'was_impossible': False}),\n",
       " Prediction(uid=251751, iid='0786889373', r_ui=8.0, est=7.831777914921014, details={'was_impossible': False}),\n",
       " Prediction(uid=38590, iid='0312987625', r_ui=10.0, est=8.94112807269208, details={'was_impossible': False}),\n",
       " Prediction(uid=170805, iid='0743456866', r_ui=6.0, est=6.793694257611566, details={'was_impossible': False}),\n",
       " Prediction(uid=85872, iid='0670848549', r_ui=8.0, est=7.528209273776759, details={'was_impossible': False}),\n",
       " Prediction(uid=1733, iid='0843948078', r_ui=8.0, est=7.559948593676927, details={'was_impossible': False}),\n",
       " Prediction(uid=212645, iid='1579542085', r_ui=7.0, est=8.293689488405576, details={'was_impossible': False}),\n",
       " Prediction(uid=238625, iid='3596135990', r_ui=7.0, est=7.789881253346786, details={'was_impossible': False}),\n",
       " Prediction(uid=39732, iid='2253150711', r_ui=8.0, est=7.833684140073885, details={'was_impossible': False}),\n",
       " Prediction(uid=204457, iid='0440188415', r_ui=9.0, est=8.534397937781167, details={'was_impossible': False}),\n",
       " Prediction(uid=178151, iid='0380714590', r_ui=9.0, est=8.525365983103564, details={'was_impossible': False}),\n",
       " Prediction(uid=71102, iid='0618380604', r_ui=7.0, est=7.6107742092855695, details={'was_impossible': False}),\n",
       " Prediction(uid=178199, iid='0140291962', r_ui=9.0, est=7.789774777359949, details={'was_impossible': False}),\n",
       " Prediction(uid=221550, iid='0743214625', r_ui=8.0, est=8.24494542369062, details={'was_impossible': False}),\n",
       " Prediction(uid=210186, iid='8495971860', r_ui=8.0, est=7.699947096023697, details={'was_impossible': False}),\n",
       " Prediction(uid=150316, iid='1558745718', r_ui=5.0, est=8.456874533698857, details={'was_impossible': False}),\n",
       " Prediction(uid=68873, iid='0140430032', r_ui=9.0, est=7.255460382765884, details={'was_impossible': False}),\n",
       " Prediction(uid=32964, iid='0735616361', r_ui=8.0, est=8.440180316687654, details={'was_impossible': False}),\n",
       " Prediction(uid=63714, iid='0590196464', r_ui=8.0, est=9.286367261372723, details={'was_impossible': False}),\n",
       " Prediction(uid=190925, iid='0449148432', r_ui=6.0, est=7.2223234828383145, details={'was_impossible': False}),\n",
       " Prediction(uid=123460, iid='1551667398', r_ui=7.0, est=6.667523186021168, details={'was_impossible': False}),\n",
       " Prediction(uid=57002, iid='0140374248', r_ui=10.0, est=9.31957119166577, details={'was_impossible': False}),\n",
       " Prediction(uid=138125, iid='0312305060', r_ui=5.0, est=7.4689042992858745, details={'was_impossible': False}),\n",
       " Prediction(uid=120908, iid='0373484003', r_ui=8.0, est=8.609064162785955, details={'was_impossible': False}),\n",
       " Prediction(uid=253871, iid='0670894605', r_ui=7.0, est=9.371395081144962, details={'was_impossible': False}),\n",
       " Prediction(uid=210035, iid='0451171691', r_ui=7.0, est=7.593408889694931, details={'was_impossible': False}),\n",
       " Prediction(uid=268300, iid='1582970076', r_ui=7.0, est=8.102406066906552, details={'was_impossible': False}),\n",
       " Prediction(uid=203820, iid='8427201621', r_ui=8.0, est=7.398336057948447, details={'was_impossible': False}),\n",
       " Prediction(uid=269341, iid='0375708049', r_ui=8.0, est=7.481020521335197, details={'was_impossible': False}),\n",
       " Prediction(uid=48046, iid='0553580191', r_ui=9.0, est=7.746520233761949, details={'was_impossible': False}),\n",
       " Prediction(uid=134863, iid='0451204301', r_ui=8.0, est=7.642262430828451, details={'was_impossible': False}),\n",
       " Prediction(uid=153662, iid='0671670069', r_ui=9.0, est=8.60163616275302, details={'was_impossible': False}),\n",
       " Prediction(uid=199416, iid='0688163173', r_ui=5.0, est=7.109140746244014, details={'was_impossible': False}),\n",
       " Prediction(uid=161974, iid='155661294X', r_ui=7.0, est=6.805914287094734, details={'was_impossible': False}),\n",
       " Prediction(uid=41701, iid='2707318108', r_ui=6.0, est=7.03864850290554, details={'was_impossible': False}),\n",
       " Prediction(uid=244736, iid='0064470652', r_ui=9.0, est=7.00540385602663, details={'was_impossible': False}),\n",
       " Prediction(uid=126196, iid='0670894605', r_ui=8.0, est=8.462950256285444, details={'was_impossible': False}),\n",
       " Prediction(uid=53590, iid='0452284554', r_ui=7.0, est=7.828539551339756, details={'was_impossible': False}),\n",
       " Prediction(uid=70299, iid='0965096017', r_ui=7.0, est=7.517685222733213, details={'was_impossible': False}),\n",
       " Prediction(uid=18710, iid='0446601853', r_ui=7.0, est=7.131893344484701, details={'was_impossible': False}),\n",
       " Prediction(uid=171045, iid='0316540838', r_ui=7.0, est=7.608907294486523, details={'was_impossible': False}),\n",
       " Prediction(uid=91113, iid='0451188454', r_ui=9.0, est=8.330996881954329, details={'was_impossible': False}),\n",
       " Prediction(uid=243790, iid='0373707657', r_ui=10.0, est=8.120503550336622, details={'was_impossible': False}),\n",
       " Prediction(uid=235105, iid='0446608823', r_ui=8.0, est=7.825492937309041, details={'was_impossible': False}),\n",
       " Prediction(uid=140000, iid='0207197245', r_ui=10.0, est=8.010155037195991, details={'was_impossible': False}),\n",
       " Prediction(uid=184299, iid='0380752867', r_ui=6.0, est=8.034764132077868, details={'was_impossible': False}),\n",
       " Prediction(uid=244422, iid='0375411550', r_ui=9.0, est=6.956073747062259, details={'was_impossible': False}),\n",
       " Prediction(uid=110912, iid='0553568914', r_ui=8.0, est=8.026313160878832, details={'was_impossible': False}),\n",
       " Prediction(uid=237534, iid='0345305507', r_ui=9.0, est=8.287279131031594, details={'was_impossible': False}),\n",
       " Prediction(uid=75819, iid='0385509510', r_ui=9.0, est=7.880988505691951, details={'was_impossible': False}),\n",
       " Prediction(uid=89851, iid='1573225126', r_ui=8.0, est=7.071189682985492, details={'was_impossible': False}),\n",
       " Prediction(uid=78834, iid='0590981811', r_ui=6.0, est=8.123538105191885, details={'was_impossible': False}),\n",
       " Prediction(uid=126492, iid='0385424736', r_ui=7.0, est=7.7999827776895785, details={'was_impossible': False}),\n",
       " Prediction(uid=110204, iid='0142001740', r_ui=8.0, est=8.59783810253262, details={'was_impossible': False}),\n",
       " Prediction(uid=219008, iid='1883642434', r_ui=7.0, est=7.053411308757665, details={'was_impossible': False}),\n",
       " Prediction(uid=64215, iid='1573227331', r_ui=8.0, est=7.6391360726863144, details={'was_impossible': False}),\n",
       " Prediction(uid=31412, iid='0312970072', r_ui=10.0, est=8.730581919222564, details={'was_impossible': False}),\n",
       " Prediction(uid=218608, iid='0446350397', r_ui=8.0, est=7.814492621423862, details={'was_impossible': False}),\n",
       " Prediction(uid=53456, iid='0380770717', r_ui=6.0, est=7.278623742155971, details={'was_impossible': False}),\n",
       " Prediction(uid=255331, iid='0753705729', r_ui=6.0, est=7.301643056206163, details={'was_impossible': False}),\n",
       " Prediction(uid=132075, iid='1563050854', r_ui=10.0, est=8.057670056776026, details={'was_impossible': False}),\n",
       " Prediction(uid=68555, iid='0553297619', r_ui=10.0, est=7.622718766023522, details={'was_impossible': False}),\n",
       " Prediction(uid=126802, iid='0140430016', r_ui=9.0, est=8.052872623287124, details={'was_impossible': False}),\n",
       " Prediction(uid=67079, iid='0952030039', r_ui=10.0, est=8.498478727294335, details={'was_impossible': False}),\n",
       " Prediction(uid=159211, iid='0553814516', r_ui=6.0, est=5.956355505630713, details={'was_impossible': False}),\n",
       " Prediction(uid=108197, iid='0064407667', r_ui=4.0, est=8.491690457445008, details={'was_impossible': False}),\n",
       " Prediction(uid=149907, iid='0691058385', r_ui=10.0, est=8.907831499010017, details={'was_impossible': False}),\n",
       " Prediction(uid=138602, iid='0060248025', r_ui=10.0, est=10, details={'was_impossible': False}),\n",
       " Prediction(uid=106988, iid='0192852108', r_ui=5.0, est=5.863052234614824, details={'was_impossible': False}),\n",
       " Prediction(uid=163761, iid='037322642X', r_ui=6.0, est=6.414804160650077, details={'was_impossible': False}),\n",
       " Prediction(uid=21014, iid='044022103X', r_ui=8.0, est=7.312796484894938, details={'was_impossible': False}),\n",
       " Prediction(uid=25601, iid='0312033095', r_ui=10.0, est=8.922441540524742, details={'was_impossible': False}),\n",
       " Prediction(uid=243930, iid='0061009059', r_ui=8.0, est=7.2903824554268875, details={'was_impossible': False}),\n",
       " Prediction(uid=11676, iid='0140621342', r_ui=8.0, est=7.4246407881861, details={'was_impossible': False}),\n",
       " Prediction(uid=125235, iid='1562291629', r_ui=10.0, est=8.040171158223067, details={'was_impossible': False}),\n",
       " Prediction(uid=275615, iid='0340672250', r_ui=3.0, est=6.30114247004057, details={'was_impossible': False}),\n",
       " Prediction(uid=7936, iid='8427027516', r_ui=7.0, est=7.447188821174872, details={'was_impossible': False}),\n",
       " Prediction(uid=243942, iid='0940322234', r_ui=6.0, est=5.817005693322081, details={'was_impossible': False}),\n",
       " Prediction(uid=156269, iid='0345376579', r_ui=10.0, est=7.176821546675456, details={'was_impossible': False}),\n",
       " Prediction(uid=121455, iid='0786218363', r_ui=8.0, est=7.745341598336384, details={'was_impossible': False}),\n",
       " Prediction(uid=43118, iid='849204683X', r_ui=7.0, est=6.844370350010528, details={'was_impossible': False}),\n",
       " Prediction(uid=263637, iid='0671510126', r_ui=9.0, est=10, details={'was_impossible': False}),\n",
       " Prediction(uid=56959, iid='0806908122', r_ui=10.0, est=9.615125699277634, details={'was_impossible': False}),\n",
       " Prediction(uid=56554, iid='0373250312', r_ui=9.0, est=8.203567518564782, details={'was_impossible': False}),\n",
       " Prediction(uid=189005, iid='0399900500', r_ui=5.0, est=5.7111234523832985, details={'was_impossible': False}),\n",
       " Prediction(uid=182085, iid='3473520667', r_ui=10.0, est=9.010902546942068, details={'was_impossible': False}),\n",
       " Prediction(uid=153662, iid='0935908315', r_ui=5.0, est=7.8071517568154745, details={'was_impossible': False}),\n",
       " Prediction(uid=49212, iid='0786817070', r_ui=5.0, est=7.5560722807100404, details={'was_impossible': False}),\n",
       " Prediction(uid=76888, iid='0451160525', r_ui=9.0, est=8.125761130438805, details={'was_impossible': False}),\n",
       " Prediction(uid=198153, iid='0375422579', r_ui=7.0, est=7.646510850983228, details={'was_impossible': False}),\n",
       " Prediction(uid=30120, iid='0345311396', r_ui=8.0, est=7.294187392786139, details={'was_impossible': False}),\n",
       " Prediction(uid=238120, iid='0226327728', r_ui=8.0, est=7.193708900661773, details={'was_impossible': False}),\n",
       " Prediction(uid=170724, iid='0440184053', r_ui=10.0, est=8.332597726292505, details={'was_impossible': False}),\n",
       " Prediction(uid=26084, iid='0440222656', r_ui=5.0, est=8.39197696996408, details={'was_impossible': False}),\n",
       " Prediction(uid=53104, iid='0425073203', r_ui=8.0, est=7.858591349075257, details={'was_impossible': False}),\n",
       " Prediction(uid=264863, iid='0684810077', r_ui=9.0, est=8.689966214362741, details={'was_impossible': False}),\n",
       " Prediction(uid=26535, iid='0679876618', r_ui=5.0, est=5.411534824158057, details={'was_impossible': False}),\n",
       " Prediction(uid=187598, iid='2266023039', r_ui=9.0, est=8.434668436444735, details={'was_impossible': False}),\n",
       " Prediction(uid=25981, iid='0590426966', r_ui=5.0, est=5.470976790363397, details={'was_impossible': False}),\n",
       " Prediction(uid=275220, iid='1573229628', r_ui=9.0, est=8.034621825234488, details={'was_impossible': False}),\n",
       " Prediction(uid=265889, iid='0451212169', r_ui=7.0, est=8.124700392049608, details={'was_impossible': False}),\n",
       " Prediction(uid=250330, iid='0394900510', r_ui=7.0, est=6.212911752802908, details={'was_impossible': False}),\n",
       " Prediction(uid=19755, iid='0702222550', r_ui=4.0, est=6.175975559805384, details={'was_impossible': False}),\n",
       " Prediction(uid=55075, iid='0140244824', r_ui=6.0, est=6.505806363178739, details={'was_impossible': False}),\n",
       " Prediction(uid=117251, iid='0743216032', r_ui=8.0, est=8.523855117546965, details={'was_impossible': False}),\n",
       " Prediction(uid=273342, iid='0373301316', r_ui=2.0, est=6.614265355799718, details={'was_impossible': False}),\n",
       " Prediction(uid=129716, iid='1577311000', r_ui=9.0, est=9.162197483768757, details={'was_impossible': False}),\n",
       " Prediction(uid=259378, iid='0449219631', r_ui=7.0, est=6.681119950129985, details={'was_impossible': False}),\n",
       " Prediction(uid=177432, iid='0671867873', r_ui=9.0, est=8.234427176787237, details={'was_impossible': False}),\n",
       " Prediction(uid=94797, iid='1582401837', r_ui=9.0, est=7.768916993490668, details={'was_impossible': False}),\n",
       " Prediction(uid=211430, iid='0852073712', r_ui=10.0, est=8.026459579344936, details={'was_impossible': False}),\n",
       " Prediction(uid=50849, iid='0878575073', r_ui=8.0, est=7.624195591538396, details={'was_impossible': False}),\n",
       " Prediction(uid=72352, iid='0380805707', r_ui=8.0, est=6.7131908815207675, details={'was_impossible': False}),\n",
       " Prediction(uid=234948, iid='007011501X', r_ui=6.0, est=6.044451684322329, details={'was_impossible': False}),\n",
       " Prediction(uid=274808, iid='0590554093', r_ui=9.0, est=8.254893088455551, details={'was_impossible': False}),\n",
       " Prediction(uid=6492, iid='0316812471', r_ui=6.0, est=7.18558980024089, details={'was_impossible': False}),\n",
       " Prediction(uid=98391, iid='0060563893', r_ui=9.0, est=8.938708674877358, details={'was_impossible': False}),\n",
       " Prediction(uid=86906, iid='0609606263', r_ui=9.0, est=7.4045099672022845, details={'was_impossible': False}),\n",
       " Prediction(uid=16634, iid='0840791712', r_ui=8.0, est=7.8680815679990905, details={'was_impossible': False}),\n",
       " Prediction(uid=61854, iid='0553297511', r_ui=6.0, est=6.529762341999913, details={'was_impossible': False}),\n",
       " Prediction(uid=67111, iid='3442059275', r_ui=6.0, est=7.144327946111584, details={'was_impossible': False}),\n",
       " Prediction(uid=256457, iid='0061099325', r_ui=5.0, est=6.818579517413798, details={'was_impossible': False}),\n",
       " Prediction(uid=235105, iid='0151008353', r_ui=9.0, est=8.029591352763472, details={'was_impossible': False}),\n",
       " Prediction(uid=268492, iid='0441003044', r_ui=7.0, est=6.958998932672635, details={'was_impossible': False}),\n",
       " Prediction(uid=167761, iid='0060392452', r_ui=10.0, est=8.43903375949194, details={'was_impossible': False}),\n",
       " Prediction(uid=248064, iid='0440217490', r_ui=9.0, est=7.4444192635841375, details={'was_impossible': False}),\n",
       " Prediction(uid=181165, iid='0140167919', r_ui=5.0, est=6.82521126450804, details={'was_impossible': False}),\n",
       " Prediction(uid=223183, iid='0963022288', r_ui=7.0, est=7.506559118684414, details={'was_impossible': False}),\n",
       " Prediction(uid=20115, iid='0140254544', r_ui=10.0, est=7.8637608956568466, details={'was_impossible': False}),\n",
       " Prediction(uid=30531, iid='0312955731', r_ui=7.0, est=8.008544323820809, details={'was_impossible': False}),\n",
       " Prediction(uid=92245, iid='0722526458', r_ui=4.0, est=6.940937606301851, details={'was_impossible': False}),\n",
       " Prediction(uid=165308, iid='0312968159', r_ui=7.0, est=7.9002561865775265, details={'was_impossible': False}),\n",
       " Prediction(uid=105374, iid='0771061102', r_ui=8.0, est=7.7198604443808625, details={'was_impossible': False}),\n",
       " Prediction(uid=26412, iid='0060955570', r_ui=6.0, est=7.226438494022797, details={'was_impossible': False}),\n",
       " Prediction(uid=70415, iid='0394580192', r_ui=10.0, est=9.011434297452503, details={'was_impossible': False}),\n",
       " Prediction(uid=278044, iid='0525942998', r_ui=6.0, est=6.887446733223155, details={'was_impossible': False}),\n",
       " Prediction(uid=93636, iid='034538475X', r_ui=8.0, est=7.2152564358682545, details={'was_impossible': False}),\n",
       " Prediction(uid=51742, iid='0553280368', r_ui=7.0, est=7.575521508507572, details={'was_impossible': False}),\n",
       " Prediction(uid=98391, iid='0441008860', r_ui=9.0, est=8.915946155751856, details={'was_impossible': False}),\n",
       " Prediction(uid=37208, iid='051511927X', r_ui=10.0, est=7.906773295548975, details={'was_impossible': False}),\n",
       " Prediction(uid=248850, iid='0671526677', r_ui=4.0, est=7.787008790133605, details={'was_impossible': False}),\n",
       " Prediction(uid=254899, iid='0451159233', r_ui=9.0, est=7.933857112640128, details={'was_impossible': False}),\n",
       " Prediction(uid=126296, iid='0552146811', r_ui=8.0, est=7.940057949183082, details={'was_impossible': False}),\n",
       " Prediction(uid=177091, iid='0380731959', r_ui=7.0, est=7.100959932689455, details={'was_impossible': False}),\n",
       " Prediction(uid=177458, iid='0345378482', r_ui=6.0, est=6.980012153273232, details={'was_impossible': False}),\n",
       " Prediction(uid=70245, iid='0525473394', r_ui=10.0, est=8.571016674192665, details={'was_impossible': False}),\n",
       " Prediction(uid=262940, iid='0446608815', r_ui=8.0, est=7.761110397162596, details={'was_impossible': False}),\n",
       " Prediction(uid=52011, iid='0345335651', r_ui=8.0, est=6.593608446500389, details={'was_impossible': False}),\n",
       " Prediction(uid=88984, iid='0899683517', r_ui=10.0, est=7.820434259173972, details={'was_impossible': False}),\n",
       " Prediction(uid=218552, iid='0688163165', r_ui=6.0, est=6.138152132595581, details={'was_impossible': False}),\n",
       " Prediction(uid=49531, iid='0765341972', r_ui=5.0, est=6.22861994027878, details={'was_impossible': False}),\n",
       " Prediction(uid=171118, iid='0613262654', r_ui=9.0, est=7.520965997673951, details={'was_impossible': False}),\n",
       " Prediction(uid=261998, iid='0060513640', r_ui=7.0, est=7.128615881538716, details={'was_impossible': False}),\n",
       " Prediction(uid=178597, iid='0812967747', r_ui=6.0, est=7.500405917148518, details={'was_impossible': False}),\n",
       " Prediction(uid=23872, iid='0140231226', r_ui=7.0, est=6.912698720276401, details={'was_impossible': False}),\n",
       " Prediction(uid=165507, iid='3518365290', r_ui=8.0, est=8.279390500084542, details={'was_impossible': False}),\n",
       " Prediction(uid=182202, iid='0316910333', r_ui=8.0, est=8.53982403980149, details={'was_impossible': False}),\n",
       " Prediction(uid=242474, iid='0553583980', r_ui=7.0, est=7.488490758171276, details={'was_impossible': False}),\n",
       " Prediction(uid=135624, iid='0192892320', r_ui=10.0, est=8.628659534742114, details={'was_impossible': False}),\n",
       " Prediction(uid=19576, iid='0060965002', r_ui=8.0, est=7.800971266103487, details={'was_impossible': False}),\n",
       " Prediction(uid=929, iid='0226726770', r_ui=7.0, est=7.027976645792513, details={'was_impossible': False}),\n",
       " Prediction(uid=56399, iid='058608293X', r_ui=10.0, est=9.624677847917209, details={'was_impossible': False}),\n",
       " Prediction(uid=101632, iid='0316921173', r_ui=2.0, est=6.462975431496435, details={'was_impossible': False}),\n",
       " Prediction(uid=211979, iid='0525243429', r_ui=5.0, est=5.416723034530524, details={'was_impossible': False}),\n",
       " Prediction(uid=56401, iid='3518370340', r_ui=8.0, est=7.701767265849, details={'was_impossible': False}),\n",
       " Prediction(uid=174638, iid='1573222305', r_ui=8.0, est=7.94096061565866, details={'was_impossible': False}),\n",
       " Prediction(uid=29974, iid='0061087122', r_ui=8.0, est=7.473049138344588, details={'was_impossible': False}),\n",
       " Prediction(uid=170947, iid='0884195260', r_ui=8.0, est=7.574436850920472, details={'was_impossible': False}),\n",
       " Prediction(uid=153662, iid='0061040142', r_ui=9.0, est=8.220597449854885, details={'was_impossible': False}),\n",
       " Prediction(uid=112220, iid='0439194466', r_ui=6.0, est=6.9611892838936935, details={'was_impossible': False}),\n",
       " Prediction(uid=22022, iid='0449147460', r_ui=5.0, est=5.575271984448843, details={'was_impossible': False}),\n",
       " Prediction(uid=11676, iid='0425120430', r_ui=7.0, est=6.476726769133798, details={'was_impossible': False}),\n",
       " Prediction(uid=243929, iid='0312143834', r_ui=7.0, est=6.349512541626106, details={'was_impossible': False}),\n",
       " Prediction(uid=160295, iid='0399521526', r_ui=7.0, est=8.336813044434445, details={'was_impossible': False}),\n",
       " Prediction(uid=241367, iid='0312195516', r_ui=10.0, est=8.34659262654162, details={'was_impossible': False}),\n",
       " Prediction(uid=264082, iid='0373706448', r_ui=5.0, est=5.897483487967978, details={'was_impossible': False}),\n",
       " Prediction(uid=77267, iid='0156027321', r_ui=8.0, est=8.023090615584701, details={'was_impossible': False}),\n",
       " Prediction(uid=248570, iid='0316666343', r_ui=7.0, est=7.634519151597839, details={'was_impossible': False}),\n",
       " Prediction(uid=240887, iid='1883955211', r_ui=2.0, est=6.736981362465805, details={'was_impossible': False}),\n",
       " Prediction(uid=163646, iid='0140077723', r_ui=10.0, est=8.06805242953221, details={'was_impossible': False}),\n",
       " Prediction(uid=28269, iid='0375725784', r_ui=8.0, est=7.49598807242032, details={'was_impossible': False}),\n",
       " Prediction(uid=11245, iid='0553560441', r_ui=7.0, est=7.355562579846156, details={'was_impossible': False}),\n",
       " Prediction(uid=199772, iid='0880298596', r_ui=7.0, est=7.421578771369535, details={'was_impossible': False}),\n",
       " Prediction(uid=115572, iid='0618002227', r_ui=7.0, est=9.257969224178684, details={'was_impossible': False}),\n",
       " Prediction(uid=85526, iid='0553250426', r_ui=8.0, est=8.357911442956457, details={'was_impossible': False}),\n",
       " Prediction(uid=187145, iid='0679729895', r_ui=8.0, est=8.01037358097822, details={'was_impossible': False}),\n",
       " Prediction(uid=204964, iid='0669417416', r_ui=5.0, est=7.114981589983605, details={'was_impossible': False}),\n",
       " Prediction(uid=26939, iid='0140440542', r_ui=8.0, est=7.823673909204065, details={'was_impossible': False}),\n",
       " Prediction(uid=117816, iid='0671000306', r_ui=9.0, est=7.922747036149934, details={'was_impossible': False}),\n",
       " Prediction(uid=95359, iid='0446670014', r_ui=6.0, est=7.290898737911246, details={'was_impossible': False}),\n",
       " Prediction(uid=271557, iid='0446671002', r_ui=8.0, est=7.27511573548744, details={'was_impossible': False}),\n",
       " Prediction(uid=267251, iid='0060930535', r_ui=10.0, est=8.121715225960305, details={'was_impossible': False}),\n",
       " Prediction(uid=81051, iid='0553579983', r_ui=5.0, est=7.615806610483924, details={'was_impossible': False}),\n",
       " Prediction(uid=165308, iid='0380796090', r_ui=8.0, est=8.175558163343984, details={'was_impossible': False}),\n",
       " Prediction(uid=55441, iid='0688170528', r_ui=8.0, est=7.8369216687040035, details={'was_impossible': False}),\n",
       " Prediction(uid=208671, iid='0310220033', r_ui=8.0, est=7.267376626226257, details={'was_impossible': False}),\n",
       " Prediction(uid=266866, iid='1852920882', r_ui=8.0, est=7.648951212068136, details={'was_impossible': False}),\n",
       " Prediction(uid=78973, iid='0385729332', r_ui=7.0, est=8.006796511916262, details={'was_impossible': False}),\n",
       " Prediction(uid=32773, iid='0671641409', r_ui=7.0, est=7.962050049749788, details={'was_impossible': False}),\n",
       " Prediction(uid=241980, iid='0671873199', r_ui=10.0, est=8.869328000535557, details={'was_impossible': False}),\n",
       " Prediction(uid=65218, iid='0679785892', r_ui=10.0, est=8.47920993818917, details={'was_impossible': False}),\n",
       " Prediction(uid=140000, iid='0140440720', r_ui=9.0, est=8.109509162059954, details={'was_impossible': False}),\n",
       " Prediction(uid=26593, iid='0385472951', r_ui=8.0, est=8.179198282770413, details={'was_impossible': False}),\n",
       " Prediction(uid=110888, iid='0349100136', r_ui=8.0, est=7.705496505511517, details={'was_impossible': False}),\n",
       " Prediction(uid=78973, iid='0740704575', r_ui=8.0, est=7.960511069920851, details={'was_impossible': False}),\n",
       " Prediction(uid=264152, iid='0380788624', r_ui=10.0, est=8.313757439637133, details={'was_impossible': False}),\n",
       " Prediction(uid=66942, iid='0312106122', r_ui=8.0, est=7.540360468074203, details={'was_impossible': False}),\n",
       " Prediction(uid=105956, iid='0802130852', r_ui=8.0, est=7.662036651282339, details={'was_impossible': False}),\n",
       " Prediction(uid=28373, iid='0452273838', r_ui=5.0, est=7.615494965520616, details={'was_impossible': False}),\n",
       " Prediction(uid=221327, iid='0385026331', r_ui=5.0, est=5.803697313998224, details={'was_impossible': False}),\n",
       " Prediction(uid=16795, iid='0800754344', r_ui=8.0, est=7.250485268051287, details={'was_impossible': False}),\n",
       " Prediction(uid=105517, iid='0688171877', r_ui=9.0, est=6.950701605318966, details={'was_impossible': False}),\n",
       " Prediction(uid=11676, iid='1551669587', r_ui=2.0, est=2.855696968200891, details={'was_impossible': False}),\n",
       " Prediction(uid=189139, iid='0879979526', r_ui=8.0, est=7.124987888597755, details={'was_impossible': False}),\n",
       " Prediction(uid=175000, iid='044021145X', r_ui=9.0, est=9.06856323734722, details={'was_impossible': False}),\n",
       " Prediction(uid=163751, iid='0380977788', r_ui=10.0, est=8.842364438839226, details={'was_impossible': False}),\n",
       " Prediction(uid=177531, iid='0060977477', r_ui=10.0, est=8.461556880075696, details={'was_impossible': False}),\n",
       " Prediction(uid=51805, iid='0446607711', r_ui=9.0, est=7.735274693896253, details={'was_impossible': False}),\n",
       " Prediction(uid=114544, iid='0312243022', r_ui=8.0, est=6.90726457759235, details={'was_impossible': False}),\n",
       " Prediction(uid=261886, iid='3499224615', r_ui=10.0, est=9.499067408862023, details={'was_impossible': False}),\n",
       " Prediction(uid=247129, iid='0762406984', r_ui=10.0, est=8.089132797886863, details={'was_impossible': False}),\n",
       " Prediction(uid=11676, iid='0553562754', r_ui=6.0, est=4.838083389901733, details={'was_impossible': False}),\n",
       " Prediction(uid=158774, iid='067978148X', r_ui=8.0, est=6.261242957864154, details={'was_impossible': False}),\n",
       " Prediction(uid=78015, iid='0684848783', r_ui=8.0, est=7.444296392019169, details={'was_impossible': False}),\n",
       " Prediction(uid=19725, iid='0142001740', r_ui=10.0, est=8.230388678741162, details={'was_impossible': False}),\n",
       " Prediction(uid=37034, iid='8807810212', r_ui=3.0, est=5.017679524049785, details={'was_impossible': False}),\n",
       " Prediction(uid=238065, iid='0440177049', r_ui=10.0, est=8.606586897827919, details={'was_impossible': False}),\n",
       " Prediction(uid=74505, iid='0451191145', r_ui=6.0, est=7.244722432789172, details={'was_impossible': False}),\n",
       " Prediction(uid=80234, iid='0226170314', r_ui=8.0, est=7.956048945126086, details={'was_impossible': False}),\n",
       " Prediction(uid=126736, iid='0446601241', r_ui=8.0, est=5.553898396428822, details={'was_impossible': False}),\n",
       " Prediction(uid=171157, iid='0553225855', r_ui=7.0, est=7.4286202449612775, details={'was_impossible': False}),\n",
       " Prediction(uid=152514, iid='0553445235', r_ui=10.0, est=9.602202543197699, details={'was_impossible': False}),\n",
       " Prediction(uid=98758, iid='0671011375', r_ui=9.0, est=8.133648269297543, details={'was_impossible': False}),\n",
       " Prediction(uid=1211, iid='2266085778', r_ui=2.0, est=7.36558720589452, details={'was_impossible': False}),\n",
       " Prediction(uid=78973, iid='0393321975', r_ui=7.0, est=7.632031120769385, details={'was_impossible': False}),\n",
       " Prediction(uid=262613, iid='1896496040', r_ui=8.0, est=7.6334602831087315, details={'was_impossible': False}),\n",
       " Prediction(uid=242409, iid='0399523480', r_ui=5.0, est=7.0149140538374954, details={'was_impossible': False}),\n",
       " Prediction(uid=22521, iid='0385327935', r_ui=5.0, est=7.2285653315546075, details={'was_impossible': False}),\n",
       " Prediction(uid=134171, iid='1558745157', r_ui=10.0, est=8.430224561964838, details={'was_impossible': False}),\n",
       " Prediction(uid=273113, iid='1551665344', r_ui=5.0, est=4.71034577583852, details={'was_impossible': False}),\n",
       " Prediction(uid=6242, iid='0312130279', r_ui=7.0, est=6.26042000350493, details={'was_impossible': False}),\n",
       " Prediction(uid=196018, iid='0517582422', r_ui=5.0, est=5.182721986468841, details={'was_impossible': False}),\n",
       " Prediction(uid=98391, iid='0399148620', r_ui=8.0, est=8.90945444718964, details={'was_impossible': False}),\n",
       " Prediction(uid=61427, iid='0440472431', r_ui=5.0, est=8.18640353305168, details={'was_impossible': False}),\n",
       " Prediction(uid=211491, iid='0140236392', r_ui=9.0, est=7.877154012248145, details={'was_impossible': False}),\n",
       " Prediction(uid=193499, iid='0679879250', r_ui=9.0, est=8.474172649381758, details={'was_impossible': False}),\n",
       " Prediction(uid=27869, iid='0142001422', r_ui=7.0, est=7.395007431860681, details={'was_impossible': False}),\n",
       " Prediction(uid=248214, iid='0446527696', r_ui=7.0, est=7.57905364871622, details={'was_impossible': False}),\n",
       " Prediction(uid=93358, iid='0671003755', r_ui=8.0, est=7.250671742236127, details={'was_impossible': False}),\n",
       " Prediction(uid=274111, iid='0226317641', r_ui=8.0, est=8.447522652861027, details={'was_impossible': False}),\n",
       " Prediction(uid=101851, iid='0441645763', r_ui=8.0, est=8.677273361617505, details={'was_impossible': False}),\n",
       " Prediction(uid=47605, iid='0515093203', r_ui=8.0, est=6.517638897496287, details={'was_impossible': False}),\n",
       " Prediction(uid=230522, iid='0448210320', r_ui=10.0, est=8.355181060248155, details={'was_impossible': False}),\n",
       " Prediction(uid=58152, iid='0002261022', r_ui=7.0, est=7.395216476421298, details={'was_impossible': False}),\n",
       " Prediction(uid=175052, iid='0671695843', r_ui=6.0, est=7.40906754871771, details={'was_impossible': False}),\n",
       " Prediction(uid=37527, iid='2070726908', r_ui=7.0, est=7.896200079498906, details={'was_impossible': False}),\n",
       " Prediction(uid=128593, iid='0811821706', r_ui=7.0, est=7.711301987842548, details={'was_impossible': False}),\n",
       " Prediction(uid=31349, iid='0385319207', r_ui=7.0, est=8.03202032053074, details={'was_impossible': False}),\n",
       " Prediction(uid=9613, iid='0441005748', r_ui=7.0, est=7.872141257166954, details={'was_impossible': False}),\n",
       " Prediction(uid=98391, iid='0373750048', r_ui=10.0, est=9.053220698585763, details={'was_impossible': False}),\n",
       " Prediction(uid=62895, iid='1853260118', r_ui=5.0, est=6.766964345133021, details={'was_impossible': False}),\n",
       " Prediction(uid=93047, iid='1561631523', r_ui=9.0, est=7.624283521392703, details={'was_impossible': False}),\n",
       " Prediction(uid=169699, iid='0060391677', r_ui=5.0, est=6.367156715820769, details={'was_impossible': False}),\n",
       " Prediction(uid=189835, iid='0896214400', r_ui=5.0, est=5.1989876661312895, details={'was_impossible': False}),\n",
       " Prediction(uid=48995, iid='0394541464', r_ui=5.0, est=6.517016166484661, details={'was_impossible': False}),\n",
       " Prediction(uid=38281, iid='8445071416', r_ui=8.0, est=7.887313917226595, details={'was_impossible': False}),\n",
       " Prediction(uid=212275, iid='0375800387', r_ui=8.0, est=5.937057123463231, details={'was_impossible': False}),\n",
       " Prediction(uid=213718, iid='0439139597', r_ui=10.0, est=8.95374997371081, details={'was_impossible': False}),\n",
       " Prediction(uid=1733, iid='0373168438', r_ui=9.0, est=7.778665952669532, details={'was_impossible': False}),\n",
       " Prediction(uid=22747, iid='0140111816', r_ui=4.0, est=6.668449487644182, details={'was_impossible': False}),\n",
       " Prediction(uid=150767, iid='0451211049', r_ui=8.0, est=6.544907330006056, details={'was_impossible': False}),\n",
       " Prediction(uid=73046, iid='0440213525', r_ui=7.0, est=7.8457973677537804, details={'was_impossible': False}),\n",
       " Prediction(uid=103457, iid='068484477X', r_ui=7.0, est=8.019268205421987, details={'was_impossible': False}),\n",
       " Prediction(uid=145912, iid='0689806981', r_ui=8.0, est=8.013068256116906, details={'was_impossible': False}),\n",
       " Prediction(uid=63394, iid='0316341002', r_ui=5.0, est=7.003352916567328, details={'was_impossible': False}),\n",
       " Prediction(uid=206944, iid='080213825X', r_ui=6.0, est=5.554709831920816, details={'was_impossible': False}),\n",
       " Prediction(uid=153662, iid='0590937774', r_ui=8.0, est=8.176982865139829, details={'was_impossible': False}),\n",
       " Prediction(uid=11676, iid='3499228270', r_ui=6.0, est=6.151065700610319, details={'was_impossible': False}),\n",
       " Prediction(uid=179718, iid='055356160X', r_ui=10.0, est=8.860765027416628, details={'was_impossible': False}),\n",
       " Prediction(uid=236269, iid='0679805273', r_ui=8.0, est=8.697504638201638, details={'was_impossible': False}),\n",
       " ...]"
      ]
     },
     "execution_count": 443,
     "metadata": {},
     "output_type": "execute_result"
    }
   ],
   "source": [
    "gs.test(testset)"
   ]
  },
  {
   "cell_type": "markdown",
   "metadata": {},
   "source": [
    "### Take a particular user_id"
   ]
  },
  {
   "cell_type": "markdown",
   "metadata": {},
   "source": [
    "### Lets find the recommendations for user with id `2110`\n",
    "\n",
    "#### Note: Execute the below cells to get the variables loaded"
   ]
  },
  {
   "cell_type": "code",
   "execution_count": 97,
   "metadata": {},
   "outputs": [],
   "source": [
    "userID = 2110"
   ]
  },
  {
   "cell_type": "code",
   "execution_count": 98,
   "metadata": {},
   "outputs": [],
   "source": [
    "user_id = 2 #2nd row in ratings matrix and predicted matrix"
   ]
  },
  {
   "cell_type": "code",
   "execution_count": 99,
   "metadata": {},
   "outputs": [],
   "source": [
    "# The inner uid for 2110 for this set is 3 probably due to random states differing\n",
    "user_id = 3 #4th row in ratings matrix and predicted matrix"
   ]
  },
  {
   "cell_type": "code",
   "execution_count": 101,
   "metadata": {},
   "outputs": [
    {
     "data": {
      "text/plain": [
       "2110"
      ]
     },
     "execution_count": 101,
     "metadata": {},
     "output_type": "execute_result"
    }
   ],
   "source": [
    "trainset_full.to_raw_uid(3)"
   ]
  },
  {
   "cell_type": "markdown",
   "metadata": {},
   "source": [
    "### Get the predicted ratings for userID `2110` and sort them in descending order"
   ]
  },
  {
   "cell_type": "code",
   "execution_count": 100,
   "metadata": {},
   "outputs": [
    {
     "name": "stdout",
     "output_type": "stream",
     "text": [
      "(449, 50)\n",
      "(66572, 50)\n"
     ]
    }
   ],
   "source": [
    "user_factors = svd_model.pu\n",
    "print(user_factors.shape)\n",
    "item_factors = svd_model.qi\n",
    "print(item_factors.shape)"
   ]
  },
  {
   "cell_type": "code",
   "execution_count": 82,
   "metadata": {},
   "outputs": [],
   "source": [
    "pred = np.dot(user_factors,np.transpose(item_factors))"
   ]
  },
  {
   "cell_type": "code",
   "execution_count": 83,
   "metadata": {},
   "outputs": [
    {
     "data": {
      "text/plain": [
       "(449, 66572)"
      ]
     },
     "execution_count": 83,
     "metadata": {},
     "output_type": "execute_result"
    }
   ],
   "source": [
    "pred.shape"
   ]
  },
  {
   "cell_type": "code",
   "execution_count": 108,
   "metadata": {},
   "outputs": [
    {
     "data": {
      "text/plain": [
       "array([6.03309965, 2.42600075, 4.24440656, ..., 2.70812504, 4.11119698,\n",
       "       4.69983831])"
      ]
     },
     "execution_count": 108,
     "metadata": {},
     "output_type": "execute_result"
    }
   ],
   "source": [
    "pred[user_id]"
   ]
  },
  {
   "cell_type": "code",
   "execution_count": 160,
   "metadata": {},
   "outputs": [],
   "source": [
    "df_2110 = pd.DataFrame([[trainset_full.to_raw_iid(x[0]),x[1]] for x in zip(trainset_full.all_items(), pred[user_id])],columns=['ISBN','predicted_rating'])\n",
    "df_2110 = df_2110.sort_values(by='predicted_rating', ascending=False).join(books[['bookTitle','ISBN']].set_index('ISBN'), on='ISBN').reset_index(drop=True)"
   ]
  },
  {
   "cell_type": "code",
   "execution_count": 163,
   "metadata": {},
   "outputs": [
    {
     "data": {
      "text/html": [
       "<div>\n",
       "<style scoped>\n",
       "    .dataframe tbody tr th:only-of-type {\n",
       "        vertical-align: middle;\n",
       "    }\n",
       "\n",
       "    .dataframe tbody tr th {\n",
       "        vertical-align: top;\n",
       "    }\n",
       "\n",
       "    .dataframe thead th {\n",
       "        text-align: right;\n",
       "    }\n",
       "</style>\n",
       "<table border=\"1\" class=\"dataframe\">\n",
       "  <thead>\n",
       "    <tr style=\"text-align: right;\">\n",
       "      <th></th>\n",
       "      <th>ISBN</th>\n",
       "      <th>predicted_rating</th>\n",
       "      <th>bookTitle</th>\n",
       "    </tr>\n",
       "  </thead>\n",
       "  <tbody>\n",
       "    <tr>\n",
       "      <th>0</th>\n",
       "      <td>0345283929</td>\n",
       "      <td>10.120177</td>\n",
       "      <td>Empire Strikes Back Wars</td>\n",
       "    </tr>\n",
       "    <tr>\n",
       "      <th>1</th>\n",
       "      <td>0345314255</td>\n",
       "      <td>10.042302</td>\n",
       "      <td>Sword of Shannara</td>\n",
       "    </tr>\n",
       "    <tr>\n",
       "      <th>2</th>\n",
       "      <td>0345317580</td>\n",
       "      <td>9.998067</td>\n",
       "      <td>Magic Kingdom for Sale - Sold! (Magic Kingdom ...</td>\n",
       "    </tr>\n",
       "    <tr>\n",
       "      <th>3</th>\n",
       "      <td>0812505042</td>\n",
       "      <td>9.964236</td>\n",
       "      <td>The Time Machine</td>\n",
       "    </tr>\n",
       "    <tr>\n",
       "      <th>4</th>\n",
       "      <td>0486270718</td>\n",
       "      <td>9.958081</td>\n",
       "      <td>The Invisible Man (Dover Thrift Editions)</td>\n",
       "    </tr>\n",
       "    <tr>\n",
       "      <th>5</th>\n",
       "      <td>0345335287</td>\n",
       "      <td>9.956503</td>\n",
       "      <td>The Black Unicorn (Magic Kingdom of Landover N...</td>\n",
       "    </tr>\n",
       "    <tr>\n",
       "      <th>6</th>\n",
       "      <td>0441000150</td>\n",
       "      <td>9.948023</td>\n",
       "      <td>Quantum Leap: The Wall (Quantum Leap)</td>\n",
       "    </tr>\n",
       "    <tr>\n",
       "      <th>7</th>\n",
       "      <td>0671751174</td>\n",
       "      <td>9.944902</td>\n",
       "      <td>First Evil (Fear Street Cheerleaders 1) : Firs...</td>\n",
       "    </tr>\n",
       "    <tr>\n",
       "      <th>8</th>\n",
       "      <td>0345362276</td>\n",
       "      <td>9.940841</td>\n",
       "      <td>Wizard at Large (Rookies Series)</td>\n",
       "    </tr>\n",
       "    <tr>\n",
       "      <th>9</th>\n",
       "      <td>0590629808</td>\n",
       "      <td>9.915123</td>\n",
       "      <td>The Message (Animorphs , No 4)</td>\n",
       "    </tr>\n",
       "  </tbody>\n",
       "</table>\n",
       "</div>"
      ],
      "text/plain": [
       "         ISBN  predicted_rating  \\\n",
       "0  0345283929         10.120177   \n",
       "1  0345314255         10.042302   \n",
       "2  0345317580          9.998067   \n",
       "3  0812505042          9.964236   \n",
       "4  0486270718          9.958081   \n",
       "5  0345335287          9.956503   \n",
       "6  0441000150          9.948023   \n",
       "7  0671751174          9.944902   \n",
       "8  0345362276          9.940841   \n",
       "9  0590629808          9.915123   \n",
       "\n",
       "                                           bookTitle  \n",
       "0                           Empire Strikes Back Wars  \n",
       "1                                  Sword of Shannara  \n",
       "2  Magic Kingdom for Sale - Sold! (Magic Kingdom ...  \n",
       "3                                   The Time Machine  \n",
       "4          The Invisible Man (Dover Thrift Editions)  \n",
       "5  The Black Unicorn (Magic Kingdom of Landover N...  \n",
       "6              Quantum Leap: The Wall (Quantum Leap)  \n",
       "7  First Evil (Fear Street Cheerleaders 1) : Firs...  \n",
       "8                   Wizard at Large (Rookies Series)  \n",
       "9                     The Message (Animorphs , No 4)  "
      ]
     },
     "execution_count": 163,
     "metadata": {},
     "output_type": "execute_result"
    }
   ],
   "source": [
    "df_2110.head(10)"
   ]
  },
  {
   "cell_type": "markdown",
   "metadata": {},
   "source": [
    "### Create a dataframe with name `user_data` containing userID `2110` explicitly interacted books"
   ]
  },
  {
   "cell_type": "code",
   "execution_count": 164,
   "metadata": {},
   "outputs": [],
   "source": [
    "user_data = qualified_ratings[qualified_ratings['userID'] == 2110]"
   ]
  },
  {
   "cell_type": "code",
   "execution_count": 165,
   "metadata": {},
   "outputs": [
    {
     "data": {
      "text/html": [
       "<div>\n",
       "<style scoped>\n",
       "    .dataframe tbody tr th:only-of-type {\n",
       "        vertical-align: middle;\n",
       "    }\n",
       "\n",
       "    .dataframe tbody tr th {\n",
       "        vertical-align: top;\n",
       "    }\n",
       "\n",
       "    .dataframe thead th {\n",
       "        text-align: right;\n",
       "    }\n",
       "</style>\n",
       "<table border=\"1\" class=\"dataframe\">\n",
       "  <thead>\n",
       "    <tr style=\"text-align: right;\">\n",
       "      <th></th>\n",
       "      <th>userID</th>\n",
       "      <th>ISBN</th>\n",
       "      <th>bookRating</th>\n",
       "    </tr>\n",
       "  </thead>\n",
       "  <tbody>\n",
       "    <tr>\n",
       "      <th>14448</th>\n",
       "      <td>2110</td>\n",
       "      <td>0060987529</td>\n",
       "      <td>7</td>\n",
       "    </tr>\n",
       "    <tr>\n",
       "      <th>14449</th>\n",
       "      <td>2110</td>\n",
       "      <td>0064472779</td>\n",
       "      <td>8</td>\n",
       "    </tr>\n",
       "    <tr>\n",
       "      <th>14450</th>\n",
       "      <td>2110</td>\n",
       "      <td>0140022651</td>\n",
       "      <td>10</td>\n",
       "    </tr>\n",
       "    <tr>\n",
       "      <th>14452</th>\n",
       "      <td>2110</td>\n",
       "      <td>0142302163</td>\n",
       "      <td>8</td>\n",
       "    </tr>\n",
       "    <tr>\n",
       "      <th>14453</th>\n",
       "      <td>2110</td>\n",
       "      <td>0151008116</td>\n",
       "      <td>5</td>\n",
       "    </tr>\n",
       "  </tbody>\n",
       "</table>\n",
       "</div>"
      ],
      "text/plain": [
       "       userID        ISBN  bookRating\n",
       "14448    2110  0060987529           7\n",
       "14449    2110  0064472779           8\n",
       "14450    2110  0140022651          10\n",
       "14452    2110  0142302163           8\n",
       "14453    2110  0151008116           5"
      ]
     },
     "execution_count": 165,
     "metadata": {},
     "output_type": "execute_result"
    }
   ],
   "source": [
    "user_data.head()"
   ]
  },
  {
   "cell_type": "code",
   "execution_count": 166,
   "metadata": {
    "scrolled": true
   },
   "outputs": [
    {
     "data": {
      "text/plain": [
       "(103, 3)"
      ]
     },
     "execution_count": 166,
     "metadata": {},
     "output_type": "execute_result"
    }
   ],
   "source": [
    "user_data.shape"
   ]
  },
  {
   "cell_type": "code",
   "execution_count": 67,
   "metadata": {},
   "outputs": [
    {
     "data": {
      "text/html": [
       "<div>\n",
       "<style scoped>\n",
       "    .dataframe tbody tr th:only-of-type {\n",
       "        vertical-align: middle;\n",
       "    }\n",
       "\n",
       "    .dataframe tbody tr th {\n",
       "        vertical-align: top;\n",
       "    }\n",
       "\n",
       "    .dataframe thead th {\n",
       "        text-align: right;\n",
       "    }\n",
       "</style>\n",
       "<table border=\"1\" class=\"dataframe\">\n",
       "  <thead>\n",
       "    <tr style=\"text-align: right;\">\n",
       "      <th></th>\n",
       "      <th>userID</th>\n",
       "      <th>ISBN</th>\n",
       "      <th>bookRating</th>\n",
       "    </tr>\n",
       "  </thead>\n",
       "  <tbody>\n",
       "    <tr>\n",
       "      <th>14448</th>\n",
       "      <td>2110</td>\n",
       "      <td>0060987529</td>\n",
       "      <td>7</td>\n",
       "    </tr>\n",
       "    <tr>\n",
       "      <th>14449</th>\n",
       "      <td>2110</td>\n",
       "      <td>0064472779</td>\n",
       "      <td>8</td>\n",
       "    </tr>\n",
       "    <tr>\n",
       "      <th>14450</th>\n",
       "      <td>2110</td>\n",
       "      <td>0140022651</td>\n",
       "      <td>10</td>\n",
       "    </tr>\n",
       "    <tr>\n",
       "      <th>14452</th>\n",
       "      <td>2110</td>\n",
       "      <td>0142302163</td>\n",
       "      <td>8</td>\n",
       "    </tr>\n",
       "    <tr>\n",
       "      <th>14453</th>\n",
       "      <td>2110</td>\n",
       "      <td>0151008116</td>\n",
       "      <td>5</td>\n",
       "    </tr>\n",
       "  </tbody>\n",
       "</table>\n",
       "</div>"
      ],
      "text/plain": [
       "       userID        ISBN  bookRating\n",
       "14448    2110  0060987529           7\n",
       "14449    2110  0064472779           8\n",
       "14450    2110  0140022651          10\n",
       "14452    2110  0142302163           8\n",
       "14453    2110  0151008116           5"
      ]
     },
     "execution_count": 67,
     "metadata": {},
     "output_type": "execute_result"
    }
   ],
   "source": [
    "user_data.head()"
   ]
  },
  {
   "cell_type": "code",
   "execution_count": 68,
   "metadata": {
    "scrolled": true
   },
   "outputs": [
    {
     "data": {
      "text/plain": [
       "(103, 3)"
      ]
     },
     "execution_count": 68,
     "metadata": {},
     "output_type": "execute_result"
    }
   ],
   "source": [
    "user_data.shape"
   ]
  },
  {
   "cell_type": "markdown",
   "metadata": {},
   "source": [
    "### Combine the user_data and and corresponding book data(`book_data`) in a single dataframe with name `user_full_info`"
   ]
  },
  {
   "cell_type": "code",
   "execution_count": 167,
   "metadata": {},
   "outputs": [],
   "source": [
    "book_data = books[books['ISBN'].isin(user_data.ISBN)]"
   ]
  },
  {
   "cell_type": "code",
   "execution_count": 168,
   "metadata": {},
   "outputs": [
    {
     "data": {
      "text/plain": [
       "(103, 5)"
      ]
     },
     "execution_count": 168,
     "metadata": {},
     "output_type": "execute_result"
    }
   ],
   "source": [
    "book_data.shape"
   ]
  },
  {
   "cell_type": "code",
   "execution_count": 169,
   "metadata": {
    "scrolled": true
   },
   "outputs": [
    {
     "data": {
      "text/html": [
       "<div>\n",
       "<style scoped>\n",
       "    .dataframe tbody tr th:only-of-type {\n",
       "        vertical-align: middle;\n",
       "    }\n",
       "\n",
       "    .dataframe tbody tr th {\n",
       "        vertical-align: top;\n",
       "    }\n",
       "\n",
       "    .dataframe thead th {\n",
       "        text-align: right;\n",
       "    }\n",
       "</style>\n",
       "<table border=\"1\" class=\"dataframe\">\n",
       "  <thead>\n",
       "    <tr style=\"text-align: right;\">\n",
       "      <th></th>\n",
       "      <th>ISBN</th>\n",
       "      <th>bookTitle</th>\n",
       "      <th>bookAuthor</th>\n",
       "      <th>yearOfPublication</th>\n",
       "      <th>publisher</th>\n",
       "    </tr>\n",
       "  </thead>\n",
       "  <tbody>\n",
       "    <tr>\n",
       "      <th>246</th>\n",
       "      <td>0151008116</td>\n",
       "      <td>Life of Pi</td>\n",
       "      <td>Yann Martel</td>\n",
       "      <td>2002</td>\n",
       "      <td>Harcourt</td>\n",
       "    </tr>\n",
       "    <tr>\n",
       "      <th>904</th>\n",
       "      <td>015216250X</td>\n",
       "      <td>So You Want to Be a Wizard: The First Book in ...</td>\n",
       "      <td>Diane Duane</td>\n",
       "      <td>2001</td>\n",
       "      <td>Magic Carpet Books</td>\n",
       "    </tr>\n",
       "    <tr>\n",
       "      <th>1000</th>\n",
       "      <td>0064472779</td>\n",
       "      <td>All-American Girl</td>\n",
       "      <td>Meg Cabot</td>\n",
       "      <td>2003</td>\n",
       "      <td>HarperTrophy</td>\n",
       "    </tr>\n",
       "    <tr>\n",
       "      <th>1302</th>\n",
       "      <td>0345307674</td>\n",
       "      <td>Return of the Jedi (Star Wars)</td>\n",
       "      <td>James Kahn</td>\n",
       "      <td>1983</td>\n",
       "      <td>Del Rey Books</td>\n",
       "    </tr>\n",
       "    <tr>\n",
       "      <th>1472</th>\n",
       "      <td>0671527215</td>\n",
       "      <td>Hitchhikers's Guide to the Galaxy</td>\n",
       "      <td>Douglas Adams</td>\n",
       "      <td>1984</td>\n",
       "      <td>Pocket</td>\n",
       "    </tr>\n",
       "  </tbody>\n",
       "</table>\n",
       "</div>"
      ],
      "text/plain": [
       "            ISBN                                          bookTitle  \\\n",
       "246   0151008116                                         Life of Pi   \n",
       "904   015216250X  So You Want to Be a Wizard: The First Book in ...   \n",
       "1000  0064472779                                  All-American Girl   \n",
       "1302  0345307674                     Return of the Jedi (Star Wars)   \n",
       "1472  0671527215                  Hitchhikers's Guide to the Galaxy   \n",
       "\n",
       "         bookAuthor  yearOfPublication           publisher  \n",
       "246     Yann Martel               2002            Harcourt  \n",
       "904     Diane Duane               2001  Magic Carpet Books  \n",
       "1000      Meg Cabot               2003        HarperTrophy  \n",
       "1302     James Kahn               1983       Del Rey Books  \n",
       "1472  Douglas Adams               1984              Pocket  "
      ]
     },
     "execution_count": 169,
     "metadata": {},
     "output_type": "execute_result"
    }
   ],
   "source": [
    "book_data.head()"
   ]
  },
  {
   "cell_type": "code",
   "execution_count": 170,
   "metadata": {},
   "outputs": [
    {
     "data": {
      "text/plain": [
       "(103, 5)"
      ]
     },
     "execution_count": 170,
     "metadata": {},
     "output_type": "execute_result"
    }
   ],
   "source": [
    "book_data.shape"
   ]
  },
  {
   "cell_type": "code",
   "execution_count": 71,
   "metadata": {
    "scrolled": true
   },
   "outputs": [
    {
     "data": {
      "text/html": [
       "<div>\n",
       "<style scoped>\n",
       "    .dataframe tbody tr th:only-of-type {\n",
       "        vertical-align: middle;\n",
       "    }\n",
       "\n",
       "    .dataframe tbody tr th {\n",
       "        vertical-align: top;\n",
       "    }\n",
       "\n",
       "    .dataframe thead th {\n",
       "        text-align: right;\n",
       "    }\n",
       "</style>\n",
       "<table border=\"1\" class=\"dataframe\">\n",
       "  <thead>\n",
       "    <tr style=\"text-align: right;\">\n",
       "      <th></th>\n",
       "      <th>ISBN</th>\n",
       "      <th>bookTitle</th>\n",
       "      <th>bookAuthor</th>\n",
       "      <th>yearOfPublication</th>\n",
       "      <th>publisher</th>\n",
       "    </tr>\n",
       "  </thead>\n",
       "  <tbody>\n",
       "    <tr>\n",
       "      <th>246</th>\n",
       "      <td>0151008116</td>\n",
       "      <td>Life of Pi</td>\n",
       "      <td>Yann Martel</td>\n",
       "      <td>2002</td>\n",
       "      <td>Harcourt</td>\n",
       "    </tr>\n",
       "    <tr>\n",
       "      <th>904</th>\n",
       "      <td>015216250X</td>\n",
       "      <td>So You Want to Be a Wizard: The First Book in ...</td>\n",
       "      <td>Diane Duane</td>\n",
       "      <td>2001</td>\n",
       "      <td>Magic Carpet Books</td>\n",
       "    </tr>\n",
       "    <tr>\n",
       "      <th>1000</th>\n",
       "      <td>0064472779</td>\n",
       "      <td>All-American Girl</td>\n",
       "      <td>Meg Cabot</td>\n",
       "      <td>2003</td>\n",
       "      <td>HarperTrophy</td>\n",
       "    </tr>\n",
       "    <tr>\n",
       "      <th>1302</th>\n",
       "      <td>0345307674</td>\n",
       "      <td>Return of the Jedi (Star Wars)</td>\n",
       "      <td>James Kahn</td>\n",
       "      <td>1983</td>\n",
       "      <td>Del Rey Books</td>\n",
       "    </tr>\n",
       "    <tr>\n",
       "      <th>1472</th>\n",
       "      <td>0671527215</td>\n",
       "      <td>Hitchhikers's Guide to the Galaxy</td>\n",
       "      <td>Douglas Adams</td>\n",
       "      <td>1984</td>\n",
       "      <td>Pocket</td>\n",
       "    </tr>\n",
       "  </tbody>\n",
       "</table>\n",
       "</div>"
      ],
      "text/plain": [
       "            ISBN                                          bookTitle  \\\n",
       "246   0151008116                                         Life of Pi   \n",
       "904   015216250X  So You Want to Be a Wizard: The First Book in ...   \n",
       "1000  0064472779                                  All-American Girl   \n",
       "1302  0345307674                     Return of the Jedi (Star Wars)   \n",
       "1472  0671527215                  Hitchhikers's Guide to the Galaxy   \n",
       "\n",
       "         bookAuthor  yearOfPublication           publisher  \n",
       "246     Yann Martel               2002            Harcourt  \n",
       "904     Diane Duane               2001  Magic Carpet Books  \n",
       "1000      Meg Cabot               2003        HarperTrophy  \n",
       "1302     James Kahn               1983       Del Rey Books  \n",
       "1472  Douglas Adams               1984              Pocket  "
      ]
     },
     "execution_count": 71,
     "metadata": {},
     "output_type": "execute_result"
    }
   ],
   "source": [
    "book_data.head()"
   ]
  },
  {
   "cell_type": "code",
   "execution_count": 171,
   "metadata": {},
   "outputs": [],
   "source": [
    "user_full_info = user_data.join(book_data.set_index('ISBN'), on='ISBN').reset_index(drop=True)"
   ]
  },
  {
   "cell_type": "code",
   "execution_count": 172,
   "metadata": {
    "scrolled": true
   },
   "outputs": [
    {
     "data": {
      "text/html": [
       "<div>\n",
       "<style scoped>\n",
       "    .dataframe tbody tr th:only-of-type {\n",
       "        vertical-align: middle;\n",
       "    }\n",
       "\n",
       "    .dataframe tbody tr th {\n",
       "        vertical-align: top;\n",
       "    }\n",
       "\n",
       "    .dataframe thead th {\n",
       "        text-align: right;\n",
       "    }\n",
       "</style>\n",
       "<table border=\"1\" class=\"dataframe\">\n",
       "  <thead>\n",
       "    <tr style=\"text-align: right;\">\n",
       "      <th></th>\n",
       "      <th>userID</th>\n",
       "      <th>ISBN</th>\n",
       "      <th>bookRating</th>\n",
       "      <th>bookTitle</th>\n",
       "      <th>bookAuthor</th>\n",
       "      <th>yearOfPublication</th>\n",
       "      <th>publisher</th>\n",
       "    </tr>\n",
       "  </thead>\n",
       "  <tbody>\n",
       "    <tr>\n",
       "      <th>0</th>\n",
       "      <td>2110</td>\n",
       "      <td>0060987529</td>\n",
       "      <td>7</td>\n",
       "      <td>Confessions of an Ugly Stepsister : A Novel</td>\n",
       "      <td>Gregory Maguire</td>\n",
       "      <td>2000</td>\n",
       "      <td>Regan Books</td>\n",
       "    </tr>\n",
       "    <tr>\n",
       "      <th>1</th>\n",
       "      <td>2110</td>\n",
       "      <td>0064472779</td>\n",
       "      <td>8</td>\n",
       "      <td>All-American Girl</td>\n",
       "      <td>Meg Cabot</td>\n",
       "      <td>2003</td>\n",
       "      <td>HarperTrophy</td>\n",
       "    </tr>\n",
       "    <tr>\n",
       "      <th>2</th>\n",
       "      <td>2110</td>\n",
       "      <td>0140022651</td>\n",
       "      <td>10</td>\n",
       "      <td>Journey to the Center of the Earth</td>\n",
       "      <td>Jules Verne</td>\n",
       "      <td>1965</td>\n",
       "      <td>Penguin Books</td>\n",
       "    </tr>\n",
       "    <tr>\n",
       "      <th>3</th>\n",
       "      <td>2110</td>\n",
       "      <td>0142302163</td>\n",
       "      <td>8</td>\n",
       "      <td>The Ghost Sitter</td>\n",
       "      <td>Peni R. Griffin</td>\n",
       "      <td>2002</td>\n",
       "      <td>Puffin Books</td>\n",
       "    </tr>\n",
       "    <tr>\n",
       "      <th>4</th>\n",
       "      <td>2110</td>\n",
       "      <td>0151008116</td>\n",
       "      <td>5</td>\n",
       "      <td>Life of Pi</td>\n",
       "      <td>Yann Martel</td>\n",
       "      <td>2002</td>\n",
       "      <td>Harcourt</td>\n",
       "    </tr>\n",
       "  </tbody>\n",
       "</table>\n",
       "</div>"
      ],
      "text/plain": [
       "   userID        ISBN  bookRating  \\\n",
       "0    2110  0060987529           7   \n",
       "1    2110  0064472779           8   \n",
       "2    2110  0140022651          10   \n",
       "3    2110  0142302163           8   \n",
       "4    2110  0151008116           5   \n",
       "\n",
       "                                     bookTitle       bookAuthor  \\\n",
       "0  Confessions of an Ugly Stepsister : A Novel  Gregory Maguire   \n",
       "1                            All-American Girl        Meg Cabot   \n",
       "2           Journey to the Center of the Earth      Jules Verne   \n",
       "3                             The Ghost Sitter  Peni R. Griffin   \n",
       "4                                   Life of Pi      Yann Martel   \n",
       "\n",
       "   yearOfPublication      publisher  \n",
       "0               2000    Regan Books  \n",
       "1               2003   HarperTrophy  \n",
       "2               1965  Penguin Books  \n",
       "3               2002   Puffin Books  \n",
       "4               2002       Harcourt  "
      ]
     },
     "execution_count": 172,
     "metadata": {},
     "output_type": "execute_result"
    }
   ],
   "source": [
    "user_full_info.head()"
   ]
  },
  {
   "cell_type": "code",
   "execution_count": 73,
   "metadata": {
    "scrolled": true
   },
   "outputs": [
    {
     "data": {
      "text/html": [
       "<div>\n",
       "<style scoped>\n",
       "    .dataframe tbody tr th:only-of-type {\n",
       "        vertical-align: middle;\n",
       "    }\n",
       "\n",
       "    .dataframe tbody tr th {\n",
       "        vertical-align: top;\n",
       "    }\n",
       "\n",
       "    .dataframe thead th {\n",
       "        text-align: right;\n",
       "    }\n",
       "</style>\n",
       "<table border=\"1\" class=\"dataframe\">\n",
       "  <thead>\n",
       "    <tr style=\"text-align: right;\">\n",
       "      <th></th>\n",
       "      <th>userID</th>\n",
       "      <th>ISBN</th>\n",
       "      <th>bookRating</th>\n",
       "      <th>bookTitle</th>\n",
       "      <th>bookAuthor</th>\n",
       "      <th>yearOfPublication</th>\n",
       "      <th>publisher</th>\n",
       "    </tr>\n",
       "  </thead>\n",
       "  <tbody>\n",
       "    <tr>\n",
       "      <th>0</th>\n",
       "      <td>2110</td>\n",
       "      <td>0060987529</td>\n",
       "      <td>7</td>\n",
       "      <td>Confessions of an Ugly Stepsister : A Novel</td>\n",
       "      <td>Gregory Maguire</td>\n",
       "      <td>2000</td>\n",
       "      <td>Regan Books</td>\n",
       "    </tr>\n",
       "    <tr>\n",
       "      <th>1</th>\n",
       "      <td>2110</td>\n",
       "      <td>0064472779</td>\n",
       "      <td>8</td>\n",
       "      <td>All-American Girl</td>\n",
       "      <td>Meg Cabot</td>\n",
       "      <td>2003</td>\n",
       "      <td>HarperTrophy</td>\n",
       "    </tr>\n",
       "    <tr>\n",
       "      <th>2</th>\n",
       "      <td>2110</td>\n",
       "      <td>0140022651</td>\n",
       "      <td>10</td>\n",
       "      <td>Journey to the Center of the Earth</td>\n",
       "      <td>Jules Verne</td>\n",
       "      <td>1965</td>\n",
       "      <td>Penguin Books</td>\n",
       "    </tr>\n",
       "    <tr>\n",
       "      <th>3</th>\n",
       "      <td>2110</td>\n",
       "      <td>0142302163</td>\n",
       "      <td>8</td>\n",
       "      <td>The Ghost Sitter</td>\n",
       "      <td>Peni R. Griffin</td>\n",
       "      <td>2002</td>\n",
       "      <td>Puffin Books</td>\n",
       "    </tr>\n",
       "    <tr>\n",
       "      <th>4</th>\n",
       "      <td>2110</td>\n",
       "      <td>0151008116</td>\n",
       "      <td>5</td>\n",
       "      <td>Life of Pi</td>\n",
       "      <td>Yann Martel</td>\n",
       "      <td>2002</td>\n",
       "      <td>Harcourt</td>\n",
       "    </tr>\n",
       "  </tbody>\n",
       "</table>\n",
       "</div>"
      ],
      "text/plain": [
       "   userID        ISBN  bookRating  \\\n",
       "0    2110  0060987529           7   \n",
       "1    2110  0064472779           8   \n",
       "2    2110  0140022651          10   \n",
       "3    2110  0142302163           8   \n",
       "4    2110  0151008116           5   \n",
       "\n",
       "                                     bookTitle       bookAuthor  \\\n",
       "0  Confessions of an Ugly Stepsister : A Novel  Gregory Maguire   \n",
       "1                            All-American Girl        Meg Cabot   \n",
       "2           Journey to the Center of the Earth      Jules Verne   \n",
       "3                             The Ghost Sitter  Peni R. Griffin   \n",
       "4                                   Life of Pi      Yann Martel   \n",
       "\n",
       "   yearOfPublication      publisher  \n",
       "0               2000    Regan Books  \n",
       "1               2003   HarperTrophy  \n",
       "2               1965  Penguin Books  \n",
       "3               2002   Puffin Books  \n",
       "4               2002       Harcourt  "
      ]
     },
     "execution_count": 73,
     "metadata": {},
     "output_type": "execute_result"
    }
   ],
   "source": [
    "user_full_info.head()"
   ]
  },
  {
   "cell_type": "markdown",
   "metadata": {},
   "source": [
    "### Get top 10 recommendations for above given userID from the books not already rated by that user"
   ]
  },
  {
   "cell_type": "code",
   "execution_count": 177,
   "metadata": {},
   "outputs": [],
   "source": [
    "testset_new = trainset_full.build_anti_testset()"
   ]
  },
  {
   "cell_type": "code",
   "execution_count": 189,
   "metadata": {},
   "outputs": [
    {
     "data": {
      "text/plain": [
       "[(277427, '0006542808', 7.825397747629976),\n",
       " (277427, '0060392185', 7.825397747629976),\n",
       " (277427, '0140367209', 7.825397747629976),\n",
       " (277427, '0140546499', 7.825397747629976),\n",
       " (277427, '0192816071', 7.825397747629976)]"
      ]
     },
     "execution_count": 189,
     "metadata": {},
     "output_type": "execute_result"
    }
   ],
   "source": [
    "testset_new[0:5]"
   ]
  },
  {
   "cell_type": "code",
   "execution_count": 191,
   "metadata": {},
   "outputs": [],
   "source": [
    "predictions = svd_model.test(testset_new)"
   ]
  },
  {
   "cell_type": "code",
   "execution_count": 192,
   "metadata": {},
   "outputs": [],
   "source": [
    "predictions_df = pd.DataFrame([[x.uid,x.iid,x.est] for x in predictions], columns = [\"userId\", \"item\",\"est_rating\"])"
   ]
  },
  {
   "cell_type": "code",
   "execution_count": 193,
   "metadata": {},
   "outputs": [
    {
     "data": {
      "text/plain": [
       "(29787559, 3)"
      ]
     },
     "execution_count": 193,
     "metadata": {},
     "output_type": "execute_result"
    }
   ],
   "source": [
    "predictions_df.shape"
   ]
  },
  {
   "cell_type": "code",
   "execution_count": 202,
   "metadata": {},
   "outputs": [
    {
     "data": {
      "text/html": [
       "<div>\n",
       "<style scoped>\n",
       "    .dataframe tbody tr th:only-of-type {\n",
       "        vertical-align: middle;\n",
       "    }\n",
       "\n",
       "    .dataframe tbody tr th {\n",
       "        vertical-align: top;\n",
       "    }\n",
       "\n",
       "    .dataframe thead th {\n",
       "        text-align: right;\n",
       "    }\n",
       "</style>\n",
       "<table border=\"1\" class=\"dataframe\">\n",
       "  <thead>\n",
       "    <tr style=\"text-align: right;\">\n",
       "      <th></th>\n",
       "      <th>userId</th>\n",
       "      <th>item</th>\n",
       "      <th>est_rating</th>\n",
       "    </tr>\n",
       "  </thead>\n",
       "  <tbody>\n",
       "    <tr>\n",
       "      <th>0</th>\n",
       "      <td>2110</td>\n",
       "      <td>0440224675</td>\n",
       "      <td>9.117664</td>\n",
       "    </tr>\n",
       "    <tr>\n",
       "      <th>1</th>\n",
       "      <td>2110</td>\n",
       "      <td>039480029X</td>\n",
       "      <td>8.631121</td>\n",
       "    </tr>\n",
       "    <tr>\n",
       "      <th>2</th>\n",
       "      <td>2110</td>\n",
       "      <td>0553250426</td>\n",
       "      <td>8.489506</td>\n",
       "    </tr>\n",
       "    <tr>\n",
       "      <th>3</th>\n",
       "      <td>2110</td>\n",
       "      <td>043935806X</td>\n",
       "      <td>8.449559</td>\n",
       "    </tr>\n",
       "    <tr>\n",
       "      <th>4</th>\n",
       "      <td>2110</td>\n",
       "      <td>0399141146</td>\n",
       "      <td>8.384095</td>\n",
       "    </tr>\n",
       "    <tr>\n",
       "      <th>5</th>\n",
       "      <td>2110</td>\n",
       "      <td>0394800133</td>\n",
       "      <td>8.064011</td>\n",
       "    </tr>\n",
       "    <tr>\n",
       "      <th>6</th>\n",
       "      <td>2110</td>\n",
       "      <td>0689829833</td>\n",
       "      <td>8.019185</td>\n",
       "    </tr>\n",
       "    <tr>\n",
       "      <th>7</th>\n",
       "      <td>2110</td>\n",
       "      <td>0451191145</td>\n",
       "      <td>7.919467</td>\n",
       "    </tr>\n",
       "    <tr>\n",
       "      <th>8</th>\n",
       "      <td>2110</td>\n",
       "      <td>3404148665</td>\n",
       "      <td>7.910334</td>\n",
       "    </tr>\n",
       "    <tr>\n",
       "      <th>9</th>\n",
       "      <td>2110</td>\n",
       "      <td>0786861347</td>\n",
       "      <td>7.762145</td>\n",
       "    </tr>\n",
       "  </tbody>\n",
       "</table>\n",
       "</div>"
      ],
      "text/plain": [
       "   userId        item  est_rating\n",
       "0    2110  0440224675    9.117664\n",
       "1    2110  039480029X    8.631121\n",
       "2    2110  0553250426    8.489506\n",
       "3    2110  043935806X    8.449559\n",
       "4    2110  0399141146    8.384095\n",
       "5    2110  0394800133    8.064011\n",
       "6    2110  0689829833    8.019185\n",
       "7    2110  0451191145    7.919467\n",
       "8    2110  3404148665    7.910334\n",
       "9    2110  0786861347    7.762145"
      ]
     },
     "execution_count": 202,
     "metadata": {},
     "output_type": "execute_result"
    }
   ],
   "source": [
    "# Top 10 recommendations for 2110\n",
    "predictions_df[predictions_df.userId == userID].sort_values(by='est_rating', ascending=False).reset_index(drop=True).head(10)"
   ]
  }
 ],
 "metadata": {
  "kernelspec": {
   "display_name": "Python 3",
   "language": "python",
   "name": "python3"
  },
  "language_info": {
   "codemirror_mode": {
    "name": "ipython",
    "version": 3
   },
   "file_extension": ".py",
   "mimetype": "text/x-python",
   "name": "python",
   "nbconvert_exporter": "python",
   "pygments_lexer": "ipython3",
   "version": "3.6.8"
  }
 },
 "nbformat": 4,
 "nbformat_minor": 2
}
